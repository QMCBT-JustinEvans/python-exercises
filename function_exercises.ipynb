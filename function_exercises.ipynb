{
 "cells": [
  {
   "cell_type": "markdown",
   "id": "e3b8e483",
   "metadata": {},
   "source": [
    "#### Function Exercises\n",
    "\n",
    "Create a file named function_exercises.py for this exercise. After creating each function specified below, write the necessary code in order to test your function."
   ]
  },
  {
   "cell_type": "markdown",
   "id": "3d2cae17",
   "metadata": {},
   "source": [
    "1. Define a function named is_two. It should accept one input and return True if the passed input is either the number or the string 2, False otherwise."
   ]
  },
  {
   "cell_type": "code",
   "execution_count": 126,
   "id": "313f555c",
   "metadata": {},
   "outputs": [
    {
     "name": "stdout",
     "output_type": "stream",
     "text": [
      "Choose a number: 2\n"
     ]
    }
   ],
   "source": [
    "n = input('Choose a number: ')\n",
    "def is_two(n):\n",
    "    return n == 2 or n == '2'"
   ]
  },
  {
   "cell_type": "code",
   "execution_count": 132,
   "id": "f9149eaf",
   "metadata": {},
   "outputs": [
    {
     "data": {
      "text/plain": [
       "True"
      ]
     },
     "execution_count": 132,
     "metadata": {},
     "output_type": "execute_result"
    }
   ],
   "source": [
    "is_two(n)"
   ]
  },
  {
   "cell_type": "markdown",
   "id": "aa1cd8d0",
   "metadata": {},
   "source": [
    "Notes for my own testing curiosity:"
   ]
  },
  {
   "cell_type": "code",
   "execution_count": 125,
   "id": "a2a036b6",
   "metadata": {},
   "outputs": [
    {
     "name": "stdout",
     "output_type": "stream",
     "text": [
      "is_two(n) is int        - False\n",
      "is_two(n) is str        - False\n",
      "is_two(n) is forced int - False\n",
      "is_two(n) is            - True\n",
      "\n",
      "2 is int        - False\n",
      "2 is str        - True\n",
      "2 is forced int - True\n",
      "2 is            - 2\n"
     ]
    }
   ],
   "source": [
    "print(f'is_two(n) is int        -', is_two(n) == 2),\n",
    "print(f'is_two(n) is str        -', is_two(n) == '2'),\n",
    "print(f'is_two(n) is forced int -', int(is_two(n)) == 2)\n",
    "print(f'is_two(n) is            -', is_two(n))\n",
    "print()\n",
    "print(f'{n} is int        -', n == 2),\n",
    "print(f'{n} is str        -', n == '2'),\n",
    "print(f'{n} is forced int -', int(n) == 2)\n",
    "print(f'{n} is            -', n)"
   ]
  },
  {
   "cell_type": "markdown",
   "id": "062bd022",
   "metadata": {},
   "source": [
    "2. Define a function named is_vowel. It should return True if the passed string is a vowel, False otherwise."
   ]
  },
  {
   "cell_type": "code",
   "execution_count": 143,
   "id": "df2fa6db",
   "metadata": {},
   "outputs": [
    {
     "name": "stdout",
     "output_type": "stream",
     "text": [
      "Choose a vowel: A\n"
     ]
    }
   ],
   "source": [
    "v = input('Choose a vowel: ').lower()\n",
    "vowels = ('a', 'e', 'i', 'o', 'u')\n",
    "def is_vowel(v):\n",
    "    if v in vowels:\n",
    "        return True"
   ]
  },
  {
   "cell_type": "code",
   "execution_count": 144,
   "id": "140a86b9",
   "metadata": {},
   "outputs": [
    {
     "data": {
      "text/plain": [
       "True"
      ]
     },
     "execution_count": 144,
     "metadata": {},
     "output_type": "execute_result"
    }
   ],
   "source": [
    "is_vowel(v)"
   ]
  },
  {
   "cell_type": "markdown",
   "id": "6f74b13c",
   "metadata": {},
   "source": [
    "3. Define a function named is_consonant. It should return True if the passed string is a consonant, False otherwise. Use your is_vowel function to accomplish this."
   ]
  },
  {
   "cell_type": "code",
   "execution_count": 153,
   "id": "f5625b35",
   "metadata": {},
   "outputs": [],
   "source": [
    "vowels = ('a', 'e', 'i', 'o', 'u')\n",
    "\n",
    "def is_consonant(non_vowel):\n",
    "    if non_vowel not in vowels:\n",
    "        return True"
   ]
  },
  {
   "cell_type": "code",
   "execution_count": 151,
   "id": "e05794ab",
   "metadata": {},
   "outputs": [
    {
     "name": "stdout",
     "output_type": "stream",
     "text": [
      "True\n",
      "None\n"
     ]
    }
   ],
   "source": [
    "print(is_consonant('j'))\n",
    "print(is_consonant('a'))"
   ]
  },
  {
   "cell_type": "markdown",
   "id": "6978e0c8",
   "metadata": {},
   "source": [
    "4. Define a function that accepts a string that is a word. The function should capitalize the first letter of the word if the word starts with a consonant."
   ]
  },
  {
   "cell_type": "code",
   "execution_count": 154,
   "id": "932cb066",
   "metadata": {},
   "outputs": [
    {
     "ename": "IndentationError",
     "evalue": "expected an indented block (3573356430.py, line 2)",
     "output_type": "error",
     "traceback": [
      "\u001b[0;36m  Input \u001b[0;32mIn [154]\u001b[0;36m\u001b[0m\n\u001b[0;31m    \u001b[0m\n\u001b[0m    ^\u001b[0m\n\u001b[0;31mIndentationError\u001b[0m\u001b[0;31m:\u001b[0m expected an indented block\n"
     ]
    }
   ],
   "source": [
    "def is_word(word):\n",
    "    "
   ]
  },
  {
   "cell_type": "markdown",
   "id": "0241b4bb",
   "metadata": {},
   "source": [
    "5. Define a function named calculate_tip. It should accept a tip percentage (a number between 0 and 1) and the bill total, and return the amount to tip."
   ]
  },
  {
   "cell_type": "code",
   "execution_count": 186,
   "id": "2562bff6",
   "metadata": {},
   "outputs": [
    {
     "name": "stdout",
     "output_type": "stream",
     "text": [
      "Enter decimal percent between 0-1 (example 20% = 0.20): .20\n",
      "Bill Total: 37.48\n"
     ]
    }
   ],
   "source": [
    "tip_percent = float(input('Enter decimal percent between 0-1 (example 20% = 0.20): '))\n",
    "bill_total = float(input('Bill Total: '))\n",
    "tip = bill_total * tip_percent\n",
    "grand_total = bill_total + tip\n",
    "\n",
    "def calculate_tip(grand_total):\n",
    "    return print(f'${bill_total} Bill Total + {int(tip_percent*100)}% Tip = ${round(tip,2)} for a Grand Total of ${round(grand_total,2)}')"
   ]
  },
  {
   "cell_type": "code",
   "execution_count": 187,
   "id": "d74fda42",
   "metadata": {},
   "outputs": [
    {
     "name": "stdout",
     "output_type": "stream",
     "text": [
      "$37.48 Bill Total + 20% Tip = $7.5 for a Grand Total of $44.98\n"
     ]
    }
   ],
   "source": [
    "calculate_tip(grand_total)"
   ]
  },
  {
   "cell_type": "code",
   "execution_count": 190,
   "id": "ca89785e",
   "metadata": {},
   "outputs": [
    {
     "name": "stdout",
     "output_type": "stream",
     "text": [
      "Tip Percent: 20.0%\n",
      " Bill Total: $37.48\n",
      "        Tip: $7.5\n",
      "Grand Total: $44.98\n"
     ]
    }
   ],
   "source": [
    "print(f'Tip Percent: {tip_percent*100}%')\n",
    "print(f' Bill Total: ${bill_total}')\n",
    "print(f'        Tip: ${round(tip,2)}')\n",
    "print(f'Grand Total: ${round(grand_total,2)}')"
   ]
  },
  {
   "cell_type": "markdown",
   "id": "c7ce1481",
   "metadata": {},
   "source": [
    "6. Define a function named apply_discount. It should accept a original price, and a discount percentage, and return the price after the discount is applied."
   ]
  },
  {
   "cell_type": "code",
   "execution_count": null,
   "id": "2ffb8b17",
   "metadata": {},
   "outputs": [],
   "source": []
  },
  {
   "cell_type": "markdown",
   "id": "d59af4d1",
   "metadata": {},
   "source": [
    "7. Define a function named handle_commas. It should accept a string that is a number that contains commas in it as input, and return a number as output."
   ]
  },
  {
   "cell_type": "code",
   "execution_count": null,
   "id": "85fb583b",
   "metadata": {},
   "outputs": [],
   "source": []
  },
  {
   "cell_type": "markdown",
   "id": "5062a920",
   "metadata": {},
   "source": [
    "8. Define a function named get_letter_grade. It should accept a number and return the letter grade associated with that number (A-F)."
   ]
  },
  {
   "cell_type": "code",
   "execution_count": null,
   "id": "deaa110a",
   "metadata": {},
   "outputs": [],
   "source": []
  },
  {
   "cell_type": "markdown",
   "id": "562e212e",
   "metadata": {},
   "source": [
    "9. Define a function named remove_vowels that accepts a string and returns a string with all the vowels removed."
   ]
  },
  {
   "cell_type": "code",
   "execution_count": null,
   "id": "295a0350",
   "metadata": {},
   "outputs": [],
   "source": []
  },
  {
   "cell_type": "markdown",
   "id": "d3a1524a",
   "metadata": {},
   "source": [
    "10. Define a function named normalize_name. It should accept a string and return a valid python identifier, that is:\n",
    "* anything that is not a valid python identifier should be removed\n",
    "* leading and trailing whitespace should be removed\n",
    "* everything should be lowercase\n",
    "* spaces should be replaced with underscores\n",
    "* for example:\n",
    "\n",
    "    * Name will become name\n",
    "    * First Name will become first_name\n",
    "    * % Completed will become completed"
   ]
  },
  {
   "cell_type": "code",
   "execution_count": null,
   "id": "b1e8e304",
   "metadata": {},
   "outputs": [],
   "source": []
  },
  {
   "cell_type": "markdown",
   "id": "eda88e9b",
   "metadata": {},
   "source": [
    "11. Write a function named cumulative_sum that accepts a list of numbers and returns a list that is the cumulative sum of the numbers in the list.\n",
    "\n",
    "* cumulative_sum([1, 1, 1]) returns [1, 2, 3]\n",
    "* cumulative_sum([1, 2, 3, 4]) returns [1, 3, 6, 10]"
   ]
  },
  {
   "cell_type": "code",
   "execution_count": null,
   "id": "ab02ee5e",
   "metadata": {},
   "outputs": [],
   "source": []
  },
  {
   "cell_type": "markdown",
   "id": "92308222",
   "metadata": {},
   "source": [
    "### Additional Exercise\n",
    "\n",
    "Once you've completed the above exercises, follow the directions from https://gist.github.com/zgulde/ec8ed80ad8216905cda83d5645c60886 \n",
    "in order to thouroughly comment your code to explain your code."
   ]
  },
  {
   "cell_type": "code",
   "execution_count": null,
   "id": "e8205954",
   "metadata": {},
   "outputs": [],
   "source": []
  },
  {
   "cell_type": "markdown",
   "id": "fcbf177a",
   "metadata": {},
   "source": [
    "## Bonus\n",
    "\n",
    "1. Create a function named twelveto24. It should accept a string in the format 10:45am or 4:30pm and return a string that is the representation of the time in a 24-hour format. Bonus write a function that does the opposite."
   ]
  },
  {
   "cell_type": "code",
   "execution_count": null,
   "id": "950cd72c",
   "metadata": {},
   "outputs": [],
   "source": []
  },
  {
   "cell_type": "markdown",
   "id": "35a0d874",
   "metadata": {},
   "source": [
    "2. Create a function named col_index. It should accept a spreadsheet column name, and return the index number of the column.\n",
    "\n",
    "* col_index('A') returns 1\n",
    "* col_index('B') returns 2\n",
    "* col_index('AA') returns 27"
   ]
  },
  {
   "cell_type": "code",
   "execution_count": null,
   "id": "ea17baff",
   "metadata": {},
   "outputs": [],
   "source": []
  }
 ],
 "metadata": {
  "kernelspec": {
   "display_name": "Python 3 (ipykernel)",
   "language": "python",
   "name": "python3"
  },
  "language_info": {
   "codemirror_mode": {
    "name": "ipython",
    "version": 3
   },
   "file_extension": ".py",
   "mimetype": "text/x-python",
   "name": "python",
   "nbconvert_exporter": "python",
   "pygments_lexer": "ipython3",
   "version": "3.9.12"
  }
 },
 "nbformat": 4,
 "nbformat_minor": 5
}
