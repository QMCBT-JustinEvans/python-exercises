{
 "cells": [
  {
   "cell_type": "markdown",
   "id": "5ab999ed",
   "metadata": {},
   "source": [
    "#### Function Exercises\n",
    "\n",
    "Create a file named function_exercises.py for this exercise. After creating each function specified below, write the necessary code in order to test your function."
   ]
  },
  {
   "cell_type": "markdown",
   "id": "f2ed1b23",
   "metadata": {},
   "source": [
    "1. Define a function named is_two. It should accept one input and return True if the passed input is either the number or the string 2, False otherwise."
   ]
  },
  {
   "cell_type": "code",
   "execution_count": 1,
   "id": "0ab6de3c",
   "metadata": {},
   "outputs": [
    {
     "name": "stdout",
     "output_type": "stream",
     "text": [
      "True\n",
      "True\n",
      "False\n"
     ]
    }
   ],
   "source": [
    "def is_two(n):\n",
    "    return n == 2 or n == '2'\n",
    "    \n",
    "print(is_two(2))\n",
    "print(is_two(\"2\"))\n",
    "print(is_two(3))"
   ]
  },
  {
   "cell_type": "markdown",
   "id": "ce8d89c5",
   "metadata": {},
   "source": [
    "Notes for my own testing curiosity:"
   ]
  },
  {
   "cell_type": "markdown",
   "id": "b4f03dd6",
   "metadata": {},
   "source": [
    "2. Define a function named is_vowel. It should return True if the passed string is a vowel, False otherwise."
   ]
  },
  {
   "cell_type": "code",
   "execution_count": 2,
   "id": "7cebe27d",
   "metadata": {},
   "outputs": [
    {
     "name": "stdout",
     "output_type": "stream",
     "text": [
      "True\n",
      "True\n",
      "None\n",
      "None\n"
     ]
    }
   ],
   "source": [
    "def is_vowel(vowel):\n",
    "    vowels = ('a', 'e', 'i', 'o', 'u', 'A', 'E', 'I', 'O', 'U')\n",
    "    if vowel in vowels:\n",
    "        return True\n",
    "    else:\n",
    "        False\n",
    "    \n",
    "print(is_vowel('A'))\n",
    "print(is_vowel('a'))\n",
    "print(is_vowel('b'))\n",
    "print(is_vowel('B'))"
   ]
  },
  {
   "cell_type": "markdown",
   "id": "71141d49",
   "metadata": {},
   "source": [
    "3. Define a function named is_consonant. It should return True if the passed string is a consonant, False otherwise. Use your is_vowel function to accomplish this."
   ]
  },
  {
   "cell_type": "code",
   "execution_count": 7,
   "id": "d0cb7863",
   "metadata": {},
   "outputs": [
    {
     "name": "stdout",
     "output_type": "stream",
     "text": [
      "False\n",
      "False\n",
      "True\n"
     ]
    }
   ],
   "source": [
    "def is_consonant(non_vowel):\n",
    "    if not is_vowel(non_vowel):\n",
    "        return True\n",
    "    else:\n",
    "        return False\n",
    "    \n",
    "print(is_consonant('a'))\n",
    "print(is_consonant('A'))\n",
    "print(is_consonant('b'))"
   ]
  },
  {
   "cell_type": "markdown",
   "id": "ec79621d",
   "metadata": {},
   "source": [
    "4. Define a function that accepts a string that is a word. The function should capitalize the first letter of the word if the word starts with a consonant."
   ]
  },
  {
   "cell_type": "code",
   "execution_count": 20,
   "id": "a5c9a5b5",
   "metadata": {},
   "outputs": [
    {
     "name": "stdout",
     "output_type": "stream",
     "text": [
      "Baby\n",
      "None\n"
     ]
    }
   ],
   "source": [
    "def is_word(somestring):\n",
    "    if type(somestring) == str:\n",
    "        if is_consonant(somestring[0]):\n",
    "            return somestring.capitalize()\n",
    "        else:\n",
    "            False\n",
    "    else:\n",
    "        False\n",
    "\n",
    "print(is_word('baby'))\n",
    "print(is_word('apple'))"
   ]
  },
  {
   "cell_type": "markdown",
   "id": "0de30b54",
   "metadata": {},
   "source": [
    "5. Define a function named calculate_tip. It should accept a tip percentage (a number between 0 and 1) and the bill total, and return the amount to tip."
   ]
  },
  {
   "cell_type": "code",
   "execution_count": 35,
   "id": "051f0b58",
   "metadata": {},
   "outputs": [
    {
     "name": "stdout",
     "output_type": "stream",
     "text": [
      "$37.48 Bill Total + 20% Tip = $7.5 for a Grand Total of $44.98\n"
     ]
    }
   ],
   "source": [
    "def calculate_tip(tip_percent, bill_total):\n",
    "    #tip_percent = float(input('Enter decimal percent between 0-1 (example 20% = 0.20): '))\n",
    "    #bill_total = float(input('Bill Total: '))\n",
    "    tip = bill_total * tip_percent\n",
    "    grand_total = bill_total + tip\n",
    "    return print(f'${bill_total} Bill Total + {int(tip_percent*100)}% Tip = ${round(tip,2)} for a Grand Total of ${round(grand_total,2)}')\n",
    "\n",
    "calculate_tip(.20, 37.48)"
   ]
  },
  {
   "cell_type": "markdown",
   "id": "e519431a",
   "metadata": {},
   "source": [
    "6. Define a function named apply_discount. It should accept a original price, and a discount percentage, and return the price after the discount is applied."
   ]
  },
  {
   "cell_type": "code",
   "execution_count": 28,
   "id": "bf8a7c92",
   "metadata": {},
   "outputs": [
    {
     "name": "stdout",
     "output_type": "stream",
     "text": [
      "Original Price: 15.00\n",
      "Enter discount percent as decimal between 0-1 (example 10% = 0.10): .10\n",
      "Price is $13.5\n"
     ]
    }
   ],
   "source": [
    "def apply_discount():\n",
    "    original_price = float(input('Original Price: '))\n",
    "    discount_percentage = float(input('Enter discount percent as decimal between 0-1 (example 10% = 0.10): '))\n",
    "    price = round(original_price-(original_price*discount_percentage),2)\n",
    "    return print(f'Price is ${price}')\n",
    "\n",
    "apply_discount()"
   ]
  },
  {
   "cell_type": "markdown",
   "id": "612ea7f5",
   "metadata": {},
   "source": [
    "7. Define a function named handle_commas. It should accept a string that is a number that contains commas in it as input, and return a number as output."
   ]
  },
  {
   "cell_type": "code",
   "execution_count": 29,
   "id": "99b704f6",
   "metadata": {},
   "outputs": [
    {
     "name": "stdout",
     "output_type": "stream",
     "text": [
      "1000000000\n"
     ]
    }
   ],
   "source": [
    "def handle_commas(somestring):\n",
    "    if type(somestring) == str:\n",
    "        return int(somestring.replace(',', ''))\n",
    "    else:\n",
    "        return somestring\n",
    "    \n",
    "print(handle_commas('1,000,000,000'))"
   ]
  },
  {
   "cell_type": "markdown",
   "id": "5a5272d3",
   "metadata": {},
   "source": [
    "8. Define a function named get_letter_grade. It should accept a number and return the letter grade associated with that number (A-F)."
   ]
  },
  {
   "cell_type": "code",
   "execution_count": 31,
   "id": "4305b1fa",
   "metadata": {},
   "outputs": [
    {
     "name": "stdout",
     "output_type": "stream",
     "text": [
      "F\n",
      "D\n",
      "C\n",
      "B\n",
      "A\n"
     ]
    }
   ],
   "source": [
    "def get_letter_grade(grade):\n",
    "    if grade >= 90:\n",
    "        return 'A'\n",
    "    elif grade >= 80:\n",
    "        return 'B'\n",
    "    elif grade >= 70:\n",
    "        return 'C'\n",
    "    elif grade >= 60:\n",
    "        return 'D'\n",
    "    else:\n",
    "        return 'F'\n",
    "\n",
    "print(get_letter_grade(52))\n",
    "print(get_letter_grade(62))\n",
    "print(get_letter_grade(72))\n",
    "print(get_letter_grade(82))\n",
    "print(get_letter_grade(92))"
   ]
  },
  {
   "cell_type": "markdown",
   "id": "abc9cac7",
   "metadata": {},
   "source": [
    "9. Define a function named remove_vowels that accepts a string and returns a string with all the vowels removed."
   ]
  },
  {
   "cell_type": "code",
   "execution_count": 32,
   "id": "5a146b83",
   "metadata": {},
   "outputs": [
    {
     "name": "stdout",
     "output_type": "stream",
     "text": [
      "sq\n"
     ]
    }
   ],
   "source": [
    "def remove_vowels(word):\n",
    "    new_word = ''\n",
    "    for i in word:\n",
    "        if not is_vowel(i):\n",
    "            new_word += i\n",
    "    return new_word\n",
    "\n",
    "print(remove_vowels(\"sequoia\"))"
   ]
  },
  {
   "cell_type": "markdown",
   "id": "6091d112",
   "metadata": {},
   "source": [
    "10. Define a function named normalize_name. It should accept a string and return a valid python identifier, that is:\n",
    "* anything that is not a valid python identifier should be removed\n",
    "* leading and trailing whitespace should be removed\n",
    "* everything should be lowercase\n",
    "* spaces should be replaced with underscores\n",
    "* for example:\n",
    "\n",
    "    * Name will become name\n",
    "    * First Name will become first_name\n",
    "    * % Completed will become completed"
   ]
  },
  {
   "cell_type": "code",
   "execution_count": 33,
   "id": "2482136b",
   "metadata": {},
   "outputs": [
    {
     "name": "stdout",
     "output_type": "stream",
     "text": [
      "name\n",
      "first_name\n",
      "completed\n"
     ]
    }
   ],
   "source": [
    "def normalize_name(somestring):\n",
    "    newstring = ''\n",
    "    #grab all letter, number, spaces\n",
    "    for letter in somestring:\n",
    "        if letter.isidentifier() or letter == ' ':\n",
    "            newstring += letter\n",
    "    # loops to check if leading char is letter\n",
    "    for letter in newstring:\n",
    "        if letter.isalpha():\n",
    "            break\n",
    "        else:\n",
    "            newstring = newstring[1:]\n",
    "    return newstring.strip().lower().replace(' ', '_')\n",
    "\n",
    "print(normalize_name('Name'))\n",
    "print(normalize_name('First Name'))\n",
    "print(normalize_name('% Completed'))"
   ]
  },
  {
   "cell_type": "markdown",
   "id": "d4be33f9",
   "metadata": {},
   "source": [
    "11. Write a function named cumulative_sum that accepts a list of numbers and returns a list that is the cumulative sum of the numbers in the list.\n",
    "\n",
    "* cumulative_sum([1, 1, 1]) returns [1, 2, 3]\n",
    "* cumulative_sum([1, 2, 3, 4]) returns [1, 3, 6, 10]"
   ]
  },
  {
   "cell_type": "code",
   "execution_count": 34,
   "id": "774b0cec",
   "metadata": {},
   "outputs": [
    {
     "name": "stdout",
     "output_type": "stream",
     "text": [
      "[1, 2, 3]\n",
      "[1, 3, 6, 10]\n",
      "[4, 9, 15, 22]\n",
      "[7, 15, 24, 34]\n"
     ]
    }
   ],
   "source": [
    "def cumulative_sum(list):\n",
    "    newlist = []\n",
    "    for n in range (1, len(list)+1):\n",
    "        cumsum = sum(list[:n])\n",
    "        newlist.append(cumsum)\n",
    "    return newlist\n",
    "\n",
    "print(cumulative_sum([1, 1, 1]))\n",
    "print(cumulative_sum([1, 2, 3, 4]))\n",
    "print(cumulative_sum([4, 5, 6, 7]))\n",
    "print(cumulative_sum([7, 8, 9, 10]))"
   ]
  },
  {
   "cell_type": "markdown",
   "id": "624d8e00",
   "metadata": {},
   "source": [
    "### Additional Exercise\n",
    "\n",
    "Once you've completed the above exercises, follow the directions from https://gist.github.com/zgulde/ec8ed80ad8216905cda83d5645c60886 \n",
    "in order to thouroughly comment your code to explain your code."
   ]
  },
  {
   "cell_type": "code",
   "execution_count": null,
   "id": "908a0569",
   "metadata": {},
   "outputs": [],
   "source": []
  },
  {
   "cell_type": "markdown",
   "id": "0ae67cab",
   "metadata": {},
   "source": [
    "## Bonus\n",
    "\n",
    "1. Create a function named twelveto24. It should accept a string in the format 10:45am or 4:30pm and return a string that is the representation of the time in a 24-hour format. Bonus write a function that does the opposite."
   ]
  },
  {
   "cell_type": "code",
   "execution_count": null,
   "id": "a610f9c4",
   "metadata": {},
   "outputs": [],
   "source": []
  },
  {
   "cell_type": "markdown",
   "id": "b2ec9dcb",
   "metadata": {},
   "source": [
    "2. Create a function named col_index. It should accept a spreadsheet column name, and return the index number of the column.\n",
    "\n",
    "* col_index('A') returns 1\n",
    "* col_index('B') returns 2\n",
    "* col_index('AA') returns 27"
   ]
  },
  {
   "cell_type": "code",
   "execution_count": null,
   "id": "55018072",
   "metadata": {},
   "outputs": [],
   "source": []
  }
 ],
 "metadata": {
  "kernelspec": {
   "display_name": "Python 3 (ipykernel)",
   "language": "python",
   "name": "python3"
  },
  "language_info": {
   "codemirror_mode": {
    "name": "ipython",
    "version": 3
   },
   "file_extension": ".py",
   "mimetype": "text/x-python",
   "name": "python",
   "nbconvert_exporter": "python",
   "pygments_lexer": "ipython3",
   "version": "3.9.12"
  }
 },
 "nbformat": 4,
 "nbformat_minor": 5
}
