{
 "cells": [
  {
   "cell_type": "code",
   "execution_count": 1,
   "id": "572565e1",
   "metadata": {},
   "outputs": [
    {
     "data": {
      "text/plain": [
       "True"
      ]
     },
     "execution_count": 1,
     "metadata": {},
     "output_type": "execute_result"
    }
   ],
   "source": [
    "is_class_full = True\n",
    "schedule_conflict = False\n",
    "\n",
    "is_class_full or schedule_conflict"
   ]
  },
  {
   "cell_type": "code",
   "execution_count": 2,
   "id": "1fbc6498",
   "metadata": {},
   "outputs": [
    {
     "data": {
      "text/plain": [
       "True"
      ]
     },
     "execution_count": 2,
     "metadata": {},
     "output_type": "execute_result"
    }
   ],
   "source": [
    "number_of_items_purchased_monthly = 10\n",
    "years_as_customer = 5\n",
    "\n",
    "number_of_items_purchased_monthly > 4 and years_as_customer > 3"
   ]
  },
  {
   "cell_type": "code",
   "execution_count": 11,
   "id": "df57a94a",
   "metadata": {},
   "outputs": [
    {
     "name": "stdout",
     "output_type": "stream",
     "text": [
      "Coffee is Amazing\n",
      "I need more Coffee\n"
     ]
    }
   ],
   "source": [
    "i_like_coffee = True -- False\n",
    "if i_like_coffee:\n",
    "    print('Coffee is Amazing')\n",
    "    print('I need more Coffee')"
   ]
  },
  {
   "cell_type": "code",
   "execution_count": 12,
   "id": "7861a7d7",
   "metadata": {},
   "outputs": [
    {
     "name": "stdout",
     "output_type": "stream",
     "text": [
      "Valued Customer\n"
     ]
    }
   ],
   "source": [
    "number_of_items_purchased_monthly = 10\n",
    "years_as_customer = 5\n",
    "\n",
    "if number_of_items_purchased_monthly > 4 and years_as_customer > 3:\n",
    "    print('Valued Customer')"
   ]
  },
  {
   "cell_type": "code",
   "execution_count": 13,
   "id": "c88d540c",
   "metadata": {},
   "outputs": [
    {
     "name": "stdout",
     "output_type": "stream",
     "text": [
      "Target Customer\n"
     ]
    }
   ],
   "source": [
    "number_of_items_purchased_monthly = 2\n",
    "years_as_customer = 10\n",
    "\n",
    "if number_of_items_purchased_monthly > 4 and years_as_customer > 3:\n",
    "    print('Valued Customer')\n",
    "else:\n",
    "    print('Target Customer')"
   ]
  },
  {
   "cell_type": "markdown",
   "id": "0cfec7d3",
   "metadata": {},
   "source": [
    "### ELIF"
   ]
  },
  {
   "cell_type": "code",
   "execution_count": 19,
   "id": "a4a17b5f",
   "metadata": {},
   "outputs": [
    {
     "name": "stdout",
     "output_type": "stream",
     "text": [
      "Mid Term Customer\n"
     ]
    }
   ],
   "source": [
    "number_of_items_purchased_monthly = 2\n",
    "years_as_customer = 10\n",
    "\n",
    "if number_of_items_purchased_monthly > 4 and years_as_customer > 3:\n",
    "    print('High Volume Customer')\n",
    "elif years_as_customer > 2:\n",
    "    print('Mid Term Customer') # Watch the order of code\n",
    "elif years_as_customer > 5:\n",
    "    print('Long Term Customer') # Mid Term because of order\n",
    "else:\n",
    "    print('Target Customer')"
   ]
  },
  {
   "cell_type": "markdown",
   "id": "ea66dd6f",
   "metadata": {},
   "source": [
    "### Looping"
   ]
  },
  {
   "cell_type": "code",
   "execution_count": 23,
   "id": "ec8b3eb5",
   "metadata": {},
   "outputs": [
    {
     "data": {
      "text/plain": [
       "[0, 1, 2, 3, 4, 5, 6, 7, 8, 9]"
      ]
     },
     "execution_count": 23,
     "metadata": {},
     "output_type": "execute_result"
    }
   ],
   "source": [
    "list(range(10))"
   ]
  },
  {
   "cell_type": "code",
   "execution_count": 22,
   "id": "cb0c8be9",
   "metadata": {},
   "outputs": [
    {
     "name": "stdout",
     "output_type": "stream",
     "text": [
      "0\n",
      "1\n",
      "2\n",
      "3\n",
      "4\n",
      "5\n",
      "6\n",
      "7\n",
      "8\n",
      "9\n"
     ]
    }
   ],
   "source": [
    "for number in range(10):\n",
    "    print(number)"
   ]
  },
  {
   "cell_type": "code",
   "execution_count": 25,
   "id": "2caa06a7",
   "metadata": {},
   "outputs": [
    {
     "data": {
      "text/plain": [
       "'H'"
      ]
     },
     "execution_count": 25,
     "metadata": {},
     "output_type": "execute_result"
    }
   ],
   "source": [
    "hello = 'Hello'\n",
    "hello[0]"
   ]
  },
  {
   "cell_type": "code",
   "execution_count": 26,
   "id": "76aa5ffe",
   "metadata": {},
   "outputs": [
    {
     "data": {
      "text/plain": [
       "'llo'"
      ]
     },
     "execution_count": 26,
     "metadata": {},
     "output_type": "execute_result"
    }
   ],
   "source": [
    "hello [2:]"
   ]
  },
  {
   "cell_type": "code",
   "execution_count": 27,
   "id": "6175a52b",
   "metadata": {},
   "outputs": [
    {
     "name": "stdout",
     "output_type": "stream",
     "text": [
      "H\n",
      "e\n",
      "l\n",
      "l\n",
      "o\n"
     ]
    }
   ],
   "source": [
    "for letter in 'Hello':\n",
    "    print(letter)"
   ]
  },
  {
   "cell_type": "code",
   "execution_count": 28,
   "id": "fe4171bd",
   "metadata": {},
   "outputs": [
    {
     "name": "stdout",
     "output_type": "stream",
     "text": [
      "Hello Rae!\n",
      "Hello Christina!\n",
      "Hello Yvette!\n"
     ]
    }
   ],
   "source": [
    "students = ['Rae', 'Christina', 'Yvette']\n",
    "\n",
    "for student in students:\n",
    "    print(f'Hello {student}!')"
   ]
  },
  {
   "cell_type": "code",
   "execution_count": 29,
   "id": "03044ab3",
   "metadata": {},
   "outputs": [
    {
     "name": "stdout",
     "output_type": "stream",
     "text": [
      "R is a good programming language.\n",
      "Python is my favorite!\n",
      "Java is a good programming language.\n",
      "Javascript is a good programming language.\n"
     ]
    }
   ],
   "source": [
    "programming_languages = ['R', 'Python', 'Java', 'Javascript']\n",
    "\n",
    "for language in programming_languages:\n",
    "    if language == 'Python':\n",
    "        print(f'{language} is my favorite!')\n",
    "    else:\n",
    "        print(f'{language} is a good programming language.')"
   ]
  },
  {
   "cell_type": "markdown",
   "id": "61ee6b73",
   "metadata": {},
   "source": [
    "### While"
   ]
  },
  {
   "cell_type": "code",
   "execution_count": 31,
   "id": "60b44dea",
   "metadata": {},
   "outputs": [],
   "source": [
    "number = 5\n",
    "\n",
    "while number <= 4:\n",
    "    print(number)\n",
    "    number += 1"
   ]
  },
  {
   "cell_type": "code",
   "execution_count": 34,
   "id": "bb6c0c9b",
   "metadata": {},
   "outputs": [
    {
     "name": "stdout",
     "output_type": "stream",
     "text": [
      "10\n",
      "9\n",
      "8\n",
      "7\n",
      "6\n",
      "5\n",
      "4\n",
      "3\n",
      "2\n"
     ]
    }
   ],
   "source": [
    "greater_than_1 = True\n",
    "\n",
    "number = 10\n",
    "\n",
    "while greater_than_1:\n",
    "    print(number)\n",
    "    number -= 1\n",
    "    greater_than_1 = number > 1"
   ]
  },
  {
   "cell_type": "code",
   "execution_count": 35,
   "id": "b42c42b7",
   "metadata": {},
   "outputs": [
    {
     "name": "stdout",
     "output_type": "stream",
     "text": [
      "10\n",
      "9\n",
      "8\n",
      "7\n",
      "6\n",
      "5\n",
      "4\n",
      "3\n",
      "2\n"
     ]
    }
   ],
   "source": [
    "greater_than_1 = True\n",
    "\n",
    "number = 10\n",
    "\n",
    "while greater_than_1:\n",
    "    print(number)\n",
    "    number -= 1 \n",
    "    # number - is math \n",
    "    # number = is assignment\n",
    "    greater_than_1 = number > 1"
   ]
  },
  {
   "cell_type": "markdown",
   "id": "d9a13413",
   "metadata": {},
   "source": [
    "### Break and Continue"
   ]
  },
  {
   "cell_type": "code",
   "execution_count": 1,
   "id": "4fd299f0",
   "metadata": {},
   "outputs": [
    {
     "ename": "SyntaxError",
     "evalue": "invalid syntax (3483561987.py, line 2)",
     "output_type": "error",
     "traceback": [
      "\u001b[0;36m  Input \u001b[0;32mIn [1]\u001b[0;36m\u001b[0m\n\u001b[0;31m    print(number):\u001b[0m\n\u001b[0m                  ^\u001b[0m\n\u001b[0;31mSyntaxError\u001b[0m\u001b[0;31m:\u001b[0m invalid syntax\n"
     ]
    }
   ],
   "source": [
    "for number in range(100):\n",
    "    print(number):\n",
    "        if number > 10:\n",
    "            break"
   ]
  },
  {
   "cell_type": "code",
   "execution_count": 2,
   "id": "1462392a",
   "metadata": {},
   "outputs": [
    {
     "name": "stdout",
     "output_type": "stream",
     "text": [
      "Here is an odd number: 1\n",
      "Here is an odd number: 3\n",
      "Here is an odd number: 5\n",
      "Here is an odd number: 7\n",
      "Here is an odd number: 9\n"
     ]
    }
   ],
   "source": [
    "for number in range(10):\n",
    "    if number % 2 == 0:\n",
    "        continue\n",
    "    print(f'Here is an odd number: {number}')"
   ]
  },
  {
   "cell_type": "code",
   "execution_count": 3,
   "id": "d69d2477",
   "metadata": {},
   "outputs": [
    {
     "data": {
      "text/plain": [
       "['0', '1', '2', '3', '4', '5', '6', '7', '8', '9']"
      ]
     },
     "execution_count": 3,
     "metadata": {},
     "output_type": "execute_result"
    }
   ],
   "source": [
    "list(map(str, list(range(10))))"
   ]
  },
  {
   "cell_type": "code",
   "execution_count": 4,
   "id": "bd4be0f4",
   "metadata": {},
   "outputs": [
    {
     "data": {
      "text/plain": [
       "[3, 4, 5]"
      ]
     },
     "execution_count": 4,
     "metadata": {},
     "output_type": "execute_result"
    }
   ],
   "source": [
    "list_of_num_lists = [[1, 2, 3], [3, 4, 5, 6], [4, 5, 6, 7, 8]]\n",
    "\n",
    "list(map(len, list_of_num_lists))"
   ]
  },
  {
   "cell_type": "code",
   "execution_count": 11,
   "id": "9009d6f6",
   "metadata": {},
   "outputs": [],
   "source": [
    "students = {\n",
    "    'Carol': 6,\n",
    "    'Steve': 8,\n",
    "    'Bob': 1,\n",
    "    'Cheryl': 10\n",
    "}"
   ]
  },
  {
   "cell_type": "code",
   "execution_count": 12,
   "id": "d7776592",
   "metadata": {},
   "outputs": [
    {
     "data": {
      "text/plain": [
       "25"
      ]
     },
     "execution_count": 12,
     "metadata": {},
     "output_type": "execute_result"
    }
   ],
   "source": [
    "total_classes = 0\n",
    "\n",
    "for key in students.keys():\n",
    "    total_classes += student[key]\n",
    "    \n",
    "total_classes"
   ]
  },
  {
   "cell_type": "code",
   "execution_count": null,
   "id": "d08f8727",
   "metadata": {},
   "outputs": [],
   "source": []
  }
 ],
 "metadata": {
  "kernelspec": {
   "display_name": "Python 3 (ipykernel)",
   "language": "python",
   "name": "python3"
  },
  "language_info": {
   "codemirror_mode": {
    "name": "ipython",
    "version": 3
   },
   "file_extension": ".py",
   "mimetype": "text/x-python",
   "name": "python",
   "nbconvert_exporter": "python",
   "pygments_lexer": "ipython3",
   "version": "3.9.12"
  }
 },
 "nbformat": 4,
 "nbformat_minor": 5
}
