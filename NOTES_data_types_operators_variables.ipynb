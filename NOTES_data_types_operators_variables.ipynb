{
 "cells": [
  {
   "cell_type": "code",
   "execution_count": 3,
   "id": "f9103b7a",
   "metadata": {},
   "outputs": [],
   "source": [
    "####This is Markdown\n"
   ]
  },
  {
   "cell_type": "markdown",
   "id": "e4599053",
   "metadata": {},
   "source": [
    "### Python Data Types"
   ]
  },
  {
   "cell_type": "code",
   "execution_count": 11,
   "id": "767915bf",
   "metadata": {},
   "outputs": [
    {
     "data": {
      "text/plain": [
       "False"
      ]
     },
     "execution_count": 11,
     "metadata": {},
     "output_type": "execute_result"
    }
   ],
   "source": [
    "True == False"
   ]
  },
  {
   "cell_type": "markdown",
   "id": "934760ad",
   "metadata": {},
   "source": [
    "### Boolean"
   ]
  },
  {
   "cell_type": "code",
   "execution_count": 1,
   "id": "2ba5e45f",
   "metadata": {},
   "outputs": [
    {
     "data": {
      "text/plain": [
       "True"
      ]
     },
     "execution_count": 1,
     "metadata": {},
     "output_type": "execute_result"
    }
   ],
   "source": [
    "bool(' ')"
   ]
  },
  {
   "cell_type": "code",
   "execution_count": 2,
   "id": "f4fd9d03",
   "metadata": {
    "scrolled": true
   },
   "outputs": [
    {
     "data": {
      "text/plain": [
       "False"
      ]
     },
     "execution_count": 2,
     "metadata": {},
     "output_type": "execute_result"
    }
   ],
   "source": [
    "bool('')"
   ]
  },
  {
   "cell_type": "code",
   "execution_count": 3,
   "id": "6bbd20a8",
   "metadata": {},
   "outputs": [
    {
     "name": "stdout",
     "output_type": "stream",
     "text": [
      "Write something:something\n"
     ]
    }
   ],
   "source": [
    "my_response = input('Write something:')"
   ]
  },
  {
   "cell_type": "code",
   "execution_count": 4,
   "id": "15f49546",
   "metadata": {},
   "outputs": [
    {
     "data": {
      "text/plain": [
       "'something'"
      ]
     },
     "execution_count": 4,
     "metadata": {},
     "output_type": "execute_result"
    }
   ],
   "source": [
    "my_response"
   ]
  },
  {
   "cell_type": "markdown",
   "id": "df9dcc9e",
   "metadata": {},
   "source": [
    "### Numbers"
   ]
  },
  {
   "cell_type": "code",
   "execution_count": 14,
   "id": "fe217cc3",
   "metadata": {},
   "outputs": [
    {
     "data": {
      "text/plain": [
       "1"
      ]
     },
     "execution_count": 14,
     "metadata": {},
     "output_type": "execute_result"
    }
   ],
   "source": [
    "1"
   ]
  },
  {
   "cell_type": "code",
   "execution_count": 15,
   "id": "b4673a18",
   "metadata": {},
   "outputs": [
    {
     "data": {
      "text/plain": [
       "int"
      ]
     },
     "execution_count": 15,
     "metadata": {},
     "output_type": "execute_result"
    }
   ],
   "source": [
    "type(1)"
   ]
  },
  {
   "cell_type": "code",
   "execution_count": 16,
   "id": "d01a9ba4",
   "metadata": {},
   "outputs": [
    {
     "data": {
      "text/plain": [
       "float"
      ]
     },
     "execution_count": 16,
     "metadata": {},
     "output_type": "execute_result"
    }
   ],
   "source": [
    "type(1.0)"
   ]
  },
  {
   "cell_type": "code",
   "execution_count": 17,
   "id": "e7f6554f",
   "metadata": {},
   "outputs": [
    {
     "data": {
      "text/plain": [
       "10"
      ]
     },
     "execution_count": 17,
     "metadata": {},
     "output_type": "execute_result"
    }
   ],
   "source": [
    "4+6"
   ]
  },
  {
   "cell_type": "code",
   "execution_count": 18,
   "id": "b5bffc22",
   "metadata": {},
   "outputs": [
    {
     "data": {
      "text/plain": [
       "1.0"
      ]
     },
     "execution_count": 18,
     "metadata": {},
     "output_type": "execute_result"
    }
   ],
   "source": [
    "0.4+.6"
   ]
  },
  {
   "cell_type": "code",
   "execution_count": 19,
   "id": "4fbcef81",
   "metadata": {},
   "outputs": [
    {
     "data": {
      "text/plain": [
       "-1"
      ]
     },
     "execution_count": 19,
     "metadata": {},
     "output_type": "execute_result"
    }
   ],
   "source": [
    "5-6"
   ]
  },
  {
   "cell_type": "code",
   "execution_count": 20,
   "id": "1674a215",
   "metadata": {},
   "outputs": [
    {
     "data": {
      "text/plain": [
       "2.0"
      ]
     },
     "execution_count": 20,
     "metadata": {},
     "output_type": "execute_result"
    }
   ],
   "source": [
    "4/2"
   ]
  },
  {
   "cell_type": "markdown",
   "id": "32b9d503",
   "metadata": {},
   "source": [
    "// returns INT only"
   ]
  },
  {
   "cell_type": "code",
   "execution_count": 21,
   "id": "d1bc18af",
   "metadata": {},
   "outputs": [
    {
     "data": {
      "text/plain": [
       "2"
      ]
     },
     "execution_count": 21,
     "metadata": {},
     "output_type": "execute_result"
    }
   ],
   "source": [
    "4//2"
   ]
  },
  {
   "cell_type": "code",
   "execution_count": 22,
   "id": "e1065a93",
   "metadata": {},
   "outputs": [
    {
     "data": {
      "text/plain": [
       "2"
      ]
     },
     "execution_count": 22,
     "metadata": {},
     "output_type": "execute_result"
    }
   ],
   "source": [
    "5//2"
   ]
  },
  {
   "cell_type": "markdown",
   "id": "801607f8",
   "metadata": {},
   "source": [
    "% returns remainder"
   ]
  },
  {
   "cell_type": "code",
   "execution_count": 23,
   "id": "c3c96960",
   "metadata": {},
   "outputs": [
    {
     "data": {
      "text/plain": [
       "1"
      ]
     },
     "execution_count": 23,
     "metadata": {},
     "output_type": "execute_result"
    }
   ],
   "source": [
    "5 % 2"
   ]
  },
  {
   "cell_type": "code",
   "execution_count": 24,
   "id": "b056175b",
   "metadata": {},
   "outputs": [
    {
     "data": {
      "text/plain": [
       "2"
      ]
     },
     "execution_count": 24,
     "metadata": {},
     "output_type": "execute_result"
    }
   ],
   "source": [
    "int(2.0)"
   ]
  },
  {
   "cell_type": "code",
   "execution_count": 25,
   "id": "1f1e2828",
   "metadata": {},
   "outputs": [
    {
     "data": {
      "text/plain": [
       "2.0"
      ]
     },
     "execution_count": 25,
     "metadata": {},
     "output_type": "execute_result"
    }
   ],
   "source": [
    "float(2)"
   ]
  },
  {
   "cell_type": "markdown",
   "id": "5b33ccb4",
   "metadata": {},
   "source": [
    "bool of 0 is always False; all else are True"
   ]
  },
  {
   "cell_type": "code",
   "execution_count": 26,
   "id": "cabfcba8",
   "metadata": {},
   "outputs": [
    {
     "data": {
      "text/plain": [
       "True"
      ]
     },
     "execution_count": 26,
     "metadata": {},
     "output_type": "execute_result"
    }
   ],
   "source": [
    "bool(1)"
   ]
  },
  {
   "cell_type": "code",
   "execution_count": 27,
   "id": "588ecdc6",
   "metadata": {},
   "outputs": [
    {
     "data": {
      "text/plain": [
       "False"
      ]
     },
     "execution_count": 27,
     "metadata": {},
     "output_type": "execute_result"
    }
   ],
   "source": [
    "bool(0)"
   ]
  },
  {
   "cell_type": "code",
   "execution_count": 28,
   "id": "ff89a7b6",
   "metadata": {},
   "outputs": [
    {
     "data": {
      "text/plain": [
       "True"
      ]
     },
     "execution_count": 28,
     "metadata": {},
     "output_type": "execute_result"
    }
   ],
   "source": [
    "bool(2)"
   ]
  },
  {
   "cell_type": "code",
   "execution_count": 29,
   "id": "e5953ec1",
   "metadata": {},
   "outputs": [
    {
     "data": {
      "text/plain": [
       "True"
      ]
     },
     "execution_count": 29,
     "metadata": {},
     "output_type": "execute_result"
    }
   ],
   "source": [
    "bool(-2)"
   ]
  },
  {
   "cell_type": "code",
   "execution_count": 30,
   "id": "d8b37dd0",
   "metadata": {},
   "outputs": [
    {
     "data": {
      "text/plain": [
       "18"
      ]
     },
     "execution_count": 30,
     "metadata": {},
     "output_type": "execute_result"
    }
   ],
   "source": [
    "9*2"
   ]
  },
  {
   "cell_type": "markdown",
   "id": "e26440b2",
   "metadata": {},
   "source": [
    "** is sqared"
   ]
  },
  {
   "cell_type": "code",
   "execution_count": 31,
   "id": "9ee10361",
   "metadata": {},
   "outputs": [
    {
     "data": {
      "text/plain": [
       "64"
      ]
     },
     "execution_count": 31,
     "metadata": {},
     "output_type": "execute_result"
    }
   ],
   "source": [
    "8**2"
   ]
  },
  {
   "cell_type": "code",
   "execution_count": 32,
   "id": "3ca93836",
   "metadata": {},
   "outputs": [
    {
     "data": {
      "text/plain": [
       "False"
      ]
     },
     "execution_count": 32,
     "metadata": {},
     "output_type": "execute_result"
    }
   ],
   "source": [
    "9>9"
   ]
  },
  {
   "cell_type": "code",
   "execution_count": 33,
   "id": "9eb50bac",
   "metadata": {},
   "outputs": [
    {
     "data": {
      "text/plain": [
       "True"
      ]
     },
     "execution_count": 33,
     "metadata": {},
     "output_type": "execute_result"
    }
   ],
   "source": [
    "9>=9"
   ]
  },
  {
   "cell_type": "code",
   "execution_count": 34,
   "id": "962861a0",
   "metadata": {},
   "outputs": [
    {
     "data": {
      "text/plain": [
       "True"
      ]
     },
     "execution_count": 34,
     "metadata": {},
     "output_type": "execute_result"
    }
   ],
   "source": [
    "9>8"
   ]
  },
  {
   "cell_type": "code",
   "execution_count": 35,
   "id": "32fb05ce",
   "metadata": {},
   "outputs": [
    {
     "data": {
      "text/plain": [
       "True"
      ]
     },
     "execution_count": 35,
     "metadata": {},
     "output_type": "execute_result"
    }
   ],
   "source": [
    "9>1 or 8+3 == 11"
   ]
  },
  {
   "cell_type": "code",
   "execution_count": 37,
   "id": "45564bb3",
   "metadata": {},
   "outputs": [
    {
     "data": {
      "text/plain": [
       "True"
      ]
     },
     "execution_count": 37,
     "metadata": {},
     "output_type": "execute_result"
    }
   ],
   "source": [
    "9>1 and 8+3 == 11"
   ]
  },
  {
   "cell_type": "markdown",
   "id": "78a6f198",
   "metadata": {},
   "source": [
    "Floating Point Inaccuracy 'IS A THING' !?"
   ]
  },
  {
   "cell_type": "code",
   "execution_count": 38,
   "id": "44464c74",
   "metadata": {},
   "outputs": [
    {
     "data": {
      "text/plain": [
       "0.30000000000000004"
      ]
     },
     "execution_count": 38,
     "metadata": {},
     "output_type": "execute_result"
    }
   ],
   "source": [
    "0.1 + 0.2"
   ]
  },
  {
   "cell_type": "code",
   "execution_count": 39,
   "id": "2d9e1d06",
   "metadata": {},
   "outputs": [
    {
     "data": {
      "text/plain": [
       "False"
      ]
     },
     "execution_count": 39,
     "metadata": {},
     "output_type": "execute_result"
    }
   ],
   "source": [
    "0.1 + 0.2 == 0.3"
   ]
  },
  {
   "cell_type": "markdown",
   "id": "de8163ac",
   "metadata": {},
   "source": [
    "### Strings"
   ]
  },
  {
   "cell_type": "code",
   "execution_count": 40,
   "id": "a4f908d8",
   "metadata": {},
   "outputs": [
    {
     "data": {
      "text/plain": [
       "'Hello'"
      ]
     },
     "execution_count": 40,
     "metadata": {},
     "output_type": "execute_result"
    }
   ],
   "source": [
    "'Hello'"
   ]
  },
  {
   "cell_type": "code",
   "execution_count": 41,
   "id": "c850867c",
   "metadata": {},
   "outputs": [
    {
     "data": {
      "text/plain": [
       "'Hello'"
      ]
     },
     "execution_count": 41,
     "metadata": {},
     "output_type": "execute_result"
    }
   ],
   "source": [
    "\"Hello\""
   ]
  },
  {
   "cell_type": "code",
   "execution_count": 42,
   "id": "315c5a7d",
   "metadata": {},
   "outputs": [
    {
     "ename": "SyntaxError",
     "evalue": "invalid syntax (2117639726.py, line 1)",
     "output_type": "error",
     "traceback": [
      "\u001b[0;36m  Input \u001b[0;32mIn [42]\u001b[0;36m\u001b[0m\n\u001b[0;31m    'Mark's Computer\u001b[0m\n\u001b[0m          ^\u001b[0m\n\u001b[0;31mSyntaxError\u001b[0m\u001b[0;31m:\u001b[0m invalid syntax\n"
     ]
    }
   ],
   "source": [
    "'Mark's Computer"
   ]
  },
  {
   "cell_type": "code",
   "execution_count": 43,
   "id": "452a4dd9",
   "metadata": {},
   "outputs": [
    {
     "data": {
      "text/plain": [
       "\"Mark's Computer\""
      ]
     },
     "execution_count": 43,
     "metadata": {},
     "output_type": "execute_result"
    }
   ],
   "source": [
    "\"Mark's Computer\""
   ]
  },
  {
   "cell_type": "code",
   "execution_count": 47,
   "id": "74b33c99",
   "metadata": {},
   "outputs": [
    {
     "data": {
      "text/plain": [
       "'\"Mark\\'s Computer'"
      ]
     },
     "execution_count": 47,
     "metadata": {},
     "output_type": "execute_result"
    }
   ],
   "source": [
    "\"\"\"\"Mark's Computer\"\"\""
   ]
  },
  {
   "cell_type": "code",
   "execution_count": 48,
   "id": "0aa7e571",
   "metadata": {},
   "outputs": [
    {
     "data": {
      "text/plain": [
       "\"Mark's Computer\""
      ]
     },
     "execution_count": 48,
     "metadata": {},
     "output_type": "execute_result"
    }
   ],
   "source": [
    "'Mark\\'s Computer'"
   ]
  },
  {
   "cell_type": "code",
   "execution_count": 51,
   "id": "1821dc98",
   "metadata": {},
   "outputs": [
    {
     "name": "stdout",
     "output_type": "stream",
     "text": [
      "Hello World\n"
     ]
    }
   ],
   "source": [
    "print('Hello World')"
   ]
  },
  {
   "cell_type": "code",
   "execution_count": 52,
   "id": "84ecd213",
   "metadata": {},
   "outputs": [
    {
     "name": "stdout",
     "output_type": "stream",
     "text": [
      "Hello \n",
      "World\n"
     ]
    }
   ],
   "source": [
    "print('Hello \\nWorld')"
   ]
  },
  {
   "cell_type": "code",
   "execution_count": 53,
   "id": "dd8e3b57",
   "metadata": {},
   "outputs": [
    {
     "data": {
      "text/plain": [
       "False"
      ]
     },
     "execution_count": 53,
     "metadata": {},
     "output_type": "execute_result"
    }
   ],
   "source": [
    "'hello ' == 'hello'"
   ]
  },
  {
   "cell_type": "code",
   "execution_count": 54,
   "id": "97b37f34",
   "metadata": {},
   "outputs": [
    {
     "data": {
      "text/plain": [
       "'abcdef'"
      ]
     },
     "execution_count": 54,
     "metadata": {},
     "output_type": "execute_result"
    }
   ],
   "source": [
    "'abc' + 'def'"
   ]
  },
  {
   "cell_type": "code",
   "execution_count": 55,
   "id": "70025779",
   "metadata": {},
   "outputs": [
    {
     "name": "stdout",
     "output_type": "stream",
     "text": [
      "abc\n",
      "abc\n",
      "abc\n",
      "abc\n",
      "abc\n",
      "abc\n",
      "abc\n",
      "abc\n",
      "abc\n",
      "abc\n",
      "\n"
     ]
    }
   ],
   "source": [
    "print('abc\\n' * 10)"
   ]
  },
  {
   "cell_type": "code",
   "execution_count": 56,
   "id": "f2b3ea1d",
   "metadata": {},
   "outputs": [
    {
     "ename": "TypeError",
     "evalue": "can only concatenate str (not \"int\") to str",
     "output_type": "error",
     "traceback": [
      "\u001b[0;31m---------------------------------------------------------------------------\u001b[0m",
      "\u001b[0;31mTypeError\u001b[0m                                 Traceback (most recent call last)",
      "Input \u001b[0;32mIn [56]\u001b[0m, in \u001b[0;36m<cell line: 1>\u001b[0;34m()\u001b[0m\n\u001b[0;32m----> 1\u001b[0m \u001b[38;5;124;43m'\u001b[39;49m\u001b[38;5;124;43m2\u001b[39;49m\u001b[38;5;124;43m'\u001b[39;49m\u001b[43m \u001b[49m\u001b[38;5;241;43m+\u001b[39;49m\u001b[43m \u001b[49m\u001b[38;5;241;43m1\u001b[39;49m\n",
      "\u001b[0;31mTypeError\u001b[0m: can only concatenate str (not \"int\") to str"
     ]
    }
   ],
   "source": [
    "'2' + 1"
   ]
  },
  {
   "cell_type": "code",
   "execution_count": 57,
   "id": "405dc4b1",
   "metadata": {},
   "outputs": [
    {
     "data": {
      "text/plain": [
       "'21'"
      ]
     },
     "execution_count": 57,
     "metadata": {},
     "output_type": "execute_result"
    }
   ],
   "source": [
    "'2' + '1'"
   ]
  },
  {
   "cell_type": "markdown",
   "id": "daa78635",
   "metadata": {},
   "source": [
    "### String Formatting"
   ]
  },
  {
   "cell_type": "code",
   "execution_count": 6,
   "id": "7c73499e",
   "metadata": {},
   "outputs": [],
   "source": [
    "name = 'Justin'"
   ]
  },
  {
   "cell_type": "code",
   "execution_count": 7,
   "id": "53685540",
   "metadata": {},
   "outputs": [
    {
     "data": {
      "text/plain": [
       "'Hello Justin'"
      ]
     },
     "execution_count": 7,
     "metadata": {},
     "output_type": "execute_result"
    }
   ],
   "source": [
    "'Hello %s' % name"
   ]
  },
  {
   "cell_type": "code",
   "execution_count": 10,
   "id": "07d8e5d8",
   "metadata": {},
   "outputs": [
    {
     "data": {
      "text/plain": [
       "'Hello Justin, Tom, Bob'"
      ]
     },
     "execution_count": 10,
     "metadata": {},
     "output_type": "execute_result"
    }
   ],
   "source": [
    "'Hello %s, %s, %s' % (name, \"Tom\", 'Bob')"
   ]
  },
  {
   "cell_type": "code",
   "execution_count": 8,
   "id": "a7770095",
   "metadata": {},
   "outputs": [
    {
     "data": {
      "text/plain": [
       "'Hello Justin'"
      ]
     },
     "execution_count": 8,
     "metadata": {},
     "output_type": "execute_result"
    }
   ],
   "source": [
    "'Hello {}' .format(name)"
   ]
  },
  {
   "cell_type": "code",
   "execution_count": 9,
   "id": "affd50dc",
   "metadata": {},
   "outputs": [
    {
     "data": {
      "text/plain": [
       "'Hello Justin!'"
      ]
     },
     "execution_count": 9,
     "metadata": {},
     "output_type": "execute_result"
    }
   ],
   "source": [
    "f'Hello {name}!'"
   ]
  },
  {
   "cell_type": "code",
   "execution_count": 11,
   "id": "943e5665",
   "metadata": {
    "scrolled": true
   },
   "outputs": [
    {
     "ename": "SyntaxError",
     "evalue": "f-string: expecting '}' (446001782.py, line 1)",
     "output_type": "error",
     "traceback": [
      "\u001b[0;36m  Input \u001b[0;32mIn [11]\u001b[0;36m\u001b[0m\n\u001b[0;31m    f'Hello {name}, {'Mark'}, {'Luke'}, {'John'}!'\u001b[0m\n\u001b[0m                      ^\u001b[0m\n\u001b[0;31mSyntaxError\u001b[0m\u001b[0;31m:\u001b[0m f-string: expecting '}'\n"
     ]
    }
   ],
   "source": [
    "f'Hello {name}, {'Mark'}, {'Luke'}, {'John'}!'"
   ]
  },
  {
   "cell_type": "markdown",
   "id": "b5897d67",
   "metadata": {},
   "source": [
    "-- \"Python doesn't like mixing quotes\""
   ]
  },
  {
   "cell_type": "code",
   "execution_count": 15,
   "id": "ce868b54",
   "metadata": {},
   "outputs": [
    {
     "data": {
      "text/plain": [
       "'Hello Justin, Mark, Luke, John!'"
      ]
     },
     "execution_count": 15,
     "metadata": {},
     "output_type": "execute_result"
    }
   ],
   "source": [
    "f\"Hello {name}, {'Mark'}, {'Luke'}, {'John'}!\""
   ]
  },
  {
   "cell_type": "markdown",
   "id": "ebeeb570",
   "metadata": {},
   "source": [
    "### String Methods"
   ]
  },
  {
   "cell_type": "code",
   "execution_count": 16,
   "id": "3339cb95",
   "metadata": {},
   "outputs": [
    {
     "data": {
      "text/plain": [
       "'Justin,Bob,Mike,Mark,Luke,John,Jane,Peggy,Sue'"
      ]
     },
     "execution_count": 16,
     "metadata": {},
     "output_type": "execute_result"
    }
   ],
   "source": [
    "'Justin/Bob/Mike/Mark/Luke/John/Jane/Peggy/Sue'.replace('/',',')"
   ]
  },
  {
   "cell_type": "code",
   "execution_count": 18,
   "id": "fd7d6bfd",
   "metadata": {},
   "outputs": [
    {
     "data": {
      "text/plain": [
       "['Justin', 'Bob', 'Mike', 'Mark', 'Luke', 'John', 'Jane', 'Peggy', 'Sue']"
      ]
     },
     "execution_count": 18,
     "metadata": {},
     "output_type": "execute_result"
    }
   ],
   "source": [
    "'Justin,Bob,Mike,Mark,Luke,John,Jane,Peggy,Sue'.split(',')"
   ]
  },
  {
   "cell_type": "code",
   "execution_count": 22,
   "id": "1bcf805c",
   "metadata": {},
   "outputs": [
    {
     "data": {
      "text/plain": [
       "'Justin, Bob, Mike, Mark, Luke, John, Jane, Peggy, Sue'"
      ]
     },
     "execution_count": 22,
     "metadata": {},
     "output_type": "execute_result"
    }
   ],
   "source": [
    "', '.join(['Justin', 'Bob', 'Mike', 'Mark', 'Luke', 'John', 'Jane', 'Peggy', 'Sue'])"
   ]
  },
  {
   "cell_type": "markdown",
   "id": "2d0dc895",
   "metadata": {},
   "source": [
    "### LISTS"
   ]
  },
  {
   "cell_type": "code",
   "execution_count": 24,
   "id": "f26109ae",
   "metadata": {},
   "outputs": [],
   "source": [
    "number_list = [1, 2, 3]"
   ]
  },
  {
   "cell_type": "code",
   "execution_count": 25,
   "id": "38e75e37",
   "metadata": {},
   "outputs": [
    {
     "data": {
      "text/plain": [
       "1"
      ]
     },
     "execution_count": 25,
     "metadata": {},
     "output_type": "execute_result"
    }
   ],
   "source": [
    "number_list[0]"
   ]
  },
  {
   "cell_type": "code",
   "execution_count": 26,
   "id": "85e24c8d",
   "metadata": {},
   "outputs": [
    {
     "data": {
      "text/plain": [
       "2"
      ]
     },
     "execution_count": 26,
     "metadata": {},
     "output_type": "execute_result"
    }
   ],
   "source": [
    "number_list[1]"
   ]
  },
  {
   "cell_type": "code",
   "execution_count": 27,
   "id": "a1532a21",
   "metadata": {},
   "outputs": [
    {
     "data": {
      "text/plain": [
       "3"
      ]
     },
     "execution_count": 27,
     "metadata": {},
     "output_type": "execute_result"
    }
   ],
   "source": [
    "number_list[2]"
   ]
  },
  {
   "cell_type": "code",
   "execution_count": 28,
   "id": "d0934a47",
   "metadata": {},
   "outputs": [
    {
     "ename": "IndexError",
     "evalue": "list index out of range",
     "output_type": "error",
     "traceback": [
      "\u001b[0;31m---------------------------------------------------------------------------\u001b[0m",
      "\u001b[0;31mIndexError\u001b[0m                                Traceback (most recent call last)",
      "Input \u001b[0;32mIn [28]\u001b[0m, in \u001b[0;36m<cell line: 1>\u001b[0;34m()\u001b[0m\n\u001b[0;32m----> 1\u001b[0m \u001b[43mnumber_list\u001b[49m\u001b[43m[\u001b[49m\u001b[38;5;241;43m3\u001b[39;49m\u001b[43m]\u001b[49m\n",
      "\u001b[0;31mIndexError\u001b[0m: list index out of range"
     ]
    }
   ],
   "source": [
    "number_list[3]"
   ]
  },
  {
   "cell_type": "code",
   "execution_count": 30,
   "id": "b7c931d8",
   "metadata": {},
   "outputs": [
    {
     "data": {
      "text/plain": [
       "[1]"
      ]
     },
     "execution_count": 30,
     "metadata": {},
     "output_type": "execute_result"
    }
   ],
   "source": [
    "number_list[0:1]"
   ]
  },
  {
   "cell_type": "markdown",
   "id": "0a9b81c6",
   "metadata": {},
   "source": [
    "-- 1st number is inclusive, 2nd number is exclusive"
   ]
  },
  {
   "cell_type": "code",
   "execution_count": 31,
   "id": "cea24928",
   "metadata": {},
   "outputs": [
    {
     "data": {
      "text/plain": [
       "[1, 2]"
      ]
     },
     "execution_count": 31,
     "metadata": {},
     "output_type": "execute_result"
    }
   ],
   "source": [
    "number_list[0:2]"
   ]
  },
  {
   "cell_type": "code",
   "execution_count": 35,
   "id": "7eac88ba",
   "metadata": {},
   "outputs": [],
   "source": [
    "list_of_lists = [[1,2,3],[4,5,6]]"
   ]
  },
  {
   "cell_type": "code",
   "execution_count": 36,
   "id": "5d6683f1",
   "metadata": {},
   "outputs": [
    {
     "data": {
      "text/plain": [
       "3"
      ]
     },
     "execution_count": 36,
     "metadata": {},
     "output_type": "execute_result"
    }
   ],
   "source": [
    "list_of_lists [0][2]"
   ]
  },
  {
   "cell_type": "code",
   "execution_count": 37,
   "id": "1ba95813",
   "metadata": {},
   "outputs": [
    {
     "data": {
      "text/plain": [
       "6"
      ]
     },
     "execution_count": 37,
     "metadata": {},
     "output_type": "execute_result"
    }
   ],
   "source": [
    "list_of_lists [1][2]"
   ]
  },
  {
   "cell_type": "code",
   "execution_count": 38,
   "id": "0e699895",
   "metadata": {},
   "outputs": [
    {
     "data": {
      "text/plain": [
       "[1, 2, 3, 4, 5, 6, 7, 8, 9, 10]"
      ]
     },
     "execution_count": 38,
     "metadata": {},
     "output_type": "execute_result"
    }
   ],
   "source": [
    "list(range(1, 11))"
   ]
  },
  {
   "cell_type": "code",
   "execution_count": 39,
   "id": "cd2a5584",
   "metadata": {},
   "outputs": [
    {
     "data": {
      "text/plain": [
       "[1, 2, 3, 4, 5, 6, 7, 8, 9, 10]"
      ]
     },
     "execution_count": 39,
     "metadata": {},
     "output_type": "execute_result"
    }
   ],
   "source": [
    "[n for n in range(1, 11)]"
   ]
  },
  {
   "cell_type": "code",
   "execution_count": 40,
   "id": "88c83368",
   "metadata": {},
   "outputs": [
    {
     "data": {
      "text/plain": [
       "[2, 4, 6, 8, 10, 12, 14, 16, 18, 20]"
      ]
     },
     "execution_count": 40,
     "metadata": {},
     "output_type": "execute_result"
    }
   ],
   "source": [
    "[n * 2 for n in range(1, 11)]"
   ]
  },
  {
   "cell_type": "code",
   "execution_count": 43,
   "id": "06bbe968",
   "metadata": {},
   "outputs": [
    {
     "data": {
      "text/plain": [
       "[4, 8, 12, 16, 20]"
      ]
     },
     "execution_count": 43,
     "metadata": {},
     "output_type": "execute_result"
    }
   ],
   "source": [
    "[n *2 for n in range(1, 11) if n % 2 == 0]"
   ]
  },
  {
   "cell_type": "code",
   "execution_count": 44,
   "id": "cbb4e576",
   "metadata": {},
   "outputs": [
    {
     "data": {
      "text/plain": [
       "[2, 4, 6, 8, 10]"
      ]
     },
     "execution_count": 44,
     "metadata": {},
     "output_type": "execute_result"
    }
   ],
   "source": [
    "[n for n in range(1, 11) if n % 2 == 0]"
   ]
  },
  {
   "cell_type": "code",
   "execution_count": 45,
   "id": "36c91c77",
   "metadata": {},
   "outputs": [
    {
     "data": {
      "text/plain": [
       "True"
      ]
     },
     "execution_count": 45,
     "metadata": {},
     "output_type": "execute_result"
    }
   ],
   "source": [
    "number_of_books = 5\n",
    "days_checked_out = 20\n",
    "\n",
    "number_of_days_allowed = number_of_books * 2\n",
    "\n",
    "days_checked_out > number_of_days_allowed"
   ]
  },
  {
   "cell_type": "code",
   "execution_count": 46,
   "id": "b913b9bf",
   "metadata": {},
   "outputs": [],
   "source": [
    "list_of_numbers = [n for n in range(10)]"
   ]
  },
  {
   "cell_type": "code",
   "execution_count": 47,
   "id": "eeaa2493",
   "metadata": {},
   "outputs": [
    {
     "data": {
      "text/plain": [
       "[0, 1, 2, 3, 4, 5, 6, 7, 8, 9]"
      ]
     },
     "execution_count": 47,
     "metadata": {},
     "output_type": "execute_result"
    }
   ],
   "source": [
    "list_of_numbers"
   ]
  },
  {
   "cell_type": "code",
   "execution_count": 48,
   "id": "5987a5fa",
   "metadata": {},
   "outputs": [],
   "source": [
    "list_of_numbers.append(10)"
   ]
  },
  {
   "cell_type": "code",
   "execution_count": 49,
   "id": "288cb9f7",
   "metadata": {},
   "outputs": [
    {
     "data": {
      "text/plain": [
       "[0, 1, 2, 3, 4, 5, 6, 7, 8, 9, 10]"
      ]
     },
     "execution_count": 49,
     "metadata": {},
     "output_type": "execute_result"
    }
   ],
   "source": [
    "list_of_numbers"
   ]
  },
  {
   "cell_type": "code",
   "execution_count": 50,
   "id": "48a1ef82",
   "metadata": {},
   "outputs": [],
   "source": [
    "list_of_numbers.append(50)"
   ]
  },
  {
   "cell_type": "code",
   "execution_count": 51,
   "id": "54c59e91",
   "metadata": {},
   "outputs": [
    {
     "data": {
      "text/plain": [
       "[0, 1, 2, 3, 4, 5, 6, 7, 8, 9, 10, 50]"
      ]
     },
     "execution_count": 51,
     "metadata": {},
     "output_type": "execute_result"
    }
   ],
   "source": [
    "list_of_numbers"
   ]
  },
  {
   "cell_type": "code",
   "execution_count": 53,
   "id": "f663ee48",
   "metadata": {},
   "outputs": [
    {
     "data": {
      "text/plain": [
       "50"
      ]
     },
     "execution_count": 53,
     "metadata": {},
     "output_type": "execute_result"
    }
   ],
   "source": [
    "list_of_numbers.pop()"
   ]
  },
  {
   "cell_type": "code",
   "execution_count": 54,
   "id": "1cfc0ad0",
   "metadata": {},
   "outputs": [
    {
     "data": {
      "text/plain": [
       "[0, 1, 2, 3, 4, 5, 6, 7, 8, 9, 10]"
      ]
     },
     "execution_count": 54,
     "metadata": {},
     "output_type": "execute_result"
    }
   ],
   "source": [
    "list_of_numbers"
   ]
  },
  {
   "cell_type": "code",
   "execution_count": 55,
   "id": "32618b02",
   "metadata": {},
   "outputs": [
    {
     "data": {
      "text/plain": [
       "0"
      ]
     },
     "execution_count": 55,
     "metadata": {},
     "output_type": "execute_result"
    }
   ],
   "source": [
    "list_of_numbers.pop(0)"
   ]
  },
  {
   "cell_type": "code",
   "execution_count": 56,
   "id": "c8d51c4c",
   "metadata": {},
   "outputs": [
    {
     "data": {
      "text/plain": [
       "[1, 2, 3, 4, 5, 6, 7, 8, 9, 10]"
      ]
     },
     "execution_count": 56,
     "metadata": {},
     "output_type": "execute_result"
    }
   ],
   "source": [
    "list_of_numbers"
   ]
  },
  {
   "cell_type": "code",
   "execution_count": 57,
   "id": "ed03c420",
   "metadata": {},
   "outputs": [
    {
     "data": {
      "text/plain": [
       "2"
      ]
     },
     "execution_count": 57,
     "metadata": {},
     "output_type": "execute_result"
    }
   ],
   "source": [
    "list_of_numbers.pop(1)"
   ]
  },
  {
   "cell_type": "code",
   "execution_count": 59,
   "id": "56d25ffe",
   "metadata": {},
   "outputs": [],
   "source": [
    "list_of_numbers.append(2)"
   ]
  },
  {
   "cell_type": "code",
   "execution_count": 60,
   "id": "599147bb",
   "metadata": {},
   "outputs": [
    {
     "data": {
      "text/plain": [
       "[1, 3, 4, 5, 6, 7, 8, 9, 10, 2]"
      ]
     },
     "execution_count": 60,
     "metadata": {},
     "output_type": "execute_result"
    }
   ],
   "source": [
    "list_of_numbers"
   ]
  },
  {
   "cell_type": "code",
   "execution_count": 61,
   "id": "0bedcc4f",
   "metadata": {},
   "outputs": [
    {
     "data": {
      "text/plain": [
       "10"
      ]
     },
     "execution_count": 61,
     "metadata": {},
     "output_type": "execute_result"
    }
   ],
   "source": [
    "len(list_of_numbers)"
   ]
  },
  {
   "cell_type": "code",
   "execution_count": 62,
   "id": "2d1598e1",
   "metadata": {},
   "outputs": [
    {
     "data": {
      "text/plain": [
       "5"
      ]
     },
     "execution_count": 62,
     "metadata": {},
     "output_type": "execute_result"
    }
   ],
   "source": [
    "len('Hello')"
   ]
  },
  {
   "cell_type": "code",
   "execution_count": 63,
   "id": "2cc8d2e4",
   "metadata": {},
   "outputs": [
    {
     "data": {
      "text/plain": [
       "6"
      ]
     },
     "execution_count": 63,
     "metadata": {},
     "output_type": "execute_result"
    }
   ],
   "source": [
    "len('hello ')"
   ]
  },
  {
   "cell_type": "code",
   "execution_count": 64,
   "id": "4c62eb33",
   "metadata": {},
   "outputs": [
    {
     "data": {
      "text/plain": [
       "2"
      ]
     },
     "execution_count": 64,
     "metadata": {},
     "output_type": "execute_result"
    }
   ],
   "source": [
    "len(list_of_lists)"
   ]
  },
  {
   "cell_type": "code",
   "execution_count": 65,
   "id": "654325b2",
   "metadata": {},
   "outputs": [
    {
     "data": {
      "text/plain": [
       "3"
      ]
     },
     "execution_count": 65,
     "metadata": {},
     "output_type": "execute_result"
    }
   ],
   "source": [
    "len(list_of_lists[1])"
   ]
  },
  {
   "cell_type": "code",
   "execution_count": 80,
   "id": "73cfa34b",
   "metadata": {},
   "outputs": [],
   "source": [
    "list_of_random_things = [1,'Hello There',[1,2,3,4,5]]"
   ]
  },
  {
   "cell_type": "code",
   "execution_count": 81,
   "id": "228865ac",
   "metadata": {},
   "outputs": [
    {
     "data": {
      "text/plain": [
       "[1, 'Hello There', [1, 2, 3, 4, 5]]"
      ]
     },
     "execution_count": 81,
     "metadata": {},
     "output_type": "execute_result"
    }
   ],
   "source": [
    "list_of_random_things"
   ]
  },
  {
   "cell_type": "code",
   "execution_count": 82,
   "id": "8d968caa",
   "metadata": {},
   "outputs": [
    {
     "data": {
      "text/plain": [
       "int"
      ]
     },
     "execution_count": 82,
     "metadata": {},
     "output_type": "execute_result"
    }
   ],
   "source": [
    "type(list_of_random_things[0])"
   ]
  },
  {
   "cell_type": "code",
   "execution_count": 83,
   "id": "c77ffa5c",
   "metadata": {},
   "outputs": [
    {
     "data": {
      "text/plain": [
       "str"
      ]
     },
     "execution_count": 83,
     "metadata": {},
     "output_type": "execute_result"
    }
   ],
   "source": [
    "type(list_of_random_things[1])"
   ]
  },
  {
   "cell_type": "code",
   "execution_count": 84,
   "id": "af6fc5a4",
   "metadata": {},
   "outputs": [
    {
     "data": {
      "text/plain": [
       "list"
      ]
     },
     "execution_count": 84,
     "metadata": {},
     "output_type": "execute_result"
    }
   ],
   "source": [
    "type(list_of_random_things[2])"
   ]
  },
  {
   "cell_type": "code",
   "execution_count": 87,
   "id": "10f3e724",
   "metadata": {
    "scrolled": true
   },
   "outputs": [
    {
     "ename": "TypeError",
     "evalue": "object of type 'int' has no len()",
     "output_type": "error",
     "traceback": [
      "\u001b[0;31m---------------------------------------------------------------------------\u001b[0m",
      "\u001b[0;31mTypeError\u001b[0m                                 Traceback (most recent call last)",
      "Input \u001b[0;32mIn [87]\u001b[0m, in \u001b[0;36m<cell line: 1>\u001b[0;34m()\u001b[0m\n\u001b[0;32m----> 1\u001b[0m \u001b[38;5;28;43mlen\u001b[39;49m\u001b[43m(\u001b[49m\u001b[43mlist_of_random_things\u001b[49m\u001b[43m[\u001b[49m\u001b[38;5;241;43m0\u001b[39;49m\u001b[43m]\u001b[49m\u001b[43m)\u001b[49m\n",
      "\u001b[0;31mTypeError\u001b[0m: object of type 'int' has no len()"
     ]
    }
   ],
   "source": [
    "len(list_of_random_things[0])"
   ]
  },
  {
   "cell_type": "code",
   "execution_count": 86,
   "id": "185cdd93",
   "metadata": {},
   "outputs": [
    {
     "data": {
      "text/plain": [
       "11"
      ]
     },
     "execution_count": 86,
     "metadata": {},
     "output_type": "execute_result"
    }
   ],
   "source": [
    "len(list_of_random_things[1])"
   ]
  },
  {
   "cell_type": "code",
   "execution_count": 85,
   "id": "bfa365ab",
   "metadata": {},
   "outputs": [
    {
     "data": {
      "text/plain": [
       "5"
      ]
     },
     "execution_count": 85,
     "metadata": {},
     "output_type": "execute_result"
    }
   ],
   "source": [
    "len(list_of_random_things[2])"
   ]
  },
  {
   "cell_type": "code",
   "execution_count": 88,
   "id": "6e3bc7c0",
   "metadata": {},
   "outputs": [
    {
     "data": {
      "text/plain": [
       "<map at 0x10a0853d0>"
      ]
     },
     "execution_count": 88,
     "metadata": {},
     "output_type": "execute_result"
    }
   ],
   "source": [
    "map(str, [1, 2, 3])"
   ]
  },
  {
   "cell_type": "code",
   "execution_count": 89,
   "id": "cb003c5d",
   "metadata": {},
   "outputs": [
    {
     "data": {
      "text/plain": [
       "['1', '3', '4', '5', '6', '7', '8', '9', '10', '2']"
      ]
     },
     "execution_count": 89,
     "metadata": {},
     "output_type": "execute_result"
    }
   ],
   "source": [
    "list(map(str, list_of_numbers))"
   ]
  },
  {
   "cell_type": "markdown",
   "id": "3c83e8a0",
   "metadata": {},
   "source": [
    "### TUPLES"
   ]
  },
  {
   "cell_type": "code",
   "execution_count": 90,
   "id": "ed5f4426",
   "metadata": {},
   "outputs": [],
   "source": [
    "tup_of_numbers = (1, 2, 3)"
   ]
  },
  {
   "cell_type": "code",
   "execution_count": 91,
   "id": "9f994336",
   "metadata": {},
   "outputs": [
    {
     "data": {
      "text/plain": [
       "(1, 2, 3)"
      ]
     },
     "execution_count": 91,
     "metadata": {},
     "output_type": "execute_result"
    }
   ],
   "source": [
    "tup_of_numbers"
   ]
  },
  {
   "cell_type": "code",
   "execution_count": 92,
   "id": "17915525",
   "metadata": {},
   "outputs": [],
   "source": [
    "list_of_numbers[4] = 200"
   ]
  },
  {
   "cell_type": "code",
   "execution_count": 93,
   "id": "70936065",
   "metadata": {},
   "outputs": [
    {
     "data": {
      "text/plain": [
       "[1, 3, 4, 5, 200, 7, 8, 9, 10, 2]"
      ]
     },
     "execution_count": 93,
     "metadata": {},
     "output_type": "execute_result"
    }
   ],
   "source": [
    "list_of_numbers"
   ]
  },
  {
   "cell_type": "code",
   "execution_count": 94,
   "id": "00208da4",
   "metadata": {},
   "outputs": [
    {
     "ename": "TypeError",
     "evalue": "'tuple' object does not support item assignment",
     "output_type": "error",
     "traceback": [
      "\u001b[0;31m---------------------------------------------------------------------------\u001b[0m",
      "\u001b[0;31mTypeError\u001b[0m                                 Traceback (most recent call last)",
      "Input \u001b[0;32mIn [94]\u001b[0m, in \u001b[0;36m<cell line: 1>\u001b[0;34m()\u001b[0m\n\u001b[0;32m----> 1\u001b[0m tup_of_numbers[\u001b[38;5;241m1\u001b[39m] \u001b[38;5;241m=\u001b[39m \u001b[38;5;241m200\u001b[39m\n",
      "\u001b[0;31mTypeError\u001b[0m: 'tuple' object does not support item assignment"
     ]
    }
   ],
   "source": [
    "tup_of_numbers[1] = 200"
   ]
  },
  {
   "cell_type": "markdown",
   "id": "06f45c18",
   "metadata": {},
   "source": [
    "--- Tuples cannot be changed"
   ]
  },
  {
   "cell_type": "markdown",
   "id": "8b979321",
   "metadata": {},
   "source": [
    "### DICTIONARY"
   ]
  },
  {
   "cell_type": "code",
   "execution_count": 108,
   "id": "63d91325",
   "metadata": {},
   "outputs": [],
   "source": [
    "about_me = {\n",
    "    'name': 'Justin',\n",
    "    'age': 48,\n",
    "    'Favorite Color': 'Red',\n",
    "    'Favorite Place': 'Europe',\n",
    "    'Pets': {'dogs': ['Holly', 'Beauregard', 'Coco', 'Luna', 'Loki'],\n",
    "            'cats':['cat1', 'cat2', 'cat3', 'cat4']}}"
   ]
  },
  {
   "cell_type": "code",
   "execution_count": 109,
   "id": "291a7c29",
   "metadata": {},
   "outputs": [
    {
     "data": {
      "text/plain": [
       "'Justin'"
      ]
     },
     "execution_count": 109,
     "metadata": {},
     "output_type": "execute_result"
    }
   ],
   "source": [
    "about_me['name']"
   ]
  },
  {
   "cell_type": "code",
   "execution_count": 110,
   "id": "88d2e870",
   "metadata": {},
   "outputs": [
    {
     "data": {
      "text/plain": [
       "48"
      ]
     },
     "execution_count": 110,
     "metadata": {},
     "output_type": "execute_result"
    }
   ],
   "source": [
    "about_me['age']"
   ]
  },
  {
   "cell_type": "code",
   "execution_count": 113,
   "id": "e0a716d1",
   "metadata": {},
   "outputs": [
    {
     "data": {
      "text/plain": [
       "{'dogs': ['Holly', 'Beauregard', 'Coco', 'Luna', 'Loki'],\n",
       " 'cats': ['cat1', 'cat2', 'cat3', 'cat4']}"
      ]
     },
     "execution_count": 113,
     "metadata": {},
     "output_type": "execute_result"
    }
   ],
   "source": [
    "about_me['Pets']"
   ]
  },
  {
   "cell_type": "code",
   "execution_count": 116,
   "id": "33b0cf1a",
   "metadata": {},
   "outputs": [
    {
     "data": {
      "text/plain": [
       "['Holly', 'Beauregard', 'Coco', 'Luna', 'Loki']"
      ]
     },
     "execution_count": 116,
     "metadata": {},
     "output_type": "execute_result"
    }
   ],
   "source": [
    "about_me['Pets']['dogs']"
   ]
  },
  {
   "cell_type": "code",
   "execution_count": 118,
   "id": "a7b39f72",
   "metadata": {},
   "outputs": [
    {
     "data": {
      "text/plain": [
       "dict_keys(['name', 'age', 'Favorite Color', 'Favorite Place', 'Pets'])"
      ]
     },
     "execution_count": 118,
     "metadata": {},
     "output_type": "execute_result"
    }
   ],
   "source": [
    "about_me.keys()"
   ]
  },
  {
   "cell_type": "code",
   "execution_count": 120,
   "id": "0fb0aa37",
   "metadata": {},
   "outputs": [
    {
     "data": {
      "text/plain": [
       "dict_keys(['dogs', 'cats'])"
      ]
     },
     "execution_count": 120,
     "metadata": {},
     "output_type": "execute_result"
    }
   ],
   "source": [
    "about_me['Pets'].keys()"
   ]
  },
  {
   "cell_type": "markdown",
   "id": "0f52a725",
   "metadata": {},
   "source": [
    "NAMING CONVENTIONS"
   ]
  },
  {
   "cell_type": "code",
   "execution_count": null,
   "id": "3fd2a4e2",
   "metadata": {},
   "outputs": [],
   "source": []
  }
 ],
 "metadata": {
  "kernelspec": {
   "display_name": "Python 3 (ipykernel)",
   "language": "python",
   "name": "python3"
  },
  "language_info": {
   "codemirror_mode": {
    "name": "ipython",
    "version": 3
   },
   "file_extension": ".py",
   "mimetype": "text/x-python",
   "name": "python",
   "nbconvert_exporter": "python",
   "pygments_lexer": "ipython3",
   "version": "3.9.12"
  }
 },
 "nbformat": 4,
 "nbformat_minor": 5
}
