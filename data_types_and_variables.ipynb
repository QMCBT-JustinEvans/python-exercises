{
 "cells": [
  {
   "cell_type": "markdown",
   "id": "ebdd442d",
   "metadata": {},
   "source": [
    "A student can be enrolled to a class only if the class is not full and the class schedule does not conflict with her current schedule."
   ]
  },
  {
   "cell_type": "code",
   "execution_count": 3,
   "id": "1d4168f5",
   "metadata": {},
   "outputs": [],
   "source": [
    "class_full = False\n",
    "schedules_conflict = False"
   ]
  },
  {
   "cell_type": "code",
   "execution_count": 6,
   "id": "e8f93501",
   "metadata": {},
   "outputs": [
    {
     "name": "stdout",
     "output_type": "stream",
     "text": [
      "can_enroll\n"
     ]
    }
   ],
   "source": [
    "if class_full == False and schedules_conflict == False:\n",
    "    print('can_enroll')\n",
    "else:\n",
    "    print('can_not_enroll')"
   ]
  },
  {
   "cell_type": "markdown",
   "id": "15c94699",
   "metadata": {},
   "source": [
    "A product offer can be applied only if people buys more than 2 items, and the offer has not expired. Premium members do not need to buy a specific amount of products."
   ]
  },
  {
   "cell_type": "code",
   "execution_count": 26,
   "id": "d53d6d2a",
   "metadata": {},
   "outputs": [],
   "source": [
    "items_bought = 2\n",
    "offer_expires = 20221031\n",
    "premium_member = True"
   ]
  },
  {
   "cell_type": "code",
   "execution_count": 27,
   "id": "a39809df",
   "metadata": {},
   "outputs": [],
   "source": [
    "if offer_expires < 20220916:\n",
    "    offer_expired = True\n",
    "else: offer_expired = False"
   ]
  },
  {
   "cell_type": "code",
   "execution_count": 28,
   "id": "466878ca",
   "metadata": {},
   "outputs": [],
   "source": [
    "if items_bought > 2 or premium_member == True:\n",
    "    required_items_bought = True\n",
    "else: required_items_bought = False"
   ]
  },
  {
   "cell_type": "code",
   "execution_count": 29,
   "id": "43fb4dc7",
   "metadata": {},
   "outputs": [
    {
     "name": "stdout",
     "output_type": "stream",
     "text": [
      "Product Offer Valid\n"
     ]
    }
   ],
   "source": [
    "if required_items_bought == True and offer_expired == False:\n",
    "    print('Product Offer Valid')\n",
    "else: print('Product Offer NOT Valid')"
   ]
  },
  {
   "cell_type": "markdown",
   "id": "6bc8ea8c",
   "metadata": {},
   "source": [
    "### Bonus \n",
    "#### neither the username or password can start or end with whitespace"
   ]
  },
  {
   "cell_type": "code",
   "execution_count": 30,
   "id": "eb8ed8a3",
   "metadata": {},
   "outputs": [],
   "source": [
    "username = 'username'\n",
    "password = 'password'"
   ]
  },
  {
   "cell_type": "markdown",
   "id": "d37662ab",
   "metadata": {},
   "source": [
    "KEEP A POSITIVE NAMING CONVENTION"
   ]
  },
  {
   "cell_type": "code",
   "execution_count": 32,
   "id": "810c8d17",
   "metadata": {},
   "outputs": [],
   "source": [
    "has_no_characters = len(username) == 0\n",
    "if has_no_character:"
   ]
  },
  {
   "cell_type": "code",
   "execution_count": null,
   "id": "66b5c25a",
   "metadata": {},
   "outputs": [],
   "source": [
    "has_characters = len(username) > 0\n",
    "if not has_character:"
   ]
  },
  {
   "cell_type": "code",
   "execution_count": null,
   "id": "79892f5a",
   "metadata": {},
   "outputs": [],
   "source": [
    "s_empty = len(username) == 0\n",
    "if is_empty:"
   ]
  }
 ],
 "metadata": {
  "kernelspec": {
   "display_name": "Python 3 (ipykernel)",
   "language": "python",
   "name": "python3"
  },
  "language_info": {
   "codemirror_mode": {
    "name": "ipython",
    "version": 3
   },
   "file_extension": ".py",
   "mimetype": "text/x-python",
   "name": "python",
   "nbconvert_exporter": "python",
   "pygments_lexer": "ipython3",
   "version": "3.9.12"
  }
 },
 "nbformat": 4,
 "nbformat_minor": 5
}
