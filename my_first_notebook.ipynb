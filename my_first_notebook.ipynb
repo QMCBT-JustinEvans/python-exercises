{
 "cells": [
  {
   "cell_type": "code",
   "execution_count": 1,
   "id": "7f7d68e0",
   "metadata": {},
   "outputs": [],
   "source": [
    "x=1"
   ]
  },
  {
   "cell_type": "code",
   "execution_count": 2,
   "id": "574aaa99",
   "metadata": {},
   "outputs": [
    {
     "data": {
      "text/plain": [
       "1"
      ]
     },
     "execution_count": 2,
     "metadata": {},
     "output_type": "execute_result"
    }
   ],
   "source": [
    "x"
   ]
  },
  {
   "cell_type": "code",
   "execution_count": 5,
   "id": "ce34f125",
   "metadata": {},
   "outputs": [],
   "source": [
    "x=x+1"
   ]
  },
  {
   "cell_type": "code",
   "execution_count": 6,
   "id": "406ca47d",
   "metadata": {},
   "outputs": [
    {
     "data": {
      "text/plain": [
       "3"
      ]
     },
     "execution_count": 6,
     "metadata": {},
     "output_type": "execute_result"
    }
   ],
   "source": [
    "x"
   ]
  },
  {
   "cell_type": "code",
   "execution_count": 7,
   "id": "616947f3",
   "metadata": {},
   "outputs": [],
   "source": [
    "note1 = 'shift+enter will run command'"
   ]
  },
  {
   "cell_type": "code",
   "execution_count": 8,
   "id": "f9ad7cb4",
   "metadata": {},
   "outputs": [],
   "source": [
    "note2 = 'pressing dd while in command mode (by clicking a cell outside the text box) will DELETE the cell'"
   ]
  },
  {
   "cell_type": "code",
   "execution_count": 9,
   "id": "037a99ab",
   "metadata": {},
   "outputs": [],
   "source": [
    "note3 = 'pressing a (ABOVE) or b (BELOW) while in command mode (by clicking a cell outside the text box) will CREATE a cel ABOVE or BELOW the current cell selected'"
   ]
  },
  {
   "cell_type": "code",
   "execution_count": null,
   "id": "57ed91cd",
   "metadata": {},
   "outputs": [],
   "source": []
  }
 ],
 "metadata": {
  "kernelspec": {
   "display_name": "Python 3.9.6 64-bit",
   "language": "python",
   "name": "python3"
  },
  "language_info": {
   "codemirror_mode": {
    "name": "ipython",
    "version": 3
   },
   "file_extension": ".py",
   "mimetype": "text/x-python",
   "name": "python",
   "nbconvert_exporter": "python",
   "pygments_lexer": "ipython3",
   "version": "3.9.6"
  },
  "vscode": {
   "interpreter": {
    "hash": "31f2aee4e71d21fbe5cf8b01ff0e069b9275f58929596ceb00d14d90e3e16cd6"
   }
  }
 },
 "nbformat": 4,
 "nbformat_minor": 5
}
