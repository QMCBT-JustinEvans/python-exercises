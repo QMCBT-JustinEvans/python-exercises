{
 "cells": [
  {
   "cell_type": "markdown",
   "id": "b28c4565",
   "metadata": {},
   "source": [
    "### 1. Conditional Basics"
   ]
  },
  {
   "cell_type": "markdown",
   "id": "c595e371",
   "metadata": {},
   "source": [
    "a. prompt the user for a day of the week, print out whether the day is Monday or not"
   ]
  },
  {
   "cell_type": "code",
   "execution_count": 1,
   "id": "646ce5bb",
   "metadata": {},
   "outputs": [
    {
     "name": "stdout",
     "output_type": "stream",
     "text": [
      "Day of the Week: Doomsday\n",
      "Doomsday is just another day of the week.\n"
     ]
    }
   ],
   "source": [
    "day_of_the_week = input('Day of the Week: ')\n",
    "if day_of_the_week == 'Monday' or day_of_the_week == 'monday':\n",
    "    print(\"It's another wonderful Monday!\")\n",
    "else:\n",
    "    print(f'{day_of_the_week} is just another day of the week.')"
   ]
  },
  {
   "cell_type": "markdown",
   "id": "0b19c859",
   "metadata": {},
   "source": [
    "b. prompt the user for a day of the week, print out whether the day is a weekday or a weekend"
   ]
  },
  {
   "cell_type": "code",
   "execution_count": 2,
   "id": "8f27d63f",
   "metadata": {},
   "outputs": [
    {
     "name": "stdout",
     "output_type": "stream",
     "text": [
      "Day of the Week: Doomsday\n",
      "Doomsday is not a valid day of the week!\n"
     ]
    }
   ],
   "source": [
    "weekday = ['Monday', 'Mon', 'Tuesday', 'Tues', 'Wednesday', 'Wed', 'Thursday', 'Thur', 'Friday', 'Fri']\n",
    "weekend = ['Saterday', 'Sat', 'Sunday', 'Sun']\n",
    "day_of_the_week = input('Day of the Week: ')\n",
    "if day_of_the_week in weekday:\n",
    "    print(f'{day_of_the_week} is a weekday.')\n",
    "elif day_of_the_week in weekend:\n",
    "    print(f'{day_of_the_week} is on the weekend.')\n",
    "else:\n",
    "    print(f'{day_of_the_week} is not a valid day of the week!')"
   ]
  },
  {
   "cell_type": "markdown",
   "id": "abb40500",
   "metadata": {},
   "source": [
    "c. create variables and make up values for\n",
    "\n",
    "* the number of hours worked in one week\n",
    "* the hourly rate\n",
    "* how much the week's paycheck will be\n",
    "\n",
    "write the python code that calculates the weekly paycheck. \n",
    "You get paid time and a half if you work more than 40 hours."
   ]
  },
  {
   "cell_type": "code",
   "execution_count": 3,
   "id": "140669dc",
   "metadata": {},
   "outputs": [
    {
     "name": "stdout",
     "output_type": "stream",
     "text": [
      "900.0\n"
     ]
    }
   ],
   "source": [
    "weekly_hours_worked = 60\n",
    "hourly_wage = 10\n",
    "weekly_paycheck = weekly_hours_worked * hourly_wage\n",
    "overtime = hourly_wage * 1.5\n",
    "\n",
    "if weekly_hours_worked <= 40: \n",
    "    print(weekly_paycheck)\n",
    "\n",
    "elif weekly_hours_worked > 40: \n",
    "    print(weekly_hours_worked * overtime)"
   ]
  },
  {
   "cell_type": "markdown",
   "id": "f179104a",
   "metadata": {},
   "source": [
    "### 2. Loop Basics"
   ]
  },
  {
   "cell_type": "markdown",
   "id": "5ca47b92",
   "metadata": {},
   "source": [
    "a. While\n",
    "\n",
    "* Create an integer variable i with a value of 5.\n",
    "* Create a while loop that runs so long as i is less than or equal to 15\n",
    "* Each loop iteration, output the current value of i, then increment i by one.\n",
    "\n",
    "Your output should look like this:\n",
    "\n",
    "5\n",
    "6\n",
    "7\n",
    "8\n",
    "9\n",
    "10\n",
    "11\n",
    "12\n",
    "13\n",
    "14\n",
    "15"
   ]
  },
  {
   "cell_type": "code",
   "execution_count": 4,
   "id": "1ead5f55",
   "metadata": {},
   "outputs": [
    {
     "name": "stdout",
     "output_type": "stream",
     "text": [
      "5\n",
      "6\n",
      "7\n",
      "8\n",
      "9\n",
      "10\n",
      "11\n",
      "12\n",
      "13\n",
      "14\n",
      "15\n"
     ]
    }
   ],
   "source": [
    "i = int(5)\n",
    "while i <= 15:\n",
    "    print(i) # order of print matters\n",
    "    i += 1"
   ]
  },
  {
   "cell_type": "markdown",
   "id": "0ea91bf0",
   "metadata": {},
   "source": [
    "* Create a while loop that will count by 2's starting with 0 and ending at 100. Follow each number with a new line."
   ]
  },
  {
   "cell_type": "code",
   "execution_count": 7,
   "id": "7fa9103e",
   "metadata": {},
   "outputs": [
    {
     "name": "stdout",
     "output_type": "stream",
     "text": [
      "0\n",
      "2\n",
      "4\n",
      "6\n",
      "8\n",
      "10\n",
      "12\n",
      "14\n",
      "16\n",
      "18\n",
      "20\n",
      "22\n",
      "24\n",
      "26\n",
      "28\n",
      "30\n",
      "32\n",
      "34\n",
      "36\n",
      "38\n",
      "40\n",
      "42\n",
      "44\n",
      "46\n",
      "48\n",
      "50\n",
      "52\n",
      "54\n",
      "56\n",
      "58\n",
      "60\n",
      "62\n",
      "64\n",
      "66\n",
      "68\n",
      "70\n",
      "72\n",
      "74\n",
      "76\n",
      "78\n",
      "80\n",
      "82\n",
      "84\n",
      "86\n",
      "88\n",
      "90\n",
      "92\n",
      "94\n",
      "96\n",
      "98\n",
      "100\n"
     ]
    }
   ],
   "source": [
    "i = 0\n",
    "\n",
    "while i <= 100:\n",
    "    print(i)\n",
    "    i += 2"
   ]
  },
  {
   "cell_type": "markdown",
   "id": "6507370a",
   "metadata": {},
   "source": [
    "* Alter your loop to count backwards by 5's from 100 to -10."
   ]
  },
  {
   "cell_type": "code",
   "execution_count": 1,
   "id": "a9aa4be9",
   "metadata": {},
   "outputs": [
    {
     "name": "stdout",
     "output_type": "stream",
     "text": [
      "100\n",
      "95\n",
      "90\n",
      "85\n",
      "80\n",
      "75\n",
      "70\n",
      "65\n",
      "60\n",
      "55\n",
      "50\n",
      "45\n",
      "40\n",
      "35\n",
      "30\n",
      "25\n",
      "20\n",
      "15\n",
      "10\n",
      "5\n",
      "0\n",
      "-5\n",
      "-10\n"
     ]
    }
   ],
   "source": [
    "i = 100\n",
    "\n",
    "while i >= -10 and i <= 100: # order is important!\n",
    "    # less than 100 listed first will NOT stop at -10\n",
    "    print(i)\n",
    "    i -= 5"
   ]
  },
  {
   "cell_type": "markdown",
   "id": "852233c5",
   "metadata": {},
   "source": [
    "* Create a while loop that starts at 2, and displays the number squared on each line while the number is less than 1,000,000. \n",
    "\n",
    "Output should equal:\n",
    "\n",
    " 2\n",
    " 4\n",
    " 16\n",
    " 256\n",
    " 65536"
   ]
  },
  {
   "cell_type": "code",
   "execution_count": 3,
   "id": "71108f5a",
   "metadata": {},
   "outputs": [
    {
     "name": "stdout",
     "output_type": "stream",
     "text": [
      "2\n",
      "4\n",
      "16\n",
      "256\n",
      "65536\n"
     ]
    }
   ],
   "source": [
    "number = 2\n",
    "while number < 1000000:\n",
    "    print(number)\n",
    "    number **= 2"
   ]
  },
  {
   "cell_type": "markdown",
   "id": "ac637e96",
   "metadata": {},
   "source": [
    "Write a loop that uses print to create the output shown below.\n",
    "\n",
    "100\n",
    "95\n",
    "90\n",
    "85\n",
    "80\n",
    "75\n",
    "70\n",
    "65\n",
    "60\n",
    "55\n",
    "50\n",
    "45\n",
    "40\n",
    "35\n",
    "30\n",
    "25\n",
    "20\n",
    "15\n",
    "10\n",
    "5"
   ]
  },
  {
   "cell_type": "code",
   "execution_count": 4,
   "id": "26b2bee4",
   "metadata": {},
   "outputs": [
    {
     "name": "stdout",
     "output_type": "stream",
     "text": [
      "100\n",
      "95\n",
      "90\n",
      "85\n",
      "80\n",
      "75\n",
      "70\n",
      "65\n",
      "60\n",
      "55\n",
      "50\n",
      "45\n",
      "40\n",
      "35\n",
      "30\n",
      "25\n",
      "20\n",
      "15\n",
      "10\n",
      "5\n"
     ]
    }
   ],
   "source": [
    "i = 100\n",
    "\n",
    "while i >= 5 and i <= 100:\n",
    "    print(i)\n",
    "    i -= 5"
   ]
  },
  {
   "cell_type": "markdown",
   "id": "49193d5d",
   "metadata": {},
   "source": [
    "b. For Loops"
   ]
  },
  {
   "cell_type": "markdown",
   "id": "32df16be",
   "metadata": {},
   "source": [
    "i. Write some code that prompts the user for a number, then shows a multiplication table up through 10 for that number.\n",
    "\n",
    "For example, if the user enters 7, your program should output:\n",
    "\n",
    "7 x 1 = 7\n",
    "7 x 2 = 14\n",
    "7 x 3 = 21\n",
    "7 x 4 = 28\n",
    "7 x 5 = 35\n",
    "7 x 6 = 42\n",
    "7 x 7 = 49\n",
    "7 x 8 = 56\n",
    "7 x 9 = 63\n",
    "7 x 10 = 70"
   ]
  },
  {
   "cell_type": "code",
   "execution_count": 25,
   "id": "eb894eec",
   "metadata": {},
   "outputs": [
    {
     "name": "stdout",
     "output_type": "stream",
     "text": [
      "Choose a whole number: 7\n",
      "7 x 1 = 7\n",
      "7 x 2 = 14\n",
      "7 x 3 = 21\n",
      "7 x 4 = 28\n",
      "7 x 5 = 35\n",
      "7 x 6 = 42\n",
      "7 x 7 = 49\n",
      "7 x 8 = 56\n",
      "7 x 9 = 63\n",
      "7 x 10 = 70\n"
     ]
    }
   ],
   "source": [
    "multipliers = map(int, list(range(1,11)))\n",
    "number = int(input('Choose a whole number: '))\n",
    "for multiplier in multipliers:\n",
    "    result = number * multiplier\n",
    "    print(f'{number} x {multiplier} = {result}')"
   ]
  },
  {
   "cell_type": "markdown",
   "id": "cdbf50ba",
   "metadata": {},
   "source": [
    "NOTE: 1st attempt grabbed input as str"
   ]
  },
  {
   "cell_type": "code",
   "execution_count": 31,
   "id": "2744f275",
   "metadata": {},
   "outputs": [
    {
     "name": "stdout",
     "output_type": "stream",
     "text": [
      "hg7\n",
      "7 * 1 = 7\n",
      "7 * 2 = 77\n",
      "7 * 3 = 777\n",
      "7 * 4 = 7777\n",
      "7 * 5 = 77777\n",
      "7 * 6 = 777777\n",
      "7 * 7 = 7777777\n",
      "7 * 8 = 77777777\n",
      "7 * 9 = 777777777\n",
      "7 * 10 = 7777777777\n"
     ]
    }
   ],
   "source": [
    "a = input('hg')\n",
    "for i in range(1,11):\n",
    "    print(f'{a} * {i} = {a*i}')"
   ]
  },
  {
   "cell_type": "markdown",
   "id": "ee842a27",
   "metadata": {},
   "source": [
    "ii. Create a for loop that uses print to create the output shown below.\n",
    "\n",
    "\n",
    "1\n",
    "22\n",
    "333\n",
    "4444\n",
    "55555\n",
    "666666\n",
    "7777777\n",
    "88888888\n",
    "999999999"
   ]
  },
  {
   "cell_type": "code",
   "execution_count": 42,
   "id": "86028beb",
   "metadata": {},
   "outputs": [
    {
     "name": "stdout",
     "output_type": "stream",
     "text": [
      "1\n",
      "22\n",
      "333\n",
      "4444\n",
      "55555\n",
      "666666\n",
      "7777777\n",
      "88888888\n",
      "999999999\n"
     ]
    }
   ],
   "source": [
    "a = 1 # a not needed i * i would work\n",
    "for i in range(1,10):\n",
    "    print(str(a)*i)\n",
    "    a += 1"
   ]
  },
  {
   "cell_type": "code",
   "execution_count": null,
   "id": "1a289b42",
   "metadata": {},
   "outputs": [],
   "source": []
  }
 ],
 "metadata": {
  "kernelspec": {
   "display_name": "Python 3 (ipykernel)",
   "language": "python",
   "name": "python3"
  },
  "language_info": {
   "codemirror_mode": {
    "name": "ipython",
    "version": 3
   },
   "file_extension": ".py",
   "mimetype": "text/x-python",
   "name": "python",
   "nbconvert_exporter": "python",
   "pygments_lexer": "ipython3",
   "version": "3.9.12"
  }
 },
 "nbformat": 4,
 "nbformat_minor": 5
}
