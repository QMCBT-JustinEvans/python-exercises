{
 "cells": [
  {
   "cell_type": "markdown",
   "id": "b28c4565",
   "metadata": {},
   "source": [
    "### 1. Conditional Basics"
   ]
  },
  {
   "cell_type": "markdown",
   "id": "c595e371",
   "metadata": {},
   "source": [
    "a. prompt the user for a day of the week, print out whether the day is Monday or not"
   ]
  },
  {
   "cell_type": "code",
   "execution_count": 1,
   "id": "646ce5bb",
   "metadata": {},
   "outputs": [
    {
     "name": "stdout",
     "output_type": "stream",
     "text": [
      "Day of the Week: Doomsday\n",
      "Doomsday is just another day of the week.\n"
     ]
    }
   ],
   "source": [
    "day_of_the_week = input('Day of the Week: ')\n",
    "#day_of_the_week = input('Day of the Week: ').lower()\n",
    "\n",
    "if day_of_the_week == 'Monday' or day_of_the_week == 'monday':\n",
    "#if day_of_the_week.lower() == 'monday'\n",
    "\n",
    "    print(\"It's another wonderful Monday!\")\n",
    "else:\n",
    "    print(f'{day_of_the_week} is just another day of the week.')"
   ]
  },
  {
   "cell_type": "markdown",
   "id": "0b19c859",
   "metadata": {},
   "source": [
    "b. prompt the user for a day of the week, print out whether the day is a weekday or a weekend"
   ]
  },
  {
   "cell_type": "code",
   "execution_count": 2,
   "id": "8f27d63f",
   "metadata": {},
   "outputs": [
    {
     "name": "stdout",
     "output_type": "stream",
     "text": [
      "Day of the Week: Doomsday\n",
      "Doomsday is not a valid day of the week!\n"
     ]
    }
   ],
   "source": [
    "weekday = ['Monday', 'Mon', 'Tuesday', 'Tues', 'Wednesday', 'Wed', 'Thursday', 'Thur', 'Friday', 'Fri']\n",
    "weekend = ['Saterday', 'Sat', 'Sunday', 'Sun']\n",
    "day_of_the_week = input('Day of the Week: ')\n",
    "if day_of_the_week in weekday:\n",
    "    print(f'{day_of_the_week} is a weekday.')\n",
    "elif day_of_the_week in weekend:\n",
    "    print(f'{day_of_the_week} is on the weekend.')\n",
    "else:\n",
    "    print(f'{day_of_the_week} is not a valid day of the week!')"
   ]
  },
  {
   "cell_type": "markdown",
   "id": "abb40500",
   "metadata": {},
   "source": [
    "c. create variables and make up values for\n",
    "\n",
    "* the number of hours worked in one week\n",
    "* the hourly rate\n",
    "* how much the week's paycheck will be\n",
    "\n",
    "write the python code that calculates the weekly paycheck. \n",
    "You get paid time and a half if you work more than 40 hours."
   ]
  },
  {
   "cell_type": "code",
   "execution_count": 102,
   "id": "140669dc",
   "metadata": {},
   "outputs": [
    {
     "name": "stdout",
     "output_type": "stream",
     "text": [
      "900.0\n"
     ]
    }
   ],
   "source": [
    "weekly_hours_worked = 60\n",
    "hourly_wage = 10\n",
    "weekly_paycheck = weekly_hours_worked * hourly_wage\n",
    "overtime = hourly_wage * 1.5\n",
    "\n",
    "if weekly_hours_worked <= 40: \n",
    "    print(weekly_paycheck)\n",
    "\n",
    "elif weekly_hours_worked > 40: \n",
    "    print(weekly_hours_worked * overtime)\n",
    "    #NEED TO SUBTRACT INITIAL 40hours"
   ]
  },
  {
   "cell_type": "markdown",
   "id": "f179104a",
   "metadata": {},
   "source": [
    "### 2. Loop Basics"
   ]
  },
  {
   "cell_type": "markdown",
   "id": "5ca47b92",
   "metadata": {},
   "source": [
    "a. While\n",
    "\n",
    "* Create an integer variable i with a value of 5.\n",
    "* Create a while loop that runs so long as i is less than or equal to 15\n",
    "* Each loop iteration, output the current value of i, then increment i by one.\n",
    "\n",
    "Your output should look like this:\n",
    "\n",
    "5\n",
    "6\n",
    "7\n",
    "8\n",
    "9\n",
    "10\n",
    "11\n",
    "12\n",
    "13\n",
    "14\n",
    "15"
   ]
  },
  {
   "cell_type": "code",
   "execution_count": 4,
   "id": "1ead5f55",
   "metadata": {},
   "outputs": [
    {
     "name": "stdout",
     "output_type": "stream",
     "text": [
      "5\n",
      "6\n",
      "7\n",
      "8\n",
      "9\n",
      "10\n",
      "11\n",
      "12\n",
      "13\n",
      "14\n",
      "15\n"
     ]
    }
   ],
   "source": [
    "i = int(5)\n",
    "while i <= 15:\n",
    "    print(i) # order of print matters\n",
    "    i += 1"
   ]
  },
  {
   "cell_type": "markdown",
   "id": "0ea91bf0",
   "metadata": {},
   "source": [
    "* Create a while loop that will count by 2's starting with 0 and ending at 100. Follow each number with a new line."
   ]
  },
  {
   "cell_type": "code",
   "execution_count": 7,
   "id": "7fa9103e",
   "metadata": {},
   "outputs": [
    {
     "name": "stdout",
     "output_type": "stream",
     "text": [
      "0\n",
      "2\n",
      "4\n",
      "6\n",
      "8\n",
      "10\n",
      "12\n",
      "14\n",
      "16\n",
      "18\n",
      "20\n",
      "22\n",
      "24\n",
      "26\n",
      "28\n",
      "30\n",
      "32\n",
      "34\n",
      "36\n",
      "38\n",
      "40\n",
      "42\n",
      "44\n",
      "46\n",
      "48\n",
      "50\n",
      "52\n",
      "54\n",
      "56\n",
      "58\n",
      "60\n",
      "62\n",
      "64\n",
      "66\n",
      "68\n",
      "70\n",
      "72\n",
      "74\n",
      "76\n",
      "78\n",
      "80\n",
      "82\n",
      "84\n",
      "86\n",
      "88\n",
      "90\n",
      "92\n",
      "94\n",
      "96\n",
      "98\n",
      "100\n"
     ]
    }
   ],
   "source": [
    "i = 0\n",
    "\n",
    "while i <= 100:\n",
    "    print(i)\n",
    "    i += 2"
   ]
  },
  {
   "cell_type": "markdown",
   "id": "6507370a",
   "metadata": {},
   "source": [
    "* Alter your loop to count backwards by 5's from 100 to -10."
   ]
  },
  {
   "cell_type": "code",
   "execution_count": 1,
   "id": "a9aa4be9",
   "metadata": {},
   "outputs": [
    {
     "name": "stdout",
     "output_type": "stream",
     "text": [
      "100\n",
      "95\n",
      "90\n",
      "85\n",
      "80\n",
      "75\n",
      "70\n",
      "65\n",
      "60\n",
      "55\n",
      "50\n",
      "45\n",
      "40\n",
      "35\n",
      "30\n",
      "25\n",
      "20\n",
      "15\n",
      "10\n",
      "5\n",
      "0\n",
      "-5\n",
      "-10\n"
     ]
    }
   ],
   "source": [
    "i = 100\n",
    "\n",
    "while i >= -10 and i <= 100: # order is important!\n",
    "    # less than 100 listed first will NOT stop at -10\n",
    "    print(i)\n",
    "    i -= 5"
   ]
  },
  {
   "cell_type": "markdown",
   "id": "852233c5",
   "metadata": {},
   "source": [
    "* Create a while loop that starts at 2, and displays the number squared on each line while the number is less than 1,000,000. \n",
    "\n",
    "Output should equal:\n",
    "\n",
    " 2\n",
    " 4\n",
    " 16\n",
    " 256\n",
    " 65536"
   ]
  },
  {
   "cell_type": "code",
   "execution_count": 103,
   "id": "71108f5a",
   "metadata": {},
   "outputs": [
    {
     "name": "stdout",
     "output_type": "stream",
     "text": [
      "2\n",
      "4\n",
      "16\n",
      "256\n",
      "65536\n"
     ]
    }
   ],
   "source": [
    "number = 2\n",
    "while number < 1_000_000:\n",
    "    print(number)\n",
    "    number **= 2"
   ]
  },
  {
   "cell_type": "markdown",
   "id": "ac637e96",
   "metadata": {},
   "source": [
    "Write a loop that uses print to create the output shown below.\n",
    "\n",
    "100\n",
    "95\n",
    "90\n",
    "85\n",
    "80\n",
    "75\n",
    "70\n",
    "65\n",
    "60\n",
    "55\n",
    "50\n",
    "45\n",
    "40\n",
    "35\n",
    "30\n",
    "25\n",
    "20\n",
    "15\n",
    "10\n",
    "5"
   ]
  },
  {
   "cell_type": "code",
   "execution_count": 4,
   "id": "26b2bee4",
   "metadata": {},
   "outputs": [
    {
     "name": "stdout",
     "output_type": "stream",
     "text": [
      "100\n",
      "95\n",
      "90\n",
      "85\n",
      "80\n",
      "75\n",
      "70\n",
      "65\n",
      "60\n",
      "55\n",
      "50\n",
      "45\n",
      "40\n",
      "35\n",
      "30\n",
      "25\n",
      "20\n",
      "15\n",
      "10\n",
      "5\n"
     ]
    }
   ],
   "source": [
    "i = 100\n",
    "\n",
    "while i >= 5 and i <= 100:\n",
    "    print(i)\n",
    "    i -= 5"
   ]
  },
  {
   "cell_type": "markdown",
   "id": "02b71c88",
   "metadata": {},
   "source": [
    "b. For Loops"
   ]
  },
  {
   "cell_type": "markdown",
   "id": "2106f74e",
   "metadata": {},
   "source": [
    "i. Write some code that prompts the user for a number, then shows a multiplication table up through 10 for that number.\n",
    "\n",
    "For example, if the user enters 7, your program should output:\n",
    "\n",
    "7 x 1 = 7\n",
    "7 x 2 = 14\n",
    "7 x 3 = 21\n",
    "7 x 4 = 28\n",
    "7 x 5 = 35\n",
    "7 x 6 = 42\n",
    "7 x 7 = 49\n",
    "7 x 8 = 56\n",
    "7 x 9 = 63\n",
    "7 x 10 = 70"
   ]
  },
  {
   "cell_type": "code",
   "execution_count": 25,
   "id": "c97695f2",
   "metadata": {},
   "outputs": [
    {
     "name": "stdout",
     "output_type": "stream",
     "text": [
      "Choose a whole number: 7\n",
      "7 x 1 = 7\n",
      "7 x 2 = 14\n",
      "7 x 3 = 21\n",
      "7 x 4 = 28\n",
      "7 x 5 = 35\n",
      "7 x 6 = 42\n",
      "7 x 7 = 49\n",
      "7 x 8 = 56\n",
      "7 x 9 = 63\n",
      "7 x 10 = 70\n"
     ]
    }
   ],
   "source": [
    "multipliers = map(int, list(range(1,11)))\n",
    "number = int(input('Choose a whole number: '))\n",
    "for multiplier in multipliers:\n",
    "    result = number * multiplier\n",
    "    print(f'{number} x {multiplier} = {result}')"
   ]
  },
  {
   "cell_type": "code",
   "execution_count": 106,
   "id": "bc6db4ce",
   "metadata": {},
   "outputs": [
    {
     "name": "stdout",
     "output_type": "stream",
     "text": [
      "Choose a whole number: 7\n",
      "7 x 1 = 7\n",
      "7 x 2 = 77\n",
      "7 x 3 = 777\n",
      "7 x 4 = 7777\n",
      "7 x 5 = 77777\n",
      "7 x 6 = 777777\n",
      "7 x 7 = 7777777\n",
      "7 x 8 = 77777777\n",
      "7 x 9 = 777777777\n",
      "7 x 10 = 7777777777\n"
     ]
    }
   ],
   "source": [
    "usernum = input('Choose a whole number: ')\n",
    "for x in range(1, 11):\n",
    "    print(f'{usernum} x {x} = {int(usernum * x)}')"
   ]
  },
  {
   "cell_type": "markdown",
   "id": "357e975a",
   "metadata": {},
   "source": [
    "NOTE: 1st attempt grabbed input as str"
   ]
  },
  {
   "cell_type": "code",
   "execution_count": 31,
   "id": "db56e18f",
   "metadata": {},
   "outputs": [
    {
     "name": "stdout",
     "output_type": "stream",
     "text": [
      "hg7\n",
      "7 * 1 = 7\n",
      "7 * 2 = 77\n",
      "7 * 3 = 777\n",
      "7 * 4 = 7777\n",
      "7 * 5 = 77777\n",
      "7 * 6 = 777777\n",
      "7 * 7 = 7777777\n",
      "7 * 8 = 77777777\n",
      "7 * 9 = 777777777\n",
      "7 * 10 = 7777777777\n"
     ]
    }
   ],
   "source": [
    "a = input('hg')\n",
    "for i in range(1,11):\n",
    "    print(f'{a} * {i} = {a*i}')"
   ]
  },
  {
   "cell_type": "markdown",
   "id": "6c2a7272",
   "metadata": {},
   "source": [
    "ii. Create a for loop that uses print to create the output shown below.\n",
    "\n",
    "\n",
    "1\n",
    "22\n",
    "333\n",
    "4444\n",
    "55555\n",
    "666666\n",
    "7777777\n",
    "88888888\n",
    "999999999"
   ]
  },
  {
   "cell_type": "code",
   "execution_count": 42,
   "id": "1c675a03",
   "metadata": {},
   "outputs": [
    {
     "name": "stdout",
     "output_type": "stream",
     "text": [
      "1\n",
      "22\n",
      "333\n",
      "4444\n",
      "55555\n",
      "666666\n",
      "7777777\n",
      "88888888\n",
      "999999999\n"
     ]
    }
   ],
   "source": [
    "a = 1 # a not needed i * i would work\n",
    "for i in range(1,10):\n",
    "    print(str(a)*i)\n",
    "    a += 1"
   ]
  },
  {
   "cell_type": "markdown",
   "id": "22e02756",
   "metadata": {},
   "source": [
    "c. break and continue"
   ]
  },
  {
   "cell_type": "markdown",
   "id": "02811ba3",
   "metadata": {},
   "source": [
    "i. Write a program that prompts the user for a positive integer. Next write a loop that prints out the numbers from the number the user entered down to 1."
   ]
  },
  {
   "cell_type": "code",
   "execution_count": 59,
   "id": "bf418118",
   "metadata": {
    "scrolled": false
   },
   "outputs": [
    {
     "name": "stdout",
     "output_type": "stream",
     "text": [
      "Chose a Posititive Intiger: 5\n",
      "5\n",
      "4\n",
      "3\n",
      "2\n",
      "1\n"
     ]
    }
   ],
   "source": [
    "pos_int = int(input('Choose a Posititive Intiger: '))\n",
    "while pos_int > 0:\n",
    "    print(pos_int)\n",
    "    pos_int -= 1\n",
    "    if pos_int == 0:\n",
    "        break\n",
    "else:\n",
    "    print(f'{pos_int} is not a positive integer!')    "
   ]
  },
  {
   "cell_type": "code",
   "execution_count": 109,
   "id": "c35255c2",
   "metadata": {},
   "outputs": [
    {
     "name": "stdout",
     "output_type": "stream",
     "text": [
      "Positive Number: Hello\n",
      "Positive Number: -7\n",
      "Positive Number: 5\n",
      "This is a digit\n",
      "Number is Positive\n",
      "5\n",
      "4\n",
      "3\n",
      "2\n",
      "1\n"
     ]
    }
   ],
   "source": [
    "while True:\n",
    "    user_num = input('Positive Number: ')\n",
    "    if user_num.isdigit() == True:\n",
    "        print('This is a digit')\n",
    "        if int(user_num) > 0:\n",
    "            print('Number is Positive')\n",
    "            break\n",
    "            \n",
    "user_num = int(user_num)\n",
    "for i in range(user_num, 0, -1):\n",
    "    print(i)"
   ]
  },
  {
   "cell_type": "markdown",
   "id": "5e0a5b1e",
   "metadata": {},
   "source": [
    "ii. The input function can be used to prompt for input and use that input in your python code. Prompt the user to enter a positive number and write a loop that counts from 0 to that number. \n",
    "\n",
    "(Hints: first make sure that the value the user entered is a valid number, also note that the input function returns a string, so you'll need to convert this to a numeric type.)"
   ]
  },
  {
   "cell_type": "code",
   "execution_count": 111,
   "id": "daa428ad",
   "metadata": {},
   "outputs": [
    {
     "name": "stdout",
     "output_type": "stream",
     "text": [
      "Choose a Posititive Intiger: 5\n",
      "0\n",
      "1\n",
      "2\n",
      "3\n",
      "4\n",
      "5\n"
     ]
    }
   ],
   "source": [
    "pos_int = int(input('Choose a Posititive Intiger: '))\n",
    "number = 0\n",
    "while pos_int > 0:\n",
    "    print(number)\n",
    "    number += 1\n",
    "    if number > pos_int:\n",
    "        break\n",
    "else:\n",
    "    print(f'{pos_int} is not a positive integer!')    "
   ]
  },
  {
   "cell_type": "code",
   "execution_count": 110,
   "id": "99a7ce02",
   "metadata": {},
   "outputs": [
    {
     "name": "stdout",
     "output_type": "stream",
     "text": [
      "Positive Number: 5\n",
      "This is a digit\n",
      "Number is Positive\n",
      "0\n",
      "1\n",
      "2\n",
      "3\n",
      "4\n",
      "5\n"
     ]
    }
   ],
   "source": [
    "while True:\n",
    "    user_num = input('Positive Number: ')\n",
    "    if user_num.isdigit() == True:\n",
    "        print('This is a digit')\n",
    "        if int(user_num) > 0:\n",
    "            print('Number is Positive')\n",
    "            break\n",
    "            \n",
    "for i in range(int(user_num) +1):\n",
    "    print(i)"
   ]
  },
  {
   "cell_type": "markdown",
   "id": "3bfe55db",
   "metadata": {},
   "source": [
    "iii. Prompt the user for an odd number between 1 and 50. \n",
    "Use a loop and a break statement to continue prompting the user if they enter invalid input. \n",
    "\n",
    "(Hint: use the isdigit method on strings to determine this). \n",
    "\n",
    "Use a loop and the continue statement to output all the odd numbers between 1 and 50, except for the number the user entered.\n",
    "\n",
    "Your output should look like this:\n",
    "\n",
    "Number to skip is: 27\n",
    "\n",
    "Here is an odd number: 1\n",
    "Here is an odd number: 3\n",
    "Here is an odd number: 5\n",
    "Here is an odd number: 7\n",
    "Here is an odd number: 9\n",
    "Here is an odd number: 11\n",
    "Here is an odd number: 13\n",
    "Here is an odd number: 15\n",
    "Here is an odd number: 17\n",
    "Here is an odd number: 19\n",
    "Here is an odd number: 21\n",
    "Here is an odd number: 23\n",
    "Here is an odd number: 25\n",
    "Yikes! Skipping number: 27\n",
    "Here is an odd number: 29\n",
    "Here is an odd number: 31\n",
    "Here is an odd number: 33\n",
    "Here is an odd number: 35\n",
    "Here is an odd number: 37\n",
    "Here is an odd number: 39\n",
    "Here is an odd number: 41\n",
    "Here is an odd number: 43\n",
    "Here is an odd number: 45\n",
    "Here is an odd number: 47\n",
    "Here is an odd number: 49"
   ]
  },
  {
   "cell_type": "code",
   "execution_count": 86,
   "id": "7fca818b",
   "metadata": {},
   "outputs": [
    {
     "name": "stdout",
     "output_type": "stream",
     "text": [
      "Choose an odd number between 1 and 50: 3\n",
      "True\n"
     ]
    }
   ],
   "source": [
    "user_input = input('Choose an odd number between 1 and 50: ')\n",
    "if odd_num = user_input.isdigit() % 2 == 1\n",
    "odd_1_to_50 = odd_num > 0 and odd_num <= 50\n",
    "print(odd_1_to_50)\n",
    "\n",
    "#while odd_num :\n",
    "#    if odd_1_to_50 % 2 == 0:\n",
    "#     print(odd_1_to_50)\n",
    "#    else:\n",
    "#        print(f'{odd_1_to_50} is not an an odd number between 1 and 50!')\n",
    "#        number += 2\n",
    "#    if odd_1_to_50 > 50:\n",
    "#        break\n",
    "#else:\n",
    "#    print(f'{odd_1_to_50} is not an an odd number between 1 and 50!')"
   ]
  },
  {
   "cell_type": "code",
   "execution_count": 125,
   "id": "12b94c8d",
   "metadata": {},
   "outputs": [
    {
     "name": "stdout",
     "output_type": "stream",
     "text": [
      "Enter an odd number between 1 and 50: 20\n",
      "Enter an odd number between 1 and 50: 27\n",
      "Here is an odd number: 1\n",
      "Here is an odd number: 3\n",
      "Here is an odd number: 5\n",
      "Here is an odd number: 7\n",
      "Here is an odd number: 9\n",
      "Here is an odd number: 11\n",
      "Here is an odd number: 13\n",
      "Here is an odd number: 15\n",
      "Here is an odd number: 17\n",
      "Here is an odd number: 19\n",
      "Here is an odd number: 21\n",
      "Here is an odd number: 23\n",
      "Here is an odd number: 25\n",
      "Yikes! Skipping number: 27\n",
      "Here is an odd number: 29\n",
      "Here is an odd number: 31\n",
      "Here is an odd number: 33\n",
      "Here is an odd number: 35\n",
      "Here is an odd number: 37\n",
      "Here is an odd number: 39\n",
      "Here is an odd number: 41\n",
      "Here is an odd number: 43\n",
      "Here is an odd number: 45\n",
      "Here is an odd number: 47\n",
      "Here is an odd number: 49\n"
     ]
    }
   ],
   "source": [
    "while True:\n",
    "    user_num = input('Enter an odd number between 1 and 50: ')\n",
    "    \n",
    "    if user_num.isdigit():\n",
    "        #print('This is a digit')\n",
    "        if int(user_num) % 2 != 0:\n",
    "            #print('This is an odd number')\n",
    "            if (int(user_num) > 1) and (int(user_num) < 50):\n",
    "                #print('This number is between 1-50')\n",
    "                break\n",
    "                \n",
    "user_num = int(user_num)            \n",
    "                \n",
    "for i in range(1, 50):\n",
    "    if i == user_num:\n",
    "        print(f'Yikes! Skipping number: {user_num}')\n",
    "        continue\n",
    "    if i % 2 == 1:\n",
    "        print(f'Here is an odd number: {i}')"
   ]
  },
  {
   "cell_type": "markdown",
   "id": "f69903b4",
   "metadata": {},
   "source": [
    "3. Fizzbuzz\n",
    "\n",
    "One of the most common interview questions for entry-level programmers is the FizzBuzz test. Developed by Imran Ghory, the test is designed to test basic looping and conditional logic skills.\n",
    "\n",
    "* Write a program that prints the numbers from 1 to 100.\n",
    "* For multiples of three print \"Fizz\" instead of the number\n",
    "* For the multiples of five print \"Buzz\".\n",
    "* For numbers which are multiples of both three and five print \"FizzBuzz\"."
   ]
  },
  {
   "cell_type": "markdown",
   "id": "c34ae597",
   "metadata": {},
   "source": [
    "* Write a program that prints the numbers from 1 to 100."
   ]
  },
  {
   "cell_type": "code",
   "execution_count": 93,
   "id": "82e9c1d2",
   "metadata": {},
   "outputs": [
    {
     "name": "stdout",
     "output_type": "stream",
     "text": [
      "1\n",
      "2\n",
      "3\n",
      "4\n",
      "5\n",
      "6\n",
      "7\n",
      "8\n",
      "9\n",
      "10\n",
      "11\n",
      "12\n",
      "13\n",
      "14\n",
      "15\n",
      "16\n",
      "17\n",
      "18\n",
      "19\n",
      "20\n",
      "21\n",
      "22\n",
      "23\n",
      "24\n",
      "25\n",
      "26\n",
      "27\n",
      "28\n",
      "29\n",
      "30\n",
      "31\n",
      "32\n",
      "33\n",
      "34\n",
      "35\n",
      "36\n",
      "37\n",
      "38\n",
      "39\n",
      "40\n",
      "41\n",
      "42\n",
      "43\n",
      "44\n",
      "45\n",
      "46\n",
      "47\n",
      "48\n",
      "49\n",
      "50\n",
      "51\n",
      "52\n",
      "53\n",
      "54\n",
      "55\n",
      "56\n",
      "57\n",
      "58\n",
      "59\n",
      "60\n",
      "61\n",
      "62\n",
      "63\n",
      "64\n",
      "65\n",
      "66\n",
      "67\n",
      "68\n",
      "69\n",
      "70\n",
      "71\n",
      "72\n",
      "73\n",
      "74\n",
      "75\n",
      "76\n",
      "77\n",
      "78\n",
      "79\n",
      "80\n",
      "81\n",
      "82\n",
      "83\n",
      "84\n",
      "85\n",
      "86\n",
      "87\n",
      "88\n",
      "89\n",
      "90\n",
      "91\n",
      "92\n",
      "93\n",
      "94\n",
      "95\n",
      "96\n",
      "97\n",
      "98\n",
      "99\n",
      "100\n"
     ]
    }
   ],
   "source": [
    "imposter = 1\n",
    "while imposter > 0 and imposter <= 100:\n",
    "    print(imposter)\n",
    "    imposter += 1\n"
   ]
  },
  {
   "cell_type": "code",
   "execution_count": 128,
   "id": "fea6eb9e",
   "metadata": {},
   "outputs": [
    {
     "name": "stdout",
     "output_type": "stream",
     "text": [
      "1\n",
      "2\n",
      "3 - Fizz\n",
      "4\n",
      "5 - Buzz\n",
      "6 - Fizz\n",
      "7\n",
      "8\n",
      "9 - Fizz\n",
      "10 - Buzz\n",
      "11\n",
      "12 - Fizz\n",
      "13\n",
      "14\n",
      "15 - FizzBuzz\n",
      "16\n",
      "17\n",
      "18 - Fizz\n",
      "19\n",
      "20 - Buzz\n",
      "21 - Fizz\n",
      "22\n",
      "23\n",
      "24 - Fizz\n",
      "25 - Buzz\n",
      "26\n",
      "27 - Fizz\n",
      "28\n",
      "29\n",
      "30 - FizzBuzz\n",
      "31\n",
      "32\n",
      "33 - Fizz\n",
      "34\n",
      "35 - Buzz\n",
      "36 - Fizz\n",
      "37\n",
      "38\n",
      "39 - Fizz\n",
      "40 - Buzz\n",
      "41\n",
      "42 - Fizz\n",
      "43\n",
      "44\n",
      "45 - FizzBuzz\n",
      "46\n",
      "47\n",
      "48 - Fizz\n",
      "49\n",
      "50 - Buzz\n",
      "51 - Fizz\n",
      "52\n",
      "53\n",
      "54 - Fizz\n",
      "55 - Buzz\n",
      "56\n",
      "57 - Fizz\n",
      "58\n",
      "59\n",
      "60 - FizzBuzz\n",
      "61\n",
      "62\n",
      "63 - Fizz\n",
      "64\n",
      "65 - Buzz\n",
      "66 - Fizz\n",
      "67\n",
      "68\n",
      "69 - Fizz\n",
      "70 - Buzz\n",
      "71\n",
      "72 - Fizz\n",
      "73\n",
      "74\n",
      "75 - FizzBuzz\n",
      "76\n",
      "77\n",
      "78 - Fizz\n",
      "79\n",
      "80 - Buzz\n",
      "81 - Fizz\n",
      "82\n",
      "83\n",
      "84 - Fizz\n",
      "85 - Buzz\n",
      "86\n",
      "87 - Fizz\n",
      "88\n",
      "89\n",
      "90 - FizzBuzz\n",
      "91\n",
      "92\n",
      "93 - Fizz\n",
      "94\n",
      "95 - Buzz\n",
      "96 - Fizz\n",
      "97\n",
      "98\n",
      "99 - Fizz\n",
      "100 - Buzz\n"
     ]
    }
   ],
   "source": [
    "for i in range(1,101):\n",
    "    if i % 15 == 0:\n",
    "        print(f'{i} - FizzBuzz')\n",
    "        continue\n",
    "    if i % 3 == 0:\n",
    "        print (f'{i} - Fizz')\n",
    "        continue\n",
    "    if i % 5 == 0:\n",
    "        print(f'{i} - Buzz')\n",
    "        continue\n",
    "    print(i)"
   ]
  },
  {
   "cell_type": "markdown",
   "id": "093abc1e",
   "metadata": {},
   "source": [
    "* For multiples of three print \"Fizz\" instead of the number"
   ]
  },
  {
   "cell_type": "code",
   "execution_count": 94,
   "id": "479bf00c",
   "metadata": {},
   "outputs": [
    {
     "name": "stdout",
     "output_type": "stream",
     "text": [
      "1\n",
      "2\n",
      "Fizz\n",
      "3\n",
      "4\n",
      "5\n",
      "Fizz\n",
      "6\n",
      "7\n",
      "8\n",
      "Fizz\n",
      "9\n",
      "10\n",
      "11\n",
      "Fizz\n",
      "12\n",
      "13\n",
      "14\n",
      "Fizz\n",
      "15\n",
      "16\n",
      "17\n",
      "Fizz\n",
      "18\n",
      "19\n",
      "20\n",
      "Fizz\n",
      "21\n",
      "22\n",
      "23\n",
      "Fizz\n",
      "24\n",
      "25\n",
      "26\n",
      "Fizz\n",
      "27\n",
      "28\n",
      "29\n",
      "Fizz\n",
      "30\n",
      "31\n",
      "32\n",
      "Fizz\n",
      "33\n",
      "34\n",
      "35\n",
      "Fizz\n",
      "36\n",
      "37\n",
      "38\n",
      "Fizz\n",
      "39\n",
      "40\n",
      "41\n",
      "Fizz\n",
      "42\n",
      "43\n",
      "44\n",
      "Fizz\n",
      "45\n",
      "46\n",
      "47\n",
      "Fizz\n",
      "48\n",
      "49\n",
      "50\n",
      "Fizz\n",
      "51\n",
      "52\n",
      "53\n",
      "Fizz\n",
      "54\n",
      "55\n",
      "56\n",
      "Fizz\n",
      "57\n",
      "58\n",
      "59\n",
      "Fizz\n",
      "60\n",
      "61\n",
      "62\n",
      "Fizz\n",
      "63\n",
      "64\n",
      "65\n",
      "Fizz\n",
      "66\n",
      "67\n",
      "68\n",
      "Fizz\n",
      "69\n",
      "70\n",
      "71\n",
      "Fizz\n",
      "72\n",
      "73\n",
      "74\n",
      "Fizz\n",
      "75\n",
      "76\n",
      "77\n",
      "Fizz\n",
      "78\n",
      "79\n",
      "80\n",
      "Fizz\n",
      "81\n",
      "82\n",
      "83\n",
      "Fizz\n",
      "84\n",
      "85\n",
      "86\n",
      "Fizz\n",
      "87\n",
      "88\n",
      "89\n",
      "Fizz\n",
      "90\n",
      "91\n",
      "92\n",
      "Fizz\n",
      "93\n",
      "94\n",
      "95\n",
      "Fizz\n",
      "96\n",
      "97\n",
      "98\n",
      "Fizz\n",
      "99\n",
      "100\n"
     ]
    }
   ],
   "source": [
    "imposter = 1\n",
    "while imposter > 0 and imposter <= 100:\n",
    "    if imposter % 3 == 0:\n",
    "        print('Fizz')\n",
    "    print(imposter)\n",
    "    imposter += 1"
   ]
  },
  {
   "cell_type": "markdown",
   "id": "cbbf9230",
   "metadata": {},
   "source": [
    "4. Display a table of powers.\n",
    "\n",
    "* Prompt the user to enter an integer.\n",
    "* Display a table of squares and cubes from 1 to the value entered.\n",
    "* Ask if the user wants to continue.\n",
    "* Assume that the user will enter valid data.\n",
    "* Only continue if the user agrees to.\n",
    "\n",
    "Example Output\n",
    "What number would you like to go up to? 5\n",
    "\n",
    "Here is your table!\n",
    "\n",
    "number | squared | cubed\n",
    "------ | ------- | -----\n",
    "1      | 1       | 1\n",
    "2      | 4       | 8\n",
    "3      | 9       | 27\n",
    "4      | 16      | 64\n",
    "5      | 25      | 125\n",
    "\n",
    "Bonus: Research python's format string specifiers to align the table"
   ]
  },
  {
   "cell_type": "code",
   "execution_count": 129,
   "id": "d6f17dfa",
   "metadata": {},
   "outputs": [
    {
     "name": "stdout",
     "output_type": "stream",
     "text": [
      "Choose an intiger: 3\n"
     ]
    },
    {
     "data": {
      "text/plain": [
       "(3, 9, 27)"
      ]
     },
     "execution_count": 129,
     "metadata": {},
     "output_type": "execute_result"
    }
   ],
   "source": [
    "user_num = int(input('Choose an intiger: '))\n",
    "user_num, user_num**2, user_num**3"
   ]
  },
  {
   "cell_type": "code",
   "execution_count": 152,
   "id": "b842b758",
   "metadata": {},
   "outputs": [
    {
     "name": "stdout",
     "output_type": "stream",
     "text": [
      "Choose an integer: 5\n",
      "1 |1 |1\n",
      "2 |4 |8\n",
      "3 |9 |27\n",
      "4 |16 |64\n",
      "5 |25 |125\n",
      "Would you like to continue? y/n: y\n",
      "Choose an integer: 8\n",
      "1 |1 |1\n",
      "2 |4 |8\n",
      "3 |9 |27\n",
      "4 |16 |64\n",
      "5 |25 |125\n",
      "6 |36 |216\n",
      "7 |49 |343\n",
      "8 |64 |512\n",
      "Would you like to continue? y/n: n\n"
     ]
    }
   ],
   "source": [
    "while True:\n",
    "    user_num = int(input('Choose an integer: '))\n",
    "\n",
    "    for i in range(1, user_num + 1):\n",
    "        print(f'{i} |{i**2} |{i**3}')\n",
    "    \n",
    "    user_yn = input('Would you like to continue? y/n: ')\n",
    "    if user_yn.lower() != 'y':\n",
    "        break"
   ]
  },
  {
   "cell_type": "markdown",
   "id": "b4a024a8",
   "metadata": {},
   "source": [
    "5. Convert given number grades into letter grades.\n",
    "\n",
    "* Prompt the user for a numerical grade from 0 to 100.\n",
    "* Display the corresponding letter grade.\n",
    "* Prompt the user to continue.\n",
    "* Assume that the user will enter valid integers for the grades.\n",
    "* The application should only continue if the user agrees to.\n",
    "* Grade Ranges:\n",
    "\n",
    "    * A : 100 - 88\n",
    "    * B : 87 - 80\n",
    "    * C : 79 - 67\n",
    "    * D : 66 - 60\n",
    "    * F : 59 - 0\n",
    "\n",
    "Bonus\n",
    "\n",
    "Edit your grade ranges to include pluses and minuses (ex: 99-100 = A+)."
   ]
  },
  {
   "cell_type": "code",
   "execution_count": 140,
   "id": "c05710b3",
   "metadata": {},
   "outputs": [
    {
     "name": "stdout",
     "output_type": "stream",
     "text": [
      "Enter a numerical grade 1-10056\n",
      "F\n",
      "Would you like to continue? y/n: y\n",
      "Enter a numerical grade 1-10089\n",
      "A\n",
      "Would you like to continue? y/n: n\n"
     ]
    }
   ],
   "source": [
    "while True:\n",
    "    user_grade = int(input('Enter a numerical grade 1-100'))\n",
    "    if user_grade >=88:\n",
    "        print('A')\n",
    "    elif user_grade >=80:\n",
    "        print('B')\n",
    "    elif user_grade >=67:\n",
    "        print('C')\n",
    "    elif user_grade >=60:\n",
    "        print('D')\n",
    "    else:\n",
    "        print('F')\n",
    "    \n",
    "    user_yn = input('Would you like to continue? y/n: ')\n",
    "    if user_yn.lower() != 'y':\n",
    "        break"
   ]
  },
  {
   "cell_type": "markdown",
   "id": "4804bd68",
   "metadata": {},
   "source": [
    "LEARN DICTIONARY FORMAT AND FUNCTION!"
   ]
  },
  {
   "cell_type": "markdown",
   "id": "f9eab7f3",
   "metadata": {},
   "source": [
    "6. Create a list of dictionaries where each dictionary represents a book that you have read. Each dictionary in the list should have the keys title, author, and genre. Loop through the list and print out information about each book.\n",
    "\n",
    "a. Prompt the user to enter a genre, then loop through your books list and print out the titles of all the books in that genre."
   ]
  },
  {
   "cell_type": "code",
   "execution_count": 161,
   "id": "703fc59a",
   "metadata": {},
   "outputs": [
    {
     "name": "stdout",
     "output_type": "stream",
     "text": [
      "title\n",
      "author\n",
      "genre\n"
     ]
    }
   ],
   "source": [
    "list_of_dict = {'title': 'Title-01', 'author': 'Author-01', 'genre': 'Genre-01',\n",
    "                'title': 'Title-02', 'author': 'Author-02', 'genre': 'Genre-02',\n",
    "                'title': 'Title-03', 'author': 'Author-03', 'genre': 'Genre-03'\n",
    "               }\n",
    "for title in list_of_dict:\n",
    "    print(title)"
   ]
  },
  {
   "cell_type": "code",
   "execution_count": null,
   "id": "1cd7c0f3",
   "metadata": {},
   "outputs": [],
   "source": []
  }
 ],
 "metadata": {
  "kernelspec": {
   "display_name": "Python 3 (ipykernel)",
   "language": "python",
   "name": "python3"
  },
  "language_info": {
   "codemirror_mode": {
    "name": "ipython",
    "version": 3
   },
   "file_extension": ".py",
   "mimetype": "text/x-python",
   "name": "python",
   "nbconvert_exporter": "python",
   "pygments_lexer": "ipython3",
   "version": "3.9.12"
  }
 },
 "nbformat": 4,
 "nbformat_minor": 5
}
