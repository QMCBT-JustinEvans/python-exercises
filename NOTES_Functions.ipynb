{
 "cells": [
  {
   "cell_type": "code",
   "execution_count": 1,
   "id": "9ddd6ada",
   "metadata": {},
   "outputs": [
    {
     "data": {
      "text/plain": [
       "4"
      ]
     },
     "execution_count": 1,
     "metadata": {},
     "output_type": "execute_result"
    }
   ],
   "source": [
    "len([1, 2, 3, 4])"
   ]
  },
  {
   "cell_type": "markdown",
   "id": "898a5545",
   "metadata": {},
   "source": [
    "### How to make our own Function\n",
    "``` python\n",
    "def name_of_function(parameters):\n",
    "    return result\n",
    "\n",
    "name_of_function(arguments)\n",
    "```"
   ]
  },
  {
   "cell_type": "code",
   "execution_count": 2,
   "id": "90dd47ea",
   "metadata": {},
   "outputs": [],
   "source": [
    "def increment(n):\n",
    "    return n + 1"
   ]
  },
  {
   "cell_type": "code",
   "execution_count": 3,
   "id": "15ed4bf7",
   "metadata": {},
   "outputs": [
    {
     "data": {
      "text/plain": [
       "2"
      ]
     },
     "execution_count": 3,
     "metadata": {},
     "output_type": "execute_result"
    }
   ],
   "source": [
    "increment(1)"
   ]
  },
  {
   "cell_type": "code",
   "execution_count": 4,
   "id": "66177218",
   "metadata": {},
   "outputs": [
    {
     "data": {
      "text/plain": [
       "3"
      ]
     },
     "execution_count": 4,
     "metadata": {},
     "output_type": "execute_result"
    }
   ],
   "source": [
    "increment(increment(1))"
   ]
  },
  {
   "cell_type": "code",
   "execution_count": 5,
   "id": "a3966479",
   "metadata": {},
   "outputs": [
    {
     "data": {
      "text/plain": [
       "7"
      ]
     },
     "execution_count": 5,
     "metadata": {},
     "output_type": "execute_result"
    }
   ],
   "source": [
    "increment(increment(increment(increment(increment(increment(1))))))"
   ]
  },
  {
   "cell_type": "code",
   "execution_count": 6,
   "id": "00e5a236",
   "metadata": {},
   "outputs": [],
   "source": [
    "#input = 'Hello'\n",
    "#print(input)"
   ]
  },
  {
   "cell_type": "code",
   "execution_count": 7,
   "id": "c8e8db3a",
   "metadata": {},
   "outputs": [
    {
     "name": "stdout",
     "output_type": "stream",
     "text": [
      "Select a number: 5\n"
     ]
    },
    {
     "data": {
      "text/plain": [
       "'5'"
      ]
     },
     "execution_count": 7,
     "metadata": {},
     "output_type": "execute_result"
    }
   ],
   "source": [
    "input('Select a number: ')"
   ]
  },
  {
   "cell_type": "code",
   "execution_count": 8,
   "id": "dca67d4b",
   "metadata": {},
   "outputs": [],
   "source": [
    "def length(thing):\n",
    "    count = 0\n",
    "    if thing == '' or thing == []:\n",
    "        return count\n",
    "    \n",
    "    for item in thing:\n",
    "        count += 1\n",
    "        \n",
    "    return count"
   ]
  },
  {
   "cell_type": "code",
   "execution_count": 9,
   "id": "edd5edab",
   "metadata": {},
   "outputs": [
    {
     "data": {
      "text/plain": [
       "3"
      ]
     },
     "execution_count": 9,
     "metadata": {},
     "output_type": "execute_result"
    }
   ],
   "source": [
    "length([1, 2, 3])"
   ]
  },
  {
   "cell_type": "code",
   "execution_count": 10,
   "id": "ad46353d",
   "metadata": {},
   "outputs": [
    {
     "data": {
      "text/plain": [
       "5"
      ]
     },
     "execution_count": 10,
     "metadata": {},
     "output_type": "execute_result"
    }
   ],
   "source": [
    "length('hello')"
   ]
  },
  {
   "cell_type": "markdown",
   "id": "188c6951",
   "metadata": {},
   "source": [
    "### Multiple Return Statements"
   ]
  },
  {
   "cell_type": "code",
   "execution_count": 11,
   "id": "230a3692",
   "metadata": {},
   "outputs": [],
   "source": [
    "def increment(n):\n",
    "    return n + 1\n",
    "    print('You will never see this')\n",
    "    return n + 1"
   ]
  },
  {
   "cell_type": "code",
   "execution_count": 12,
   "id": "526e49d5",
   "metadata": {},
   "outputs": [
    {
     "data": {
      "text/plain": [
       "2"
      ]
     },
     "execution_count": 12,
     "metadata": {},
     "output_type": "execute_result"
    }
   ],
   "source": [
    "increment(1)"
   ]
  },
  {
   "cell_type": "markdown",
   "id": "bc29c420",
   "metadata": {},
   "source": [
    "### What if I don't return anything"
   ]
  },
  {
   "cell_type": "code",
   "execution_count": 13,
   "id": "1b0b29be",
   "metadata": {},
   "outputs": [],
   "source": [
    "def say_hello():\n",
    "    print('Hello')"
   ]
  },
  {
   "cell_type": "code",
   "execution_count": 15,
   "id": "80599121",
   "metadata": {},
   "outputs": [
    {
     "name": "stdout",
     "output_type": "stream",
     "text": [
      "Hello\n"
     ]
    }
   ],
   "source": [
    "say_hello()"
   ]
  },
  {
   "cell_type": "code",
   "execution_count": 16,
   "id": "8db5d818",
   "metadata": {},
   "outputs": [
    {
     "name": "stdout",
     "output_type": "stream",
     "text": [
      "Hello\n"
     ]
    }
   ],
   "source": [
    "hello = say_hello()"
   ]
  },
  {
   "cell_type": "code",
   "execution_count": 18,
   "id": "dbc664a0",
   "metadata": {},
   "outputs": [
    {
     "name": "stdout",
     "output_type": "stream",
     "text": [
      "Hello\n"
     ]
    }
   ],
   "source": [
    "say_hello()"
   ]
  },
  {
   "cell_type": "code",
   "execution_count": 19,
   "id": "4e1e60f3",
   "metadata": {},
   "outputs": [
    {
     "ename": "TypeError",
     "evalue": "say_hello() takes 0 positional arguments but 1 was given",
     "output_type": "error",
     "traceback": [
      "\u001b[0;31m---------------------------------------------------------------------------\u001b[0m",
      "\u001b[0;31mTypeError\u001b[0m                                 Traceback (most recent call last)",
      "Input \u001b[0;32mIn [19]\u001b[0m, in \u001b[0;36m<cell line: 1>\u001b[0;34m()\u001b[0m\n\u001b[0;32m----> 1\u001b[0m \u001b[43msay_hello\u001b[49m\u001b[43m(\u001b[49m\u001b[38;5;124;43m'\u001b[39;49m\u001b[38;5;124;43mJustin\u001b[39;49m\u001b[38;5;124;43m'\u001b[39;49m\u001b[43m)\u001b[49m\n",
      "\u001b[0;31mTypeError\u001b[0m: say_hello() takes 0 positional arguments but 1 was given"
     ]
    }
   ],
   "source": [
    "say_hello('Justin')"
   ]
  },
  {
   "cell_type": "code",
   "execution_count": 20,
   "id": "c6c2e98f",
   "metadata": {},
   "outputs": [
    {
     "ename": "TypeError",
     "evalue": "length() takes 1 positional argument but 2 were given",
     "output_type": "error",
     "traceback": [
      "\u001b[0;31m---------------------------------------------------------------------------\u001b[0m",
      "\u001b[0;31mTypeError\u001b[0m                                 Traceback (most recent call last)",
      "Input \u001b[0;32mIn [20]\u001b[0m, in \u001b[0;36m<cell line: 1>\u001b[0;34m()\u001b[0m\n\u001b[0;32m----> 1\u001b[0m \u001b[43mlength\u001b[49m\u001b[43m(\u001b[49m\u001b[38;5;124;43m'\u001b[39;49m\u001b[38;5;124;43mHello\u001b[39;49m\u001b[38;5;124;43m'\u001b[39;49m\u001b[43m,\u001b[49m\u001b[43m \u001b[49m\u001b[38;5;124;43m'\u001b[39;49m\u001b[38;5;124;43mGoodbye\u001b[39;49m\u001b[38;5;124;43m'\u001b[39;49m\u001b[43m)\u001b[49m\n",
      "\u001b[0;31mTypeError\u001b[0m: length() takes 1 positional argument but 2 were given"
     ]
    }
   ],
   "source": [
    "length('Hello', 'Goodbye')"
   ]
  },
  {
   "cell_type": "code",
   "execution_count": 21,
   "id": "e2bfbf28",
   "metadata": {},
   "outputs": [
    {
     "data": {
      "text/plain": [
       "2"
      ]
     },
     "execution_count": 21,
     "metadata": {},
     "output_type": "execute_result"
    }
   ],
   "source": [
    "length(['Hello', 'Goodbye'])"
   ]
  },
  {
   "cell_type": "code",
   "execution_count": 22,
   "id": "697e85e8",
   "metadata": {},
   "outputs": [
    {
     "ename": "TypeError",
     "evalue": "increment() missing 1 required positional argument: 'n'",
     "output_type": "error",
     "traceback": [
      "\u001b[0;31m---------------------------------------------------------------------------\u001b[0m",
      "\u001b[0;31mTypeError\u001b[0m                                 Traceback (most recent call last)",
      "Input \u001b[0;32mIn [22]\u001b[0m, in \u001b[0;36m<cell line: 1>\u001b[0;34m()\u001b[0m\n\u001b[0;32m----> 1\u001b[0m \u001b[43mincrement\u001b[49m\u001b[43m(\u001b[49m\u001b[43m)\u001b[49m\n",
      "\u001b[0;31mTypeError\u001b[0m: increment() missing 1 required positional argument: 'n'"
     ]
    }
   ],
   "source": [
    "increment()"
   ]
  },
  {
   "cell_type": "markdown",
   "id": "2eaa3e28",
   "metadata": {},
   "source": [
    "### Default Argument"
   ]
  },
  {
   "cell_type": "code",
   "execution_count": 54,
   "id": "974542f4",
   "metadata": {},
   "outputs": [],
   "source": [
    "def say_hello(greeting = 'Hello', name = 'User!'):\n",
    "    '''\n",
    "    Docstring NOTES GO HERE\n",
    "    '''\n",
    "    print(greeting, name)"
   ]
  },
  {
   "cell_type": "code",
   "execution_count": 30,
   "id": "67d5c230",
   "metadata": {},
   "outputs": [
    {
     "name": "stdout",
     "output_type": "stream",
     "text": [
      "Hello User!\n"
     ]
    }
   ],
   "source": [
    "say_hello()"
   ]
  },
  {
   "cell_type": "code",
   "execution_count": 31,
   "id": "1e00b02a",
   "metadata": {},
   "outputs": [
    {
     "name": "stdout",
     "output_type": "stream",
     "text": [
      "Salutations Justin\n"
     ]
    }
   ],
   "source": [
    "say_hello('Salutations', 'Justin')"
   ]
  },
  {
   "cell_type": "code",
   "execution_count": 33,
   "id": "c5215e53",
   "metadata": {},
   "outputs": [
    {
     "name": "stdout",
     "output_type": "stream",
     "text": [
      "Salutations User!\n"
     ]
    }
   ],
   "source": [
    "say_hello('Salutations')"
   ]
  },
  {
   "cell_type": "code",
   "execution_count": 32,
   "id": "600c4934",
   "metadata": {},
   "outputs": [
    {
     "ename": "SyntaxError",
     "evalue": "invalid syntax (279324934.py, line 1)",
     "output_type": "error",
     "traceback": [
      "\u001b[0;36m  Input \u001b[0;32mIn [32]\u001b[0;36m\u001b[0m\n\u001b[0;31m    say_hello(, 'Justin')\u001b[0m\n\u001b[0m              ^\u001b[0m\n\u001b[0;31mSyntaxError\u001b[0m\u001b[0;31m:\u001b[0m invalid syntax\n"
     ]
    }
   ],
   "source": [
    "say_hello(, 'Justin')"
   ]
  },
  {
   "cell_type": "markdown",
   "id": "210d2bbb",
   "metadata": {},
   "source": [
    "### Keyword Arguments"
   ]
  },
  {
   "cell_type": "code",
   "execution_count": 34,
   "id": "892a6f0d",
   "metadata": {},
   "outputs": [
    {
     "name": "stdout",
     "output_type": "stream",
     "text": [
      "Hello Justin\n"
     ]
    }
   ],
   "source": [
    "say_hello(name = 'Justin')"
   ]
  },
  {
   "cell_type": "code",
   "execution_count": 39,
   "id": "18958bc5",
   "metadata": {},
   "outputs": [
    {
     "ename": "SyntaxError",
     "evalue": "positional argument follows keyword argument (2669740253.py, line 1)",
     "output_type": "error",
     "traceback": [
      "\u001b[0;36m  Input \u001b[0;32mIn [39]\u001b[0;36m\u001b[0m\n\u001b[0;31m    say_hello(greeting='Salutations','Justin')\u001b[0m\n\u001b[0m                                             ^\u001b[0m\n\u001b[0;31mSyntaxError\u001b[0m\u001b[0;31m:\u001b[0m positional argument follows keyword argument\n"
     ]
    }
   ],
   "source": [
    "say_hello(greeting='Salutations','Justin')"
   ]
  },
  {
   "cell_type": "code",
   "execution_count": 45,
   "id": "c28176bc",
   "metadata": {},
   "outputs": [],
   "source": [
    "def print_multiple(thing1='Empty', \n",
    "                   thing2='Empty', \n",
    "                   thing3='Empty', \n",
    "                   thing4='Empty', \n",
    "                   thing5='Empty'):\n",
    "\n",
    "    list_of_things = (thing1, thing2, thing3, thing4, thing5)\n",
    "\n",
    "    for thing in list_of_things:\n",
    "        print(thing)"
   ]
  },
  {
   "cell_type": "code",
   "execution_count": 47,
   "id": "2018e0b5",
   "metadata": {},
   "outputs": [
    {
     "name": "stdout",
     "output_type": "stream",
     "text": [
      "Hello\n",
      "Me\n",
      "Empty\n",
      "I am tired\n",
      "Wow\n"
     ]
    }
   ],
   "source": [
    "print_multiple('Hello', 'Me', thing4='I am tired', thing5='Wow')"
   ]
  },
  {
   "cell_type": "code",
   "execution_count": 48,
   "id": "b8bc1552",
   "metadata": {},
   "outputs": [
    {
     "ename": "SyntaxError",
     "evalue": "positional argument follows keyword argument (2553706878.py, line 1)",
     "output_type": "error",
     "traceback": [
      "\u001b[0;36m  Input \u001b[0;32mIn [48]\u001b[0;36m\u001b[0m\n\u001b[0;31m    print_multiple('Hello', 'Me', thing4='I am tired', 'Wow')\u001b[0m\n\u001b[0m                                                            ^\u001b[0m\n\u001b[0;31mSyntaxError\u001b[0m\u001b[0;31m:\u001b[0m positional argument follows keyword argument\n"
     ]
    }
   ],
   "source": [
    "print_multiple('Hello', 'Me', thing4='I am tired', 'Wow')"
   ]
  },
  {
   "cell_type": "markdown",
   "id": "1215cbb1",
   "metadata": {},
   "source": [
    "#### *args (ARGuments)"
   ]
  },
  {
   "cell_type": "code",
   "execution_count": 49,
   "id": "fbc069ce",
   "metadata": {},
   "outputs": [
    {
     "name": "stdout",
     "output_type": "stream",
     "text": [
      "Greetings Justin\n"
     ]
    }
   ],
   "source": [
    "list_of_arguments = ['Greetings', 'Justin']\n",
    "say_hello(*list_of_arguments)"
   ]
  },
  {
   "cell_type": "markdown",
   "id": "4ee27d4d",
   "metadata": {},
   "source": [
    "#### **kwargs (Key Word ARGuments)"
   ]
  },
  {
   "cell_type": "code",
   "execution_count": 50,
   "id": "dd49f8df",
   "metadata": {},
   "outputs": [
    {
     "name": "stdout",
     "output_type": "stream",
     "text": [
      "Greetings Justin\n"
     ]
    }
   ],
   "source": [
    "dict_of_arguments = {\n",
    "    'greeting': 'Greetings',\n",
    "    'name': 'Justin'\n",
    "}\n",
    "\n",
    "say_hello(**dict_of_arguments)"
   ]
  },
  {
   "cell_type": "markdown",
   "id": "0a31e4b2",
   "metadata": {},
   "source": [
    "What's going on in the BG?"
   ]
  },
  {
   "cell_type": "code",
   "execution_count": 55,
   "id": "66c4661a",
   "metadata": {},
   "outputs": [],
   "source": [
    "say_hello?\n",
    "\"\"\"\n",
    "Signature: say_hello(greeting='Hello', name='User!')\n",
    "Docstring: Docstring NOTES GO HERE\n",
    "File:      /var/folders/x8/x12zllv954v785j2tdhggqrr0000gn/T/ipykernel_66807/2971894458.py\n",
    "Type:      function\n",
    "\"\"\""
   ]
  },
  {
   "cell_type": "code",
   "execution_count": 56,
   "id": "2b466cf2",
   "metadata": {},
   "outputs": [
    {
     "name": "stdout",
     "output_type": "stream",
     "text": [
      "dict_of_arguments\t hello\t increment\t length\t list_of_arguments\t print_multiple\t say_hello\t \n"
     ]
    }
   ],
   "source": [
    "%who\n",
    "# Every variable existing in the code so far"
   ]
  },
  {
   "cell_type": "markdown",
   "id": "f1f87fd7",
   "metadata": {},
   "source": [
    "Scope"
   ]
  },
  {
   "cell_type": "code",
   "execution_count": 57,
   "id": "49beb458",
   "metadata": {},
   "outputs": [
    {
     "name": "stdout",
     "output_type": "stream",
     "text": [
      "Inside the function 1\n",
      "Outside the function 1\n"
     ]
    }
   ],
   "source": [
    "number = 1\n",
    "def print_number():\n",
    "    print('Inside the function', number)\n",
    "    \n",
    "print_number()\n",
    "print('Outside the function', number)"
   ]
  },
  {
   "cell_type": "code",
   "execution_count": 62,
   "id": "5a516fc7",
   "metadata": {},
   "outputs": [
    {
     "name": "stdout",
     "output_type": "stream",
     "text": [
      "Outside Function 123\n",
      "Inside Function 7\n",
      "After the Function ran 123\n"
     ]
    }
   ],
   "source": [
    "n = 123\n",
    "\n",
    "def a_function():\n",
    "    n = 10\n",
    "    n = n - 3\n",
    "    print('Inside Function', n)\n",
    "\n",
    "print('Outside Function', n)\n",
    "a_function()\n",
    "print('After the Function ran', n)"
   ]
  },
  {
   "cell_type": "markdown",
   "id": "21839891",
   "metadata": {},
   "source": [
    "### Lamda Functions (single use)"
   ]
  },
  {
   "cell_type": "code",
   "execution_count": 63,
   "id": "a78d70e3",
   "metadata": {},
   "outputs": [
    {
     "data": {
      "text/plain": [
       "10"
      ]
     },
     "execution_count": 63,
     "metadata": {},
     "output_type": "execute_result"
    }
   ],
   "source": [
    "add_one = lambda n: n + 1\n",
    "add_one(9)"
   ]
  },
  {
   "cell_type": "code",
   "execution_count": 64,
   "id": "1f5ab93d",
   "metadata": {},
   "outputs": [
    {
     "data": {
      "text/plain": [
       "4"
      ]
     },
     "execution_count": 64,
     "metadata": {},
     "output_type": "execute_result"
    }
   ],
   "source": [
    "square_two = lambda n: n ** 2\n",
    "square_two(2)"
   ]
  },
  {
   "cell_type": "code",
   "execution_count": 65,
   "id": "ad42b1da",
   "metadata": {},
   "outputs": [
    {
     "data": {
      "text/plain": [
       "[2, 3, 4]"
      ]
     },
     "execution_count": 65,
     "metadata": {},
     "output_type": "execute_result"
    }
   ],
   "source": [
    "list(map(len, [(1,2), (3, 4, 5), (6, 7, 8, 9)]))"
   ]
  },
  {
   "cell_type": "code",
   "execution_count": 66,
   "id": "c1e072dc",
   "metadata": {},
   "outputs": [
    {
     "data": {
      "text/plain": [
       "[1, 4, 9, 16, 25, 36, 49, 64, 81, 100]"
      ]
     },
     "execution_count": 66,
     "metadata": {},
     "output_type": "execute_result"
    }
   ],
   "source": [
    "list_of_numbers = list(range(1,11))\n",
    "\n",
    "list(map(square_two, list_of_numbers))"
   ]
  },
  {
   "cell_type": "markdown",
   "id": "ae4af052",
   "metadata": {},
   "source": [
    "lambda is for creating and calling \n",
    "a function on the fly directly in place"
   ]
  },
  {
   "cell_type": "code",
   "execution_count": 67,
   "id": "65dba100",
   "metadata": {},
   "outputs": [
    {
     "data": {
      "text/plain": [
       "[1, 4, 9, 16, 25, 36, 49, 64, 81, 100]"
      ]
     },
     "execution_count": 67,
     "metadata": {},
     "output_type": "execute_result"
    }
   ],
   "source": [
    "list_of_numbers = list(range(1,11))\n",
    "\n",
    "list(map(lambda n: n ** 2, list_of_numbers))"
   ]
  },
  {
   "cell_type": "code",
   "execution_count": 68,
   "id": "e228e58a",
   "metadata": {},
   "outputs": [
    {
     "data": {
      "text/plain": [
       "10"
      ]
     },
     "execution_count": 68,
     "metadata": {},
     "output_type": "execute_result"
    }
   ],
   "source": [
    "add_one(5) + square_two(2)"
   ]
  },
  {
   "cell_type": "code",
   "execution_count": null,
   "id": "9077df58",
   "metadata": {},
   "outputs": [],
   "source": []
  }
 ],
 "metadata": {
  "kernelspec": {
   "display_name": "Python 3 (ipykernel)",
   "language": "python",
   "name": "python3"
  },
  "language_info": {
   "codemirror_mode": {
    "name": "ipython",
    "version": 3
   },
   "file_extension": ".py",
   "mimetype": "text/x-python",
   "name": "python",
   "nbconvert_exporter": "python",
   "pygments_lexer": "ipython3",
   "version": "3.9.12"
  }
 },
 "nbformat": 4,
 "nbformat_minor": 5
}
