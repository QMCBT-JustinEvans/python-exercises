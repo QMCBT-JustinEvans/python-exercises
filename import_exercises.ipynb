{
 "cells": [
  {
   "cell_type": "markdown",
   "id": "e1ade25c",
   "metadata": {},
   "source": [
    "## IMPORT EXERCISES\n",
    "\n",
    "You will need to use imports to complete each exercise; in addition, these exercises will strengthen your problem solving and python coding skills.\n",
    "\n",
    "You will be directed to create specific files in part 1, for the rest you may do your work in either import_exercises.py or import_exercises.ipynb."
   ]
  },
  {
   "cell_type": "markdown",
   "id": "5508d497",
   "metadata": {},
   "source": [
    "1. Import and test 3 of the functions from your functions exercise file. Import each function in a different way:\n",
    "\n",
    "#### Make sure your code that tests the function imports is run from the same directory that your functions exercise file is in."
   ]
  },
  {
   "cell_type": "markdown",
   "id": "88e65ade",
   "metadata": {},
   "source": [
    "    a. Run an interactive python session and import the module. \n",
    "       Call the is_vowel function using the . syntax."
   ]
  },
  {
   "cell_type": "code",
   "execution_count": null,
   "id": "a1a44eb0",
   "metadata": {},
   "outputs": [],
   "source": [
    "import function_exercises\n",
    "function_exercises.is_vowel('u')"
   ]
  },
  {
   "cell_type": "code",
   "execution_count": null,
   "id": "0cf9328e",
   "metadata": {},
   "outputs": [],
   "source": [
    "import function_exercises as FE\n",
    "fe.is_vowel('u')"
   ]
  },
  {
   "cell_type": "code",
   "execution_count": null,
   "id": "98faf86b",
   "metadata": {},
   "outputs": [],
   "source": [
    "from function_exercises import is_vowel\n",
    "is_vowel('u')"
   ]
  },
  {
   "cell_type": "markdown",
   "id": "3f043be7",
   "metadata": {},
   "source": [
    "    b. Create a file named import_exericses.py. \n",
    "       Within this file, use from to import the calculate_tip function directly. \n",
    "       Call this function with values you choose and print the result."
   ]
  },
  {
   "cell_type": "code",
   "execution_count": null,
   "id": "d50882f7",
   "metadata": {},
   "outputs": [],
   "source": [
    "from function_exercises import calculate_tip\n",
    "print('')\n",
    "print('')\n",
    "print('This is the answer to th import exercise.')\n",
    "print('')\n",
    "print('')\n",
    "calculate_tip(.10, 50.00)\n",
    "print('')\n",
    "print('')"
   ]
  },
  {
   "cell_type": "markdown",
   "id": "e8ef9ec1",
   "metadata": {},
   "source": [
    "    c. Create a jupyter notebook named import_exercises.ipynb. \n",
    "       Use from to import the get_letter_grade function and give it an alias. \n",
    "       Test this function in your notebook."
   ]
  },
  {
   "cell_type": "code",
   "execution_count": 4,
   "id": "543f2baf",
   "metadata": {},
   "outputs": [
    {
     "name": "stdout",
     "output_type": "stream",
     "text": [
      "C\n"
     ]
    }
   ],
   "source": [
    "from function_exercises import get_letter_grade as glg\n",
    "if __name__ == '__main__':\n",
    "    print(glg(75))"
   ]
  },
  {
   "cell_type": "markdown",
   "id": "cf8320da",
   "metadata": {},
   "source": [
    "2. Read about and use the itertools module from the python standard library to help you solve the following problems:\n",
    "\n",
    "* How many different ways can you combine the letters from \"abc\" with the numbers 1, 2, and 3?"
   ]
  },
  {
   "cell_type": "code",
   "execution_count": 24,
   "id": "6d59b494",
   "metadata": {},
   "outputs": [
    {
     "name": "stdout",
     "output_type": "stream",
     "text": [
      "9\n",
      "\n",
      "[('a', 1), ('a', 2), ('a', 3), ('b', 1), ('b', 2), ('b', 3), ('c', 1), ('c', 2), ('c', 3)]\n"
     ]
    }
   ],
   "source": [
    "#(a,1)(a,2)(a,3)(b,1)(b,2)(b,3)(c,1)(c,2)(c,3)\n",
    "\n",
    "from itertools import product\n",
    "print(len(list(product('abc', [1,2,3]))))\n",
    "print()\n",
    "print(list(product('abc', [1,2,3])))"
   ]
  },
  {
   "cell_type": "markdown",
   "id": "32595b40",
   "metadata": {},
   "source": [
    "* How many different combinations are there of 2 letters from \"abcd\"?"
   ]
  },
  {
   "cell_type": "code",
   "execution_count": 23,
   "id": "3151c0b1",
   "metadata": {},
   "outputs": [
    {
     "name": "stdout",
     "output_type": "stream",
     "text": [
      "6\n",
      "\n",
      "[('a', 'b'), ('a', 'c'), ('a', 'd'), ('b', 'c'), ('b', 'd'), ('c', 'd')]\n"
     ]
    }
   ],
   "source": [
    "#('a', 'b')('a', 'c')('a', 'd')('b', 'c')('b', 'd')('c', 'd')\n",
    "\n",
    "from itertools import combinations\n",
    "print(len(list(combinations('abcd', 2))))\n",
    "print()\n",
    "print(list(combinations('abcd', 2)))"
   ]
  },
  {
   "cell_type": "markdown",
   "id": "86f6649d",
   "metadata": {},
   "source": [
    "* How many different permutations are there of 2 letters from \"abcd\"?"
   ]
  },
  {
   "cell_type": "code",
   "execution_count": 22,
   "id": "e5e27f12",
   "metadata": {},
   "outputs": [
    {
     "name": "stdout",
     "output_type": "stream",
     "text": [
      "24\n",
      "\n",
      "[('a', 'b', 'c', 'd'), ('a', 'b', 'd', 'c'), ('a', 'c', 'b', 'd'), ('a', 'c', 'd', 'b'), ('a', 'd', 'b', 'c'), ('a', 'd', 'c', 'b'), ('b', 'a', 'c', 'd'), ('b', 'a', 'd', 'c'), ('b', 'c', 'a', 'd'), ('b', 'c', 'd', 'a'), ('b', 'd', 'a', 'c'), ('b', 'd', 'c', 'a'), ('c', 'a', 'b', 'd'), ('c', 'a', 'd', 'b'), ('c', 'b', 'a', 'd'), ('c', 'b', 'd', 'a'), ('c', 'd', 'a', 'b'), ('c', 'd', 'b', 'a'), ('d', 'a', 'b', 'c'), ('d', 'a', 'c', 'b'), ('d', 'b', 'a', 'c'), ('d', 'b', 'c', 'a'), ('d', 'c', 'a', 'b'), ('d', 'c', 'b', 'a')]\n"
     ]
    }
   ],
   "source": [
    "#('abcd')('acdb')('adbc')    *missed - ('abdc')('acbd')('adcb')\n",
    "#('bcda')('bdac')('bacd')    *missed - ('bcad')('bdca')('badc') \n",
    "#('cdab')('cabd')('cbda')    *missed - ('cdba')('cadb')('cbad')\n",
    "#('dabc')('dbca')('dcab')    *missed - ('dacb')('dbac')('dcba')\n",
    "\n",
    "from itertools import permutations as p\n",
    "print(len(list(p('abcd'))))\n",
    "print()\n",
    "print(list(p('abcd')))"
   ]
  },
  {
   "cell_type": "markdown",
   "id": "9d9ffce9",
   "metadata": {},
   "source": [
    "### 3. Save this file as profiles.json inside of your exercises directory (right click -> save file as...).\n",
    "\n",
    "Use the load function from the json module to open this file.\n",
    "\n",
    "```python\n",
    "import json\n",
    "\n",
    "json.load(open('profiles.json'))\n",
    "```\n",
    "\n",
    "Your code should produce a list of dictionaries. Using this data, write some code that calculates and outputs the following information:"
   ]
  },
  {
   "cell_type": "markdown",
   "id": "3ebe47d1",
   "metadata": {},
   "source": [
    "* Total number of users\n",
    "* Number of active users\n",
    "* Number of inactive users\n",
    "* Grand total of balances for all users\n",
    "* Average balance per user\n",
    "* User with the lowest balance\n",
    "* User with the highest balance\n",
    "* Most common favorite fruit\n",
    "* Least most common favorite fruit\n",
    "* Total number of unread messages for all users"
   ]
  },
  {
   "cell_type": "code",
   "execution_count": null,
   "id": "4594c673",
   "metadata": {},
   "outputs": [],
   "source": []
  },
  {
   "cell_type": "markdown",
   "id": "dbca48e0",
   "metadata": {},
   "source": [
    "* Total number of users"
   ]
  },
  {
   "cell_type": "code",
   "execution_count": null,
   "id": "362c8357",
   "metadata": {},
   "outputs": [],
   "source": []
  },
  {
   "cell_type": "markdown",
   "id": "0dd688cd",
   "metadata": {},
   "source": [
    "* Number of active users"
   ]
  },
  {
   "cell_type": "code",
   "execution_count": null,
   "id": "262344ab",
   "metadata": {},
   "outputs": [],
   "source": []
  },
  {
   "cell_type": "markdown",
   "id": "806f19b6",
   "metadata": {},
   "source": [
    "* Number of inactive users"
   ]
  },
  {
   "cell_type": "code",
   "execution_count": null,
   "id": "f747a1e4",
   "metadata": {},
   "outputs": [],
   "source": []
  },
  {
   "cell_type": "markdown",
   "id": "d1b3dfff",
   "metadata": {},
   "source": [
    "* Grand total of balances for all users"
   ]
  },
  {
   "cell_type": "code",
   "execution_count": null,
   "id": "aaaedab3",
   "metadata": {},
   "outputs": [],
   "source": []
  },
  {
   "cell_type": "markdown",
   "id": "73266935",
   "metadata": {},
   "source": [
    "* Average balance per user"
   ]
  },
  {
   "cell_type": "code",
   "execution_count": null,
   "id": "7f9e0fa3",
   "metadata": {},
   "outputs": [],
   "source": []
  },
  {
   "cell_type": "markdown",
   "id": "ba76e50d",
   "metadata": {},
   "source": [
    "* User with the lowest balance"
   ]
  },
  {
   "cell_type": "code",
   "execution_count": null,
   "id": "c4c9078c",
   "metadata": {},
   "outputs": [],
   "source": []
  },
  {
   "cell_type": "markdown",
   "id": "3f9f7890",
   "metadata": {},
   "source": [
    "* User with the highest balance"
   ]
  },
  {
   "cell_type": "code",
   "execution_count": null,
   "id": "9d0833fa",
   "metadata": {},
   "outputs": [],
   "source": []
  },
  {
   "cell_type": "markdown",
   "id": "932b4dd9",
   "metadata": {},
   "source": [
    "* Most common favorite fruit"
   ]
  },
  {
   "cell_type": "code",
   "execution_count": null,
   "id": "d6bae9a6",
   "metadata": {},
   "outputs": [],
   "source": []
  },
  {
   "cell_type": "markdown",
   "id": "5a9c11c1",
   "metadata": {},
   "source": [
    "* Least most common favorite fruit"
   ]
  },
  {
   "cell_type": "code",
   "execution_count": null,
   "id": "356490f0",
   "metadata": {},
   "outputs": [],
   "source": []
  },
  {
   "cell_type": "markdown",
   "id": "50c2b380",
   "metadata": {},
   "source": [
    "* Total number of unread messages for all users"
   ]
  },
  {
   "cell_type": "code",
   "execution_count": null,
   "id": "a7ec0a12",
   "metadata": {},
   "outputs": [],
   "source": []
  }
 ],
 "metadata": {
  "kernelspec": {
   "display_name": "Python 3 (ipykernel)",
   "language": "python",
   "name": "python3"
  },
  "language_info": {
   "codemirror_mode": {
    "name": "ipython",
    "version": 3
   },
   "file_extension": ".py",
   "mimetype": "text/x-python",
   "name": "python",
   "nbconvert_exporter": "python",
   "pygments_lexer": "ipython3",
   "version": "3.9.12"
  }
 },
 "nbformat": 4,
 "nbformat_minor": 5
}
