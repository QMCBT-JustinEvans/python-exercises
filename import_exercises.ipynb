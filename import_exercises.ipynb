{
 "cells": [
  {
   "cell_type": "markdown",
   "id": "9573353b",
   "metadata": {},
   "source": [
    "## IMPORT EXERCISES\n",
    "\n",
    "You will need to use imports to complete each exercise; in addition, these exercises will strengthen your problem solving and python coding skills.\n",
    "\n",
    "You will be directed to create specific files in part 1, for the rest you may do your work in either import_exercises.py or import_exercises.ipynb."
   ]
  },
  {
   "cell_type": "markdown",
   "id": "e12b5f63",
   "metadata": {},
   "source": [
    "1. Import and test 3 of the functions from your functions exercise file. Import each function in a different way:\n",
    "\n",
    "#### Make sure your code that tests the function imports is run from the same directory that your functions exercise file is in."
   ]
  },
  {
   "cell_type": "markdown",
   "id": "d6926ab1",
   "metadata": {},
   "source": [
    "    a. Run an interactive python session and import the module. \n",
    "       Call the is_vowel function using the . syntax."
   ]
  },
  {
   "cell_type": "code",
   "execution_count": null,
   "id": "3ab86fff",
   "metadata": {},
   "outputs": [],
   "source": [
    "import function_exercises\n",
    "function_exercises.is_vowel('u')"
   ]
  },
  {
   "cell_type": "code",
   "execution_count": null,
   "id": "1ae7fe62",
   "metadata": {},
   "outputs": [],
   "source": [
    "import function_exercises as FE\n",
    "fe.is_vowel('u')"
   ]
  },
  {
   "cell_type": "code",
   "execution_count": null,
   "id": "2675b642",
   "metadata": {},
   "outputs": [],
   "source": [
    "from function_exercises import is_vowel\n",
    "is_vowel('u')"
   ]
  },
  {
   "cell_type": "markdown",
   "id": "d7602387",
   "metadata": {},
   "source": [
    "    b. Create a file named import_exericses.py. \n",
    "       Within this file, use from to import the calculate_tip function directly. \n",
    "       Call this function with values you choose and print the result."
   ]
  },
  {
   "cell_type": "code",
   "execution_count": null,
   "id": "55c8f220",
   "metadata": {},
   "outputs": [],
   "source": [
    "from function_exercises import calculate_tip\n",
    "print('')\n",
    "print('')\n",
    "print('This is the answer to th import exercise.')\n",
    "print('')\n",
    "print('')\n",
    "calculate_tip(.10, 50.00)\n",
    "print('')\n",
    "print('')"
   ]
  },
  {
   "cell_type": "markdown",
   "id": "6971aa4a",
   "metadata": {},
   "source": [
    "    c. Create a jupyter notebook named import_exercises.ipynb. \n",
    "       Use from to import the get_letter_grade function and give it an alias. \n",
    "       Test this function in your notebook."
   ]
  },
  {
   "cell_type": "code",
   "execution_count": 4,
   "id": "8f5e4763",
   "metadata": {},
   "outputs": [
    {
     "name": "stdout",
     "output_type": "stream",
     "text": [
      "C\n"
     ]
    }
   ],
   "source": [
    "from function_exercises import get_letter_grade as glg\n",
    "if __name__ == '__main__':\n",
    "    print(glg(75))"
   ]
  },
  {
   "cell_type": "markdown",
   "id": "dc63b4d5",
   "metadata": {},
   "source": [
    "2. Read about and use the itertools module from the python standard library to help you solve the following problems:\n",
    "\n",
    "* How many different ways can you combine the letters from \"abc\" with the numbers 1, 2, and 3?"
   ]
  },
  {
   "cell_type": "code",
   "execution_count": 24,
   "id": "3494d058",
   "metadata": {},
   "outputs": [
    {
     "name": "stdout",
     "output_type": "stream",
     "text": [
      "9\n",
      "\n",
      "[('a', 1), ('a', 2), ('a', 3), ('b', 1), ('b', 2), ('b', 3), ('c', 1), ('c', 2), ('c', 3)]\n"
     ]
    }
   ],
   "source": [
    "#(a,1)(a,2)(a,3)(b,1)(b,2)(b,3)(c,1)(c,2)(c,3)\n",
    "\n",
    "from itertools import product\n",
    "print(len(list(product('abc', [1,2,3]))))\n",
    "print()\n",
    "print(list(product('abc', [1,2,3])))"
   ]
  },
  {
   "cell_type": "markdown",
   "id": "9fe39f53",
   "metadata": {},
   "source": [
    "* How many different combinations are there of 2 letters from \"abcd\"?"
   ]
  },
  {
   "cell_type": "code",
   "execution_count": 23,
   "id": "b1927f4e",
   "metadata": {},
   "outputs": [
    {
     "name": "stdout",
     "output_type": "stream",
     "text": [
      "6\n",
      "\n",
      "[('a', 'b'), ('a', 'c'), ('a', 'd'), ('b', 'c'), ('b', 'd'), ('c', 'd')]\n"
     ]
    }
   ],
   "source": [
    "#('a', 'b')('a', 'c')('a', 'd')('b', 'c')('b', 'd')('c', 'd')\n",
    "# Order doesn't matter in combination; ('a', 'b') = ('b', 'a')\n",
    "\n",
    "from itertools import combinations\n",
    "print(len(list(combinations('abcd', 2))))\n",
    "print()\n",
    "print(list(combinations('abcd', 2)))"
   ]
  },
  {
   "cell_type": "markdown",
   "id": "01f81afa",
   "metadata": {},
   "source": [
    "* How many different permutations are there of 2 letters from \"abcd\"?"
   ]
  },
  {
   "cell_type": "code",
   "execution_count": 22,
   "id": "8f95cd7d",
   "metadata": {},
   "outputs": [
    {
     "name": "stdout",
     "output_type": "stream",
     "text": [
      "24\n",
      "\n",
      "[('a', 'b', 'c', 'd'), ('a', 'b', 'd', 'c'), ('a', 'c', 'b', 'd'), ('a', 'c', 'd', 'b'), ('a', 'd', 'b', 'c'), ('a', 'd', 'c', 'b'), ('b', 'a', 'c', 'd'), ('b', 'a', 'd', 'c'), ('b', 'c', 'a', 'd'), ('b', 'c', 'd', 'a'), ('b', 'd', 'a', 'c'), ('b', 'd', 'c', 'a'), ('c', 'a', 'b', 'd'), ('c', 'a', 'd', 'b'), ('c', 'b', 'a', 'd'), ('c', 'b', 'd', 'a'), ('c', 'd', 'a', 'b'), ('c', 'd', 'b', 'a'), ('d', 'a', 'b', 'c'), ('d', 'a', 'c', 'b'), ('d', 'b', 'a', 'c'), ('d', 'b', 'c', 'a'), ('d', 'c', 'a', 'b'), ('d', 'c', 'b', 'a')]\n"
     ]
    }
   ],
   "source": [
    "#('abcd')('acdb')('adbc')    *missed - ('abdc')('acbd')('adcb')\n",
    "#('bcda')('bdac')('bacd')    *missed - ('bcad')('bdca')('badc') \n",
    "#('cdab')('cabd')('cbda')    *missed - ('cdba')('cadb')('cbad')\n",
    "#('dabc')('dbca')('dcab')    *missed - ('dacb')('dbac')('dcba')\n",
    "# Order DOES matter in permutations; ('a', 'b') != ('b', 'a'); they are two separat things!\n",
    "\n",
    "from itertools import permutations as p\n",
    "print(len(list(p('abcd'))))\n",
    "print()\n",
    "print(list(p('abcd')))"
   ]
  },
  {
   "cell_type": "markdown",
   "id": "e4ea0431",
   "metadata": {},
   "source": [
    "### 3. Save this file as profiles.json inside of your exercises directory (right click -> save file as...).\n",
    "\n",
    "Use the load function from the json module to open this file."
   ]
  },
  {
   "cell_type": "code",
   "execution_count": 35,
   "id": "7674f095",
   "metadata": {},
   "outputs": [],
   "source": [
    "import json"
   ]
  },
  {
   "cell_type": "code",
   "execution_count": 41,
   "id": "bdb82cdf",
   "metadata": {},
   "outputs": [],
   "source": [
    "profiles = json.load(open('profiles.json'))"
   ]
  },
  {
   "cell_type": "markdown",
   "id": "f2194dfc",
   "metadata": {},
   "source": [
    "Your code should produce a list of dictionaries. Using this data, write some code that calculates and outputs the following information:\n",
    "\n",
    "* Total number of users\n",
    "* Number of active users\n",
    "* Number of inactive users\n",
    "* Grand total of balances for all users\n",
    "* Average balance per user\n",
    "* User with the lowest balance\n",
    "* User with the highest balance\n",
    "* Most common favorite fruit\n",
    "* Least most common favorite fruit\n",
    "* Total number of unread messages for all users"
   ]
  },
  {
   "cell_type": "markdown",
   "id": "3e99e2f8",
   "metadata": {},
   "source": [
    "* Total number of users"
   ]
  },
  {
   "cell_type": "code",
   "execution_count": 42,
   "id": "7b456829",
   "metadata": {},
   "outputs": [
    {
     "data": {
      "text/plain": [
       "19"
      ]
     },
     "execution_count": 42,
     "metadata": {},
     "output_type": "execute_result"
    }
   ],
   "source": [
    "len(profiles)"
   ]
  },
  {
   "cell_type": "markdown",
   "id": "5fb00153",
   "metadata": {},
   "source": [
    "* Number of active users"
   ]
  },
  {
   "cell_type": "code",
   "execution_count": 45,
   "id": "c066c29c",
   "metadata": {},
   "outputs": [
    {
     "name": "stdout",
     "output_type": "stream",
     "text": [
      "9\n"
     ]
    }
   ],
   "source": [
    "count = 0\n",
    "for profile in profiles:\n",
    "    if profile['isActive'] == True:\n",
    "        count += 1\n",
    "        \n",
    "print(count) #9"
   ]
  },
  {
   "cell_type": "markdown",
   "id": "7cc13718",
   "metadata": {},
   "source": [
    "* Number of inactive users"
   ]
  },
  {
   "cell_type": "code",
   "execution_count": 48,
   "id": "6a2058b7",
   "metadata": {},
   "outputs": [
    {
     "name": "stdout",
     "output_type": "stream",
     "text": [
      "10\n"
     ]
    }
   ],
   "source": [
    "count = 0\n",
    "\n",
    "for profile in profiles:\n",
    "    if profile['isActive'] == False:\n",
    "        count += 1\n",
    "        \n",
    "print(count) #10"
   ]
  },
  {
   "cell_type": "markdown",
   "id": "90ca3808",
   "metadata": {},
   "source": [
    "* Grand total of balances for all users"
   ]
  },
  {
   "cell_type": "code",
   "execution_count": 49,
   "id": "9e7cffad",
   "metadata": {},
   "outputs": [
    {
     "data": {
      "text/plain": [
       "'2227.79'"
      ]
     },
     "execution_count": 49,
     "metadata": {},
     "output_type": "execute_result"
    }
   ],
   "source": [
    "profile ['balance'].strip('$').replace(',','')\n",
    "#2227.79"
   ]
  },
  {
   "cell_type": "markdown",
   "id": "3d06fc11",
   "metadata": {},
   "source": [
    "* Average balance per user"
   ]
  },
  {
   "cell_type": "code",
   "execution_count": 51,
   "id": "591d84b3",
   "metadata": {},
   "outputs": [
    {
     "name": "stdout",
     "output_type": "stream",
     "text": [
      "52667.02\n"
     ]
    }
   ],
   "source": [
    "grand_total = 0\n",
    "\n",
    "for profile in profiles:\n",
    "    user_balance = float(profile['balance'].strip('$').replace(',', ''))\n",
    "    grand_total = grand_total + user_balance\n",
    "    \n",
    "print(grand_total)\n",
    "#52667.02"
   ]
  },
  {
   "cell_type": "code",
   "execution_count": 52,
   "id": "55e234bd",
   "metadata": {},
   "outputs": [
    {
     "data": {
      "text/plain": [
       "2771.95"
      ]
     },
     "execution_count": 52,
     "metadata": {},
     "output_type": "execute_result"
    }
   ],
   "source": [
    "round(grand_total / len(profiles),2)\n",
    "#2771.95"
   ]
  },
  {
   "cell_type": "markdown",
   "id": "2ed3ea6b",
   "metadata": {},
   "source": [
    "* User with the lowest balance"
   ]
  },
  {
   "cell_type": "code",
   "execution_count": 59,
   "id": "0440b186",
   "metadata": {},
   "outputs": [
    {
     "name": "stdout",
     "output_type": "stream",
     "text": [
      "2097.02\n",
      "3654.02\n",
      "1536.02\n",
      "3919.64\n",
      "3681.39\n",
      "1694.42\n",
      "1214.10\n",
      "2930.31\n",
      "1944.15\n",
      "2839.22\n",
      "2467.31\n",
      "3304.99\n",
      "3844.42\n",
      "3594.99\n",
      "2940.24\n",
      "3062.41\n",
      "3067.82\n",
      "2646.76\n",
      "2227.79\n"
     ]
    }
   ],
   "source": [
    "balance_is = []\n",
    "\n",
    "for profile in profiles:\n",
    "    user_balance = profile['balance'].strip('$').replace(',', '')\n",
    "    print(user_balance)\n",
    "    balance_is.append(user_balance)"
   ]
  },
  {
   "cell_type": "code",
   "execution_count": 60,
   "id": "73d1e760",
   "metadata": {},
   "outputs": [
    {
     "data": {
      "text/plain": [
       "['2097.02',\n",
       " '3654.02',\n",
       " '1536.02',\n",
       " '3919.64',\n",
       " '3681.39',\n",
       " '1694.42',\n",
       " '1214.10',\n",
       " '2930.31',\n",
       " '1944.15',\n",
       " '2839.22',\n",
       " '2467.31',\n",
       " '3304.99',\n",
       " '3844.42',\n",
       " '3594.99',\n",
       " '2940.24',\n",
       " '3062.41',\n",
       " '3067.82',\n",
       " '2646.76',\n",
       " '2227.79']"
      ]
     },
     "execution_count": 60,
     "metadata": {},
     "output_type": "execute_result"
    }
   ],
   "source": [
    "balance_is"
   ]
  },
  {
   "cell_type": "code",
   "execution_count": 55,
   "id": "55659061",
   "metadata": {
    "scrolled": true
   },
   "outputs": [
    {
     "data": {
      "text/plain": [
       "1214.1"
      ]
     },
     "execution_count": 55,
     "metadata": {},
     "output_type": "execute_result"
    }
   ],
   "source": [
    "min(balance_is)\n",
    "#1214.10"
   ]
  },
  {
   "cell_type": "code",
   "execution_count": 61,
   "id": "86848710",
   "metadata": {},
   "outputs": [
    {
     "name": "stdout",
     "output_type": "stream",
     "text": [
      "User Avery Flynn has the least amount of cash: $1,214.10\n"
     ]
    }
   ],
   "source": [
    "for profile in profiles:\n",
    "    if profile['balance'].strip('$').replace(',', '') == min(balance_is):\n",
    "        print(f'User {profile[\"name\"]} has the least amount of cash: {profile[\"balance\"]}')"
   ]
  },
  {
   "cell_type": "markdown",
   "id": "f982d324",
   "metadata": {},
   "source": [
    "* User with the highest balance"
   ]
  },
  {
   "cell_type": "code",
   "execution_count": 66,
   "id": "190503fa",
   "metadata": {},
   "outputs": [
    {
     "name": "stdout",
     "output_type": "stream",
     "text": [
      "user Fay Hammond has the most amount of cash: $3,919.64\n"
     ]
    }
   ],
   "source": [
    "for profile in profiles:\n",
    "    if profile['balance'].strip('$').replace(',', '') == max(balance_is):\n",
    "        print(f\"user {profile['name']} has the most amount of cash: {profile['balance']}\")"
   ]
  },
  {
   "cell_type": "markdown",
   "id": "3e9cb101",
   "metadata": {},
   "source": [
    "* Most common favorite fruit"
   ]
  },
  {
   "cell_type": "code",
   "execution_count": 68,
   "id": "927fda88",
   "metadata": {},
   "outputs": [
    {
     "name": "stdout",
     "output_type": "stream",
     "text": [
      "strawberry\n",
      "apple\n",
      "banana\n",
      "banana\n",
      "apple\n",
      "apple\n",
      "banana\n",
      "strawberry\n",
      "strawberry\n",
      "banana\n",
      "strawberry\n",
      "strawberry\n",
      "apple\n",
      "strawberry\n",
      "strawberry\n",
      "banana\n",
      "strawberry\n",
      "banana\n",
      "strawberry\n"
     ]
    }
   ],
   "source": [
    "fruits = []\n",
    "\n",
    "for profile in profiles:\n",
    "    print(profile['favoriteFruit'])\n",
    "    fruits.append(profile['favoriteFruit'])"
   ]
  },
  {
   "cell_type": "code",
   "execution_count": 69,
   "id": "da889913",
   "metadata": {},
   "outputs": [
    {
     "data": {
      "text/plain": [
       "{'apple', 'banana', 'strawberry'}"
      ]
     },
     "execution_count": 69,
     "metadata": {},
     "output_type": "execute_result"
    }
   ],
   "source": [
    "set(fruits)"
   ]
  },
  {
   "cell_type": "code",
   "execution_count": 74,
   "id": "9ef7760a",
   "metadata": {},
   "outputs": [
    {
     "data": {
      "text/plain": [
       "9"
      ]
     },
     "execution_count": 74,
     "metadata": {},
     "output_type": "execute_result"
    }
   ],
   "source": [
    "fruits.count('strawberry')"
   ]
  },
  {
   "cell_type": "code",
   "execution_count": 71,
   "id": "c9dbe49b",
   "metadata": {},
   "outputs": [
    {
     "data": {
      "text/plain": [
       "'strawberry'"
      ]
     },
     "execution_count": 71,
     "metadata": {},
     "output_type": "execute_result"
    }
   ],
   "source": [
    "max(fruits, key=fruits.count)\n",
    "# must be list not dictionary"
   ]
  },
  {
   "cell_type": "markdown",
   "id": "cbf02cee",
   "metadata": {},
   "source": [
    "* Least most common favorite fruit\n",
    "\n",
    "CLEANER RESULT:"
   ]
  },
  {
   "cell_type": "code",
   "execution_count": 72,
   "id": "cda18138",
   "metadata": {},
   "outputs": [
    {
     "data": {
      "text/plain": [
       "4"
      ]
     },
     "execution_count": 72,
     "metadata": {},
     "output_type": "execute_result"
    }
   ],
   "source": [
    "least_liked = min(fruits, key=fruits.count)\n",
    "fruits.count(least_liked)"
   ]
  },
  {
   "cell_type": "markdown",
   "id": "17106bc7",
   "metadata": {},
   "source": [
    "* Total number of unread messages for all users"
   ]
  },
  {
   "cell_type": "code",
   "execution_count": 75,
   "id": "91530d9b",
   "metadata": {},
   "outputs": [],
   "source": [
    "message = profile['greeting'].split(' ')"
   ]
  },
  {
   "cell_type": "code",
   "execution_count": 76,
   "id": "a3aa3e9e",
   "metadata": {},
   "outputs": [
    {
     "data": {
      "text/plain": [
       "['Hello,', 'Ewing', 'Larson!', 'You', 'have', '16', 'unread', 'messages.']"
      ]
     },
     "execution_count": 76,
     "metadata": {},
     "output_type": "execute_result"
    }
   ],
   "source": [
    "message"
   ]
  },
  {
   "cell_type": "code",
   "execution_count": 77,
   "id": "5d795ead",
   "metadata": {},
   "outputs": [
    {
     "name": "stdout",
     "output_type": "stream",
     "text": [
      "This is a number:  16\n"
     ]
    }
   ],
   "source": [
    "for word in message:\n",
    "    if word.isdigit():\n",
    "        print('This is a number: ', word)"
   ]
  },
  {
   "cell_type": "code",
   "execution_count": 78,
   "id": "46042265",
   "metadata": {},
   "outputs": [
    {
     "data": {
      "text/plain": [
       "210"
      ]
     },
     "execution_count": 78,
     "metadata": {},
     "output_type": "execute_result"
    }
   ],
   "source": [
    "sum_messages = 0\n",
    "\n",
    "for profile in profiles:\n",
    "    message = profile['greeting'].split(' ')\n",
    "    for word in message:\n",
    "        if word.isdigit():\n",
    "            sum_messages = sum_messages + int(word)\n",
    "            \n",
    "sum_messages"
   ]
  }
 ],
 "metadata": {
  "kernelspec": {
   "display_name": "Python 3 (ipykernel)",
   "language": "python",
   "name": "python3"
  },
  "language_info": {
   "codemirror_mode": {
    "name": "ipython",
    "version": 3
   },
   "file_extension": ".py",
   "mimetype": "text/x-python",
   "name": "python",
   "nbconvert_exporter": "python",
   "pygments_lexer": "ipython3",
   "version": "3.9.12"
  }
 },
 "nbformat": 4,
 "nbformat_minor": 5
}
