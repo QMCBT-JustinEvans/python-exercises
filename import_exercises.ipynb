{
 "cells": [
  {
   "cell_type": "markdown",
   "id": "5bfa3f87",
   "metadata": {},
   "source": [
    "## IMPORT EXERCISES\n",
    "\n",
    "You will need to use imports to complete each exercise; in addition, these exercises will strengthen your problem solving and python coding skills.\n",
    "\n",
    "You will be directed to create specific files in part 1, for the rest you may do your work in either import_exercises.py or import_exercises.ipynb."
   ]
  },
  {
   "cell_type": "markdown",
   "id": "6c07e178",
   "metadata": {},
   "source": [
    "1. Import and test 3 of the functions from your functions exercise file. Import each function in a different way:\n",
    "\n",
    "#### Make sure your code that tests the function imports is run from the same directory that your functions exercise file is in."
   ]
  },
  {
   "cell_type": "markdown",
   "id": "4538bc3b",
   "metadata": {},
   "source": [
    "    a. Run an interactive python session and import the module. \n",
    "       Call the is_vowel function using the . syntax."
   ]
  },
  {
   "cell_type": "code",
   "execution_count": null,
   "id": "ed5e50a0",
   "metadata": {},
   "outputs": [],
   "source": [
    "import function_exercises\n",
    "function_exercises.is_vowel('u')"
   ]
  },
  {
   "cell_type": "code",
   "execution_count": null,
   "id": "57742f56",
   "metadata": {},
   "outputs": [],
   "source": [
    "import function_exercises as FE\n",
    "fe.is_vowel('u')"
   ]
  },
  {
   "cell_type": "code",
   "execution_count": null,
   "id": "b0aa1cc1",
   "metadata": {},
   "outputs": [],
   "source": [
    "from function_exercises import is_vowel\n",
    "is_vowel('u')"
   ]
  },
  {
   "cell_type": "markdown",
   "id": "c704bee4",
   "metadata": {},
   "source": [
    "    b. Create a file named import_exericses.py. \n",
    "       Within this file, use from to import the calculate_tip function directly. \n",
    "       Call this function with values you choose and print the result."
   ]
  },
  {
   "cell_type": "code",
   "execution_count": null,
   "id": "6bf73169",
   "metadata": {},
   "outputs": [],
   "source": [
    "from function_exercises import calculate_tip\n",
    "print('')\n",
    "print('')\n",
    "print('This is the answer to th import exercise.')\n",
    "print('')\n",
    "print('')\n",
    "calculate_tip(.10, 50.00)\n",
    "print('')\n",
    "print('')"
   ]
  },
  {
   "cell_type": "markdown",
   "id": "377c6822",
   "metadata": {},
   "source": [
    "    c. Create a jupyter notebook named import_exercises.ipynb. \n",
    "       Use from to import the get_letter_grade function and give it an alias. \n",
    "       Test this function in your notebook."
   ]
  },
  {
   "cell_type": "code",
   "execution_count": 4,
   "id": "17c4f2ff",
   "metadata": {},
   "outputs": [
    {
     "name": "stdout",
     "output_type": "stream",
     "text": [
      "C\n"
     ]
    }
   ],
   "source": [
    "from function_exercises import get_letter_grade as glg\n",
    "if __name__ == '__main__':\n",
    "    print(glg(75))"
   ]
  },
  {
   "cell_type": "markdown",
   "id": "f264fd95",
   "metadata": {},
   "source": [
    "2. Read about and use the itertools module from the python standard library to help you solve the following problems:\n",
    "\n",
    "* How many different ways can you combine the letters from \"abc\" with the numbers 1, 2, and 3?\n",
    "* How many different combinations are there of 2 letters from \"abcd\"?\n",
    "* How many different permutations are there of 2 letters from \"abcd\"?"
   ]
  },
  {
   "cell_type": "code",
   "execution_count": 12,
   "id": "102247ef",
   "metadata": {},
   "outputs": [
    {
     "data": {
      "text/plain": [
       "<itertools.combinations at 0x109639ae0>"
      ]
     },
     "execution_count": 12,
     "metadata": {},
     "output_type": "execute_result"
    }
   ],
   "source": [
    "#(1,2)(1,3)(2,3)\n",
    "#(a,b)(a,c)(b,c)\n",
    "#(a,1)(a,2)(a,3)(b,1)(b,2)(b,3)(c,1)(c,2)(c,3)\n",
    "\n",
    "from itertools import combinations\n",
    "iterables = [['a', 'b', 'c'], [1, 2, 3]]\n",
    "combinations(iterables, 2)"
   ]
  },
  {
   "cell_type": "markdown",
   "id": "2949be02",
   "metadata": {},
   "source": [
    "### 3. Save this file as profiles.json inside of your exercises directory (right click -> save file as...).\n",
    "\n",
    "Use the load function from the json module to open this file.\n",
    "\n",
    "```python\n",
    "import json\n",
    "\n",
    "json.load(open('profiles.json'))\n",
    "```\n",
    "\n",
    "Your code should produce a list of dictionaries. Using this data, write some code that calculates and outputs the following information:\n",
    "\n",
    "* Total number of users\n",
    "* Number of active users\n",
    "* Number of inactive users\n",
    "* Grand total of balances for all users\n",
    "* Average balance per user\n",
    "* User with the lowest balance\n",
    "* User with the highest balance\n",
    "* Most common favorite fruit\n",
    "* Least most common favorite fruit\n",
    "* Total number of unread messages for all users"
   ]
  },
  {
   "cell_type": "code",
   "execution_count": null,
   "id": "03f8113a",
   "metadata": {},
   "outputs": [],
   "source": []
  }
 ],
 "metadata": {
  "kernelspec": {
   "display_name": "Python 3 (ipykernel)",
   "language": "python",
   "name": "python3"
  },
  "language_info": {
   "codemirror_mode": {
    "name": "ipython",
    "version": 3
   },
   "file_extension": ".py",
   "mimetype": "text/x-python",
   "name": "python",
   "nbconvert_exporter": "python",
   "pygments_lexer": "ipython3",
   "version": "3.9.12"
  }
 },
 "nbformat": 4,
 "nbformat_minor": 5
}
